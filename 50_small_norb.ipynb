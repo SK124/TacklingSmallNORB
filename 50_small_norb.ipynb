{
  "nbformat": 4,
  "nbformat_minor": 0,
  "metadata": {
    "kernelspec": {
      "language": "python",
      "display_name": "Python 3",
      "name": "python3"
    },
    "language_info": {
      "name": "python",
      "version": "3.7.10",
      "mimetype": "text/x-python",
      "codemirror_mode": {
        "name": "ipython",
        "version": 3
      },
      "pygments_lexer": "ipython3",
      "nbconvert_exporter": "python",
      "file_extension": ".py"
    },
    "colab": {
      "name": "50-small-norb.ipynb",
      "provenance": [],
      "collapsed_sections": []
    }
  },
  "cells": [
    {
      "cell_type": "markdown",
      "metadata": {
        "id": "jqyreHeQGYj5"
      },
      "source": [
        "This code demonstrates how to load small NORB database into numpy array, it appeared to be non trivial task, because \".mat\" files is not a plain text as MNIST \".mat\".\n",
        "Code originated from\n",
        "https://jessicastringham.net/2018/05/03/smallnorb/\n",
        "in its turn, it based on\n",
        "https://github.com/ndrplz/small_norb\n",
        "I just adopted it for Kaggle."
      ]
    },
    {
      "cell_type": "code",
      "metadata": {
        "_uuid": "8f2839f25d086af736a60e9eeb907d3b93b6e0e5",
        "_cell_guid": "b1076dfc-b9ad-4769-8c92-a6c4dae69d19",
        "execution": {
          "iopub.status.busy": "2021-06-02T07:31:06.630875Z",
          "iopub.execute_input": "2021-06-02T07:31:06.631384Z",
          "iopub.status.idle": "2021-06-02T07:31:06.658460Z",
          "shell.execute_reply.started": "2021-06-02T07:31:06.631213Z",
          "shell.execute_reply": "2021-06-02T07:31:06.657527Z"
        },
        "trusted": true,
        "id": "7FlDC-_TGYj9",
        "outputId": "2675db71-e9b9-4138-e0a4-4e8af0da79fa"
      },
      "source": [
        "#show files\n",
        "import os\n",
        "for dirname, _, filenames in os.walk('/kaggle/input'):\n",
        "    for filename in filenames:\n",
        "        print(os.path.join(dirname, filename))"
      ],
      "execution_count": null,
      "outputs": [
        {
          "output_type": "stream",
          "text": [
            "/kaggle/input/the-small-norb-dataset-v10/smallnorb-5x46789x9x18x6x2x96x96-training-info.mat\n",
            "/kaggle/input/the-small-norb-dataset-v10/smallnorb-5x01235x9x18x6x2x96x96-testing-info.mat\n",
            "/kaggle/input/the-small-norb-dataset-v10/smallnorb-5x01235x9x18x6x2x96x96-testing-cat.mat\n",
            "/kaggle/input/the-small-norb-dataset-v10/smallnorb-5x01235x9x18x6x2x96x96-testing-dat.mat\n",
            "/kaggle/input/the-small-norb-dataset-v10/smallnorb-5x46789x9x18x6x2x96x96-training-dat.mat\n",
            "/kaggle/input/the-small-norb-dataset-v10/smallnorb-5x46789x9x18x6x2x96x96-training-cat.mat\n",
            "/kaggle/input/checkpoints/model100.0resnet18pretrained.pt\n",
            "/kaggle/input/checkpoints/finalmobilenet50.pt\n",
            "/kaggle/input/checkpoints/model99.98mobilenet50.pt\n"
          ],
          "name": "stdout"
        }
      ]
    },
    {
      "cell_type": "code",
      "metadata": {
        "execution": {
          "iopub.status.busy": "2021-06-02T07:31:06.659916Z",
          "iopub.execute_input": "2021-06-02T07:31:06.660245Z",
          "iopub.status.idle": "2021-06-02T07:31:10.160316Z",
          "shell.execute_reply.started": "2021-06-02T07:31:06.660211Z",
          "shell.execute_reply": "2021-06-02T07:31:10.159464Z"
        },
        "trusted": true,
        "id": "bA-HXSo2GYj-"
      },
      "source": [
        "import os\n",
        "import cv2\n",
        "import wandb\n",
        "import time\n",
        "import torch\n",
        "import torch.nn as nn\n",
        "import numpy as np\n",
        "import torchvision\n",
        "import matplotlib\n",
        "import matplotlib.pyplot as plt\n",
        "import albumentations as A\n",
        "import torch.optim as optim\n",
        "from torchvision import transforms\n",
        "from torch.utils.data import Dataset, DataLoader\n",
        "from pathlib import Path\n",
        "from albumentations.pytorch import ToTensorV2\n",
        "import torch.nn.functional as F\n",
        "from tqdm.auto import tqdm"
      ],
      "execution_count": null,
      "outputs": []
    },
    {
      "cell_type": "code",
      "metadata": {
        "execution": {
          "iopub.status.busy": "2021-06-02T07:31:10.163669Z",
          "iopub.execute_input": "2021-06-02T07:31:10.163927Z",
          "iopub.status.idle": "2021-06-02T07:31:10.183792Z",
          "shell.execute_reply.started": "2021-06-02T07:31:10.163902Z",
          "shell.execute_reply": "2021-06-02T07:31:10.182987Z"
        },
        "trusted": true,
        "id": "5NTdmiJKGYj_",
        "outputId": "a6caa34f-49be-49b5-80c4-cefe84803e18"
      },
      "source": [
        "torch.manual_seed(42)\n"
      ],
      "execution_count": null,
      "outputs": [
        {
          "output_type": "execute_result",
          "data": {
            "text/plain": [
              "<torch._C.Generator at 0x7efcefd9a2f0>"
            ]
          },
          "metadata": {
            "tags": []
          },
          "execution_count": 3
        }
      ]
    },
    {
      "cell_type": "code",
      "metadata": {
        "execution": {
          "iopub.status.busy": "2021-06-02T07:31:10.188235Z",
          "iopub.execute_input": "2021-06-02T07:31:10.188542Z",
          "iopub.status.idle": "2021-06-02T07:31:17.462374Z",
          "shell.execute_reply.started": "2021-06-02T07:31:10.188507Z",
          "shell.execute_reply": "2021-06-02T07:31:17.461499Z"
        },
        "trusted": true,
        "id": "FoHY1q6SGYkA",
        "outputId": "2eb5e1b5-434d-483a-8d55-82f18f77772d"
      },
      "source": [
        "# https://jessicastringham.net/2018/05/03/smallnorb/\n",
        "import numpy as np\n",
        "import struct\n",
        "\n",
        "DATA_FOLDER = \"/kaggle/input/the-small-norb-dataset-v10/\"\n",
        "\n",
        "PREFIXES = {\n",
        "    'train': 'smallnorb-5x46789x9x18x6x2x96x96-training-',\n",
        "    'test': 'smallnorb-5x01235x9x18x6x2x96x96-testing-',\n",
        "}\n",
        "\n",
        "FILE_TYPES = ['info', 'cat', 'dat']\n",
        "\n",
        "# helper function to read int from file\n",
        "def read_int(f):\n",
        "    num, = struct.unpack('i', f.read(4))\n",
        "    return num\n",
        "\n",
        "\n",
        "# From https://cs.nyu.edu/~ylclab/data/norb-v1.0-small/ \n",
        "# \"The magic number encodes the element type of the matrix\"\n",
        "# Note: I only copied over the ones I needed for these files.\n",
        "map_magic_number_to_data_type = {\n",
        "    '1e3d4c55': np.uint8,\n",
        "    '1e3d4c54': np.int32,\n",
        "}\n",
        "\n",
        "loaded_data = {}\n",
        "\n",
        "for dataset, prefix in PREFIXES.items():\n",
        "    for filetype in FILE_TYPES:\n",
        "        filename = prefix + filetype + \".mat\"\n",
        "        print('Reading {}'.format(filename))\n",
        "        \n",
        "        file_loc = os.path.join(DATA_FOLDER, filename)\n",
        "        with open( file_loc, 'rb') as f:\n",
        "            # Read the magic_num, convert it to hexadecimal, and look up the data_type\n",
        "            raw_magic_num = read_int(f)\n",
        "            magic_num = format(raw_magic_num, '02x')\n",
        "            data_type = map_magic_number_to_data_type[magic_num]\n",
        "            print('dtype', data_type)\n",
        "\n",
        "            # Read how many dimensions to expect\n",
        "            ndim = read_int(f)\n",
        "            \n",
        "            # Read at least 3 ints, or however many ndim there are\n",
        "            shape = [\n",
        "                read_int(f)\n",
        "                for i in range(max(ndim, 3))\n",
        "            ]   \n",
        "            # But in case ndims < 3, take at most n_dim elements\n",
        "            shape = shape[:ndim]\n",
        "            print('shape', shape)\n",
        "    \n",
        "            # Now load the actual data!\n",
        "            loaded_data[(dataset, filetype)] = np.fromfile(\n",
        "                f, \n",
        "                dtype=data_type, \n",
        "                count=np.prod(shape)\n",
        "            ).reshape(shape)"
      ],
      "execution_count": null,
      "outputs": [
        {
          "output_type": "stream",
          "text": [
            "Reading smallnorb-5x46789x9x18x6x2x96x96-training-info.mat\n",
            "dtype <class 'numpy.int32'>\n",
            "shape [24300, 4]\n",
            "Reading smallnorb-5x46789x9x18x6x2x96x96-training-cat.mat\n",
            "dtype <class 'numpy.int32'>\n",
            "shape [24300]\n",
            "Reading smallnorb-5x46789x9x18x6x2x96x96-training-dat.mat\n",
            "dtype <class 'numpy.uint8'>\n",
            "shape [24300, 2, 96, 96]\n",
            "Reading smallnorb-5x01235x9x18x6x2x96x96-testing-info.mat\n",
            "dtype <class 'numpy.int32'>\n",
            "shape [24300, 4]\n",
            "Reading smallnorb-5x01235x9x18x6x2x96x96-testing-cat.mat\n",
            "dtype <class 'numpy.int32'>\n",
            "shape [24300]\n",
            "Reading smallnorb-5x01235x9x18x6x2x96x96-testing-dat.mat\n",
            "dtype <class 'numpy.uint8'>\n",
            "shape [24300, 2, 96, 96]\n"
          ],
          "name": "stdout"
        }
      ]
    },
    {
      "cell_type": "code",
      "metadata": {
        "execution": {
          "iopub.status.busy": "2021-06-02T07:31:17.463738Z",
          "iopub.execute_input": "2021-06-02T07:31:17.464078Z",
          "iopub.status.idle": "2021-06-02T07:31:17.471445Z",
          "shell.execute_reply.started": "2021-06-02T07:31:17.464042Z",
          "shell.execute_reply": "2021-06-02T07:31:17.470703Z"
        },
        "trusted": true,
        "id": "ySc18-3oGYkB"
      },
      "source": [
        "transform = A.Compose([\n",
        "    A.RandomBrightnessContrast(p=0.6),    \n",
        "    A.CenterCrop(width=69, height=69), \n",
        "    A.Resize(width=96,height=96),\n",
        "    A.CLAHE(p=0.5),\n",
        "    A.Normalize((0.485, 0.456, 0.406), (0.229, 0.224, 0.225))\n",
        "    ])"
      ],
      "execution_count": null,
      "outputs": []
    },
    {
      "cell_type": "code",
      "metadata": {
        "execution": {
          "iopub.status.busy": "2021-06-02T07:31:17.472981Z",
          "iopub.execute_input": "2021-06-02T07:31:17.473530Z",
          "iopub.status.idle": "2021-06-02T07:31:17.761065Z",
          "shell.execute_reply.started": "2021-06-02T07:31:17.473490Z",
          "shell.execute_reply": "2021-06-02T07:31:17.760274Z"
        },
        "trusted": true,
        "id": "istfHaFFGYkB"
      },
      "source": [
        "import torch\n",
        "import torch.nn as nn\n",
        "import torch.nn.functional as F\n",
        "\n",
        "import kornia\n",
        "\n",
        "from kornia.filters.kernels import (\n",
        "    get_spatial_gradient_kernel2d, get_spatial_gradient_kernel3d, normalize_kernel2d\n",
        ")\n",
        "\n",
        "\n",
        "def spatial_gradient(input: torch.Tensor,\n",
        "                     mode: str = 'sobel',\n",
        "                     order: int = 1,\n",
        "                     normalized: bool = True) -> torch.Tensor:\n",
        "    r\"\"\"Computes the first order image derivative in both x and y using a Sobel\n",
        "    operator.\n",
        "\n",
        "    Args:\n",
        "        input (torch.Tensor): input image tensor with shape :math:`(B, C, H, W)`.\n",
        "        mode (str): derivatives modality, can be: `sobel` or `diff`. Default: `sobel`.\n",
        "        order (int): the order of the derivatives. Default: 1.\n",
        "        normalized (bool): whether the output is normalized. Default: True.\n",
        "\n",
        "    Return:\n",
        "        torch.Tensor: the derivatives of the input feature map. with shape :math:`(B, C, 2, H, W)`.\n",
        "\n",
        "    Examples:\n",
        "        >>> input = torch.rand(1, 3, 4, 4)\n",
        "        >>> output = spatial_gradient(input)  # 1x3x2x4x4\n",
        "        >>> output.shape\n",
        "        torch.Size([1, 3, 2, 4, 4])\n",
        "    \"\"\"\n",
        "    if not isinstance(input, torch.Tensor):\n",
        "        raise TypeError(\"Input type is not a torch.Tensor. Got {}\"\n",
        "                        .format(type(input)))\n",
        "\n",
        "    if not len(input.shape) == 4:\n",
        "        raise ValueError(\"Invalid input shape, we expect BxCxHxW. Got: {}\"\n",
        "                         .format(input.shape))\n",
        "    # allocate kernel\n",
        "    kernel: torch.Tensor = get_spatial_gradient_kernel2d(mode, order)\n",
        "    if normalized:\n",
        "        kernel = normalize_kernel2d(kernel)\n",
        "\n",
        "    # prepare kernel\n",
        "    b, c, h, w = input.shape\n",
        "    tmp_kernel: torch.Tensor = kernel.to(input).detach()\n",
        "    tmp_kernel = tmp_kernel.unsqueeze(1).unsqueeze(1)\n",
        "\n",
        "    # convolve input tensor with sobel kernel\n",
        "    kernel_flip: torch.Tensor = tmp_kernel.flip(-3)\n",
        "\n",
        "    # Pad with \"replicate for spatial dims, but with zeros for channel\n",
        "    spatial_pad = [\n",
        "        kernel.size(1) // 2,\n",
        "        kernel.size(1) // 2,\n",
        "        kernel.size(2) // 2,\n",
        "        kernel.size(2) // 2\n",
        "    ]\n",
        "    out_channels: int = 3 if order == 2 else 2\n",
        "    padded_inp: torch.Tensor = F.pad(\n",
        "        input.reshape(b * c, 1, h, w), spatial_pad, 'replicate')[:, :, None]\n",
        "\n",
        "    return F.conv3d(padded_inp, kernel_flip, padding=0).view(b, c, out_channels, h, w)\n",
        "\n",
        "\n",
        "\n",
        "def spatial_gradient3d(input: torch.Tensor,\n",
        "                       mode: str = 'diff',\n",
        "                       order: int = 1) -> torch.Tensor:\n",
        "    r\"\"\"Computes the first and second order volume derivative in x, y and d using a diff\n",
        "    operator.\n",
        "\n",
        "    Args:\n",
        "        input (torch.Tensor): input features tensor with shape :math:`(B, C, D, H, W)`.\n",
        "        mode (str): derivatives modality, can be: `sobel` or `diff`. Default: `diff`.\n",
        "        order (int): the order of the derivatives. Default: 1.\n",
        "\n",
        "    Return:\n",
        "        torch.Tensor: the spatial gradients of the input feature map.\n",
        "\n",
        "    Shape:\n",
        "        - Input: :math:`(B, C, D, H, W)`. D, H, W are spatial dimensions, gradient is calculated w.r.t to them.\n",
        "        - Output: :math:`(B, C, 3, D, H, W)` or :math:`(B, C, 6, D, H, W)`\n",
        "\n",
        "    Examples:\n",
        "        >>> input = torch.rand(1, 4, 2, 4, 4)\n",
        "        >>> output = spatial_gradient3d(input)\n",
        "        >>> output.shape\n",
        "        torch.Size([1, 4, 3, 2, 4, 4])\n",
        "    \"\"\"\n",
        "    if not isinstance(input, torch.Tensor):\n",
        "        raise TypeError(\"Input type is not a torch.Tensor. Got {}\"\n",
        "                        .format(type(input)))\n",
        "\n",
        "    if not len(input.shape) == 5:\n",
        "        raise ValueError(\"Invalid input shape, we expect BxCxDxHxW. Got: {}\"\n",
        "                         .format(input.shape))\n",
        "    # allocate kernel\n",
        "    kernel: torch.Tensor = get_spatial_gradient_kernel3d(mode, order)\n",
        "\n",
        "    # prepare kernel\n",
        "    b, c, d, h, w = input.shape\n",
        "    tmp_kernel: torch.Tensor = kernel.to(input).detach()\n",
        "    tmp_kernel = tmp_kernel.repeat(c, 1, 1, 1, 1)\n",
        "\n",
        "    # convolve input tensor with grad kernel\n",
        "    kernel_flip: torch.Tensor = tmp_kernel.flip(-3)\n",
        "\n",
        "    # Pad with \"replicate for spatial dims, but with zeros for channel\n",
        "    spatial_pad = [\n",
        "        kernel.size(2) // 2,\n",
        "        kernel.size(2) // 2,\n",
        "        kernel.size(3) // 2,\n",
        "        kernel.size(3) // 2,\n",
        "        kernel.size(4) // 2,\n",
        "        kernel.size(4) // 2\n",
        "    ]\n",
        "    out_ch: int = 6 if order == 2 else 3\n",
        "    return F.conv3d(F.pad(\n",
        "        input, spatial_pad, 'replicate'), kernel_flip, padding=0, groups=c).view(b, c, out_ch, d, h, w)\n",
        "\n",
        "\n",
        "\n",
        "def sobel(input: torch.Tensor, normalized: bool = True, eps: float = 1e-6) -> torch.Tensor:\n",
        "    r\"\"\"Computes the Sobel operator and returns the magnitude per channel.\n",
        "\n",
        "    Args:\n",
        "        input (torch.Tensor): the input image with shape :math:`(B,C,H,W)`.\n",
        "        normalized (bool): if True, L1 norm of the kernel is set to 1.\n",
        "        eps (float): regularization number to avoid NaN during backprop. Default: 1e-6.\n",
        "\n",
        "    Return:\n",
        "        torch.Tensor: the sobel edge gradient magnitudes map with shape :math:`(B,C,H,W)`.\n",
        "\n",
        "    Example:\n",
        "        >>> input = torch.rand(1, 3, 4, 4)\n",
        "        >>> output = sobel(input)  # 1x3x4x4\n",
        "        >>> output.shape\n",
        "        torch.Size([1, 3, 4, 4])\n",
        "    \"\"\"\n",
        "    if not isinstance(input, torch.Tensor):\n",
        "        raise TypeError(\"Input type is not a torch.Tensor. Got {}\"\n",
        "                        .format(type(input)))\n",
        "\n",
        "    if not len(input.shape) == 4:\n",
        "        raise ValueError(\"Invalid input shape, we expect BxCxHxW. Got: {}\"\n",
        "                         .format(input.shape))\n",
        "\n",
        "    # comput the x/y gradients\n",
        "    edges: torch.Tensor = spatial_gradient(input, normalized=normalized)\n",
        "\n",
        "    # unpack the edges\n",
        "    gx: torch.Tensor = edges[:, :, 0]\n",
        "    gy: torch.Tensor = edges[:, :, 1]\n",
        "\n",
        "    # compute gradient maginitude\n",
        "    magnitude: torch.Tensor = torch.sqrt(gx * gx + gy * gy + eps)\n",
        "\n",
        "    return magnitude\n",
        "\n",
        "\n",
        "\n",
        "class SpatialGradient(nn.Module):\n",
        "    r\"\"\"Computes the first order image derivative in both x and y using a Sobel\n",
        "    operator.\n",
        "\n",
        "    Args:\n",
        "        mode (str): derivatives modality, can be: `sobel` or `diff`. Default: `sobel`.\n",
        "        order (int): the order of the derivatives. Default: 1.\n",
        "        normalized (bool): whether the output is normalized. Default: True.\n",
        "\n",
        "    Return:\n",
        "        torch.Tensor: the sobel edges of the input feature map.\n",
        "\n",
        "    Shape:\n",
        "        - Input: :math:`(B, C, H, W)`\n",
        "        - Output: :math:`(B, C, 2, H, W)`\n",
        "\n",
        "    Examples:\n",
        "        >>> input = torch.rand(1, 3, 4, 4)\n",
        "        >>> output = SpatialGradient()(input)  # 1x3x2x4x4\n",
        "    \"\"\"\n",
        "\n",
        "    def __init__(self,\n",
        "                 mode: str = 'sobel',\n",
        "                 order: int = 1,\n",
        "                 normalized: bool = True) -> None:\n",
        "        super(SpatialGradient, self).__init__()\n",
        "        self.normalized: bool = normalized\n",
        "        self.order: int = order\n",
        "        self.mode: str = mode\n",
        "\n",
        "    def __repr__(self) -> str:\n",
        "        return self.__class__.__name__ + '('\\\n",
        "            'order=' + str(self.order) + ', ' + \\\n",
        "            'normalized=' + str(self.normalized) + ', ' + \\\n",
        "            'mode=' + self.mode + ')'\n",
        "\n",
        "    def forward(self, input: torch.Tensor) -> torch.Tensor:\n",
        "        return spatial_gradient(input, self.mode, self.order, self.normalized)\n",
        "\n",
        "\n",
        "\n",
        "class SpatialGradient3d(nn.Module):\n",
        "    r\"\"\"Computes the first and second order volume derivative in x, y and d using a diff\n",
        "    operator.\n",
        "\n",
        "    Args:\n",
        "        mode (str): derivatives modality, can be: `sobel` or `diff`. Default: `sobel`.\n",
        "        order (int): the order of the derivatives. Default: 1.\n",
        "\n",
        "    Return:\n",
        "        torch.Tensor: the spatial gradients of the input feature map.\n",
        "\n",
        "    Shape:\n",
        "        - Input: :math:`(B, C, D, H, W)`. D, H, W are spatial dimensions, gradient is calculated w.r.t to them.\n",
        "        - Output: :math:`(B, C, 3, D, H, W)` or :math:`(B, C, 6, D, H, W)`\n",
        "\n",
        "    Examples:\n",
        "        >>> input = torch.rand(1, 4, 2, 4, 4)\n",
        "        >>> output = SpatialGradient3d()(input)\n",
        "        >>> output.shape\n",
        "        torch.Size([1, 4, 3, 2, 4, 4])\n",
        "    \"\"\"\n",
        "\n",
        "    def __init__(self,\n",
        "                 mode: str = 'diff',\n",
        "                 order: int = 1) -> None:\n",
        "        super(SpatialGradient3d, self).__init__()\n",
        "        self.order: int = order\n",
        "        self.mode: str = mode\n",
        "        self.kernel = get_spatial_gradient_kernel3d(mode, order)\n",
        "        return\n",
        "\n",
        "    def __repr__(self) -> str:\n",
        "        return self.__class__.__name__ + '('\\\n",
        "            'order=' + str(self.order) + ', ' + \\\n",
        "            'mode=' + self.mode + ')'\n",
        "\n",
        "    def forward(self, input: torch.Tensor) -> torch.Tensor:  # type: ignore\n",
        "        return spatial_gradient3d(input, self.mode, self.order)\n",
        "\n",
        "\n",
        "\n",
        "class Sobel(nn.Module):\n",
        "    r\"\"\"Computes the Sobel operator and returns the magnitude per channel.\n",
        "\n",
        "    Args:\n",
        "        normalized (bool): if True, L1 norm of the kernel is set to 1.\n",
        "        eps (float): regularization number to avoid NaN during backprop. Default: 1e-6.\n",
        "\n",
        "    Return:\n",
        "        torch.Tensor: the sobel edge gradient magnitudes map.\n",
        "\n",
        "    Shape:\n",
        "        - Input: :math:`(B, C, H, W)`\n",
        "        - Output: :math:`(B, C, H, W)`\n",
        "\n",
        "    Examples:\n",
        "        >>> input = torch.rand(1, 3, 4, 4)\n",
        "        >>> output = Sobel()(input)  # 1x3x4x4\n",
        "    \"\"\"\n",
        "\n",
        "    def __init__(self,\n",
        "                 normalized: bool = True, eps: float = 1e-6) -> None:\n",
        "        super(Sobel, self).__init__()\n",
        "        self.normalized: bool = normalized\n",
        "        self.eps: float = eps\n",
        "\n",
        "    def __repr__(self) -> str:\n",
        "        return self.__class__.__name__ + '('\\\n",
        "            'normalized=' + str(self.normalized) + ')'\n",
        "\n",
        "    def forward(self, input: torch.Tensor) -> torch.Tensor:\n",
        "        return sobel(input, self.normalized, self.eps)"
      ],
      "execution_count": null,
      "outputs": []
    },
    {
      "cell_type": "code",
      "metadata": {
        "execution": {
          "iopub.status.busy": "2021-06-02T07:31:17.762957Z",
          "iopub.execute_input": "2021-06-02T07:31:17.763198Z",
          "iopub.status.idle": "2021-06-02T07:31:17.775043Z",
          "shell.execute_reply.started": "2021-06-02T07:31:17.763174Z",
          "shell.execute_reply": "2021-06-02T07:31:17.774268Z"
        },
        "trusted": true,
        "id": "6OfkWr79GYkH"
      },
      "source": [
        "class Toys(Dataset):\n",
        "    \n",
        "    def __init__(self,data,channels=3,transform=False):\n",
        "        self.data=data\n",
        "        self.transform=transform\n",
        "        self.channels=channels\n",
        "        \n",
        "    def __len__(self):\n",
        "        return len(self.data[('train', 'dat')])\n",
        "    \n",
        "    def __getitem__(self,idx):\n",
        "        if self.channels==1:\n",
        "            image = self.data[('train','dat')][idx][0]\n",
        "            \n",
        "        elif self.channels==2:\n",
        "            image=self.data[('train','dat')][idx]\n",
        "            band_3= np.zeros((96,96))\n",
        "            image = np.dstack((image[0],image[1], band_3))\n",
        "            image = image.astype('uint8')\n",
        "\n",
        "        elif self.channels==3:\n",
        "            image=self.data[('train','dat')][idx]\n",
        "            band_1 = image[0]\n",
        "            band_2 = image[1]\n",
        "            img=torch.tensor(image,dtype=torch.float64)\n",
        "            band_3  = Sobel()(img.unsqueeze(0))\n",
        "            band_3 = np.asarray(band_3[0][0])\n",
        "            image = np.dstack((band_1, band_2, band_3))\n",
        "            \n",
        "        image = image.astype('uint8')\n",
        "        if self.transform is not False:\n",
        "            dict=self.transform(image=image)\n",
        "            image=dict['image']\n",
        "            \n",
        "        label= self.data[('train','cat')][idx]\n",
        "        \n",
        "        image=torch.tensor(image)#,dtype=torch.float64)\n",
        "        label=torch.tensor(label,dtype=torch.float32)\n",
        "        info = torch.tensor(loaded_data['train','info'][idx][1:],dtype=torch.float32)\n",
        "        info[0]=info[0]#*5 + 30.\n",
        "        info[1] = info[1]#*10.\n",
        "        info[2]= info[2]#*1.\n",
        "        if self.channels>1:\n",
        "            image=image.permute(2,0,1)\n",
        "        if self.channels==2:\n",
        "            image=image[:2]\n",
        "            \n",
        "        image=image/255\n",
        "        return image,info,label.long()\n",
        "        "
      ],
      "execution_count": null,
      "outputs": []
    },
    {
      "cell_type": "code",
      "metadata": {
        "execution": {
          "iopub.status.busy": "2021-06-02T07:31:17.777756Z",
          "iopub.execute_input": "2021-06-02T07:31:17.778362Z",
          "iopub.status.idle": "2021-06-02T07:31:17.788646Z",
          "shell.execute_reply.started": "2021-06-02T07:31:17.778324Z",
          "shell.execute_reply": "2021-06-02T07:31:17.787789Z"
        },
        "trusted": true,
        "id": "Y26fxOK_GYkJ"
      },
      "source": [
        "dataset=Toys(loaded_data,3,transform)"
      ],
      "execution_count": null,
      "outputs": []
    },
    {
      "cell_type": "code",
      "metadata": {
        "execution": {
          "iopub.status.busy": "2021-06-02T08:00:16.725964Z",
          "iopub.execute_input": "2021-06-02T08:00:16.726298Z",
          "iopub.status.idle": "2021-06-02T08:00:16.845896Z",
          "shell.execute_reply.started": "2021-06-02T08:00:16.726269Z",
          "shell.execute_reply": "2021-06-02T08:00:16.844889Z"
        },
        "trusted": true,
        "id": "5XbeOXYFGYkJ",
        "outputId": "1dd23bf8-3bae-461f-d44a-fe2e352f3239"
      },
      "source": [
        "image,info,label=dataset[0]\n",
        "plt.imshow(image[2])#.permute(1,2,0))\n",
        "print(label)"
      ],
      "execution_count": null,
      "outputs": [
        {
          "output_type": "stream",
          "text": [
            "tensor(0)\n"
          ],
          "name": "stdout"
        },
        {
          "output_type": "display_data",
          "data": {
            "text/plain": [
              "<Figure size 432x288 with 1 Axes>"
            ],
            "image/png": "[encoded data removed]"
          },
          "metadata": {
            "tags": [],
            "needs_background": "light"
          }
        }
      ]
    },
    {
      "cell_type": "code",
      "metadata": {
        "execution": {
          "iopub.status.busy": "2021-06-02T08:00:19.969012Z",
          "iopub.execute_input": "2021-06-02T08:00:19.969335Z",
          "iopub.status.idle": "2021-06-02T08:00:19.977310Z",
          "shell.execute_reply.started": "2021-06-02T08:00:19.969307Z",
          "shell.execute_reply": "2021-06-02T08:00:19.976258Z"
        },
        "trusted": true,
        "id": "2ozrJgGAGYkK",
        "outputId": "9b82bd7d-cfd6-4e32-bb8b-a9426a02acbb"
      },
      "source": [
        "info"
      ],
      "execution_count": null,
      "outputs": [
        {
          "output_type": "execute_result",
          "data": {
            "text/plain": [
              "tensor([6., 4., 4.])"
            ]
          },
          "metadata": {
            "tags": []
          },
          "execution_count": 34
        }
      ]
    },
    {
      "cell_type": "code",
      "metadata": {
        "execution": {
          "iopub.status.busy": "2021-06-02T08:00:32.339732Z",
          "iopub.execute_input": "2021-06-02T08:00:32.340194Z",
          "iopub.status.idle": "2021-06-02T08:00:32.365802Z",
          "shell.execute_reply.started": "2021-06-02T08:00:32.340154Z",
          "shell.execute_reply": "2021-06-02T08:00:32.364476Z"
        },
        "trusted": true,
        "id": "ELcrdHw6GYkK"
      },
      "source": [
        "class TestToys(Dataset):\n",
        "    def __init__(self,data,channels=3):\n",
        "        self.data=data\n",
        "        self.channels=channels\n",
        "        self.transform = A.Compose([A.CenterCrop(width=69, height=69),\n",
        "                                    A.Resize(96,96),\n",
        "                                   A.Normalize((0.485, 0.456, 0.406), (0.229, 0.224, 0.225))])\n",
        "        \n",
        "    def __len__(self):\n",
        "        return len(self.data[('test', 'dat')])\n",
        "    \n",
        "    def __getitem__(self,idx):\n",
        "        \n",
        "        if self.channels==1:\n",
        "            image = self.data[('test','dat')][idx][0]\n",
        "            \n",
        "        elif self.channels==2:\n",
        "            image=self.data[('test','dat')][idx]\n",
        "            band_3= np.zeros((96,96))\n",
        "            image = np.dstack((image[0],image[1], band_3))\n",
        "            image = image.astype('uint8')\n",
        "            \n",
        "        elif self.channels==3:\n",
        "            image=self.data[('test','dat')][idx]\n",
        "            band_1 = image[0]\n",
        "            band_2 = image[1]\n",
        "            img=torch.tensor(image,dtype=torch.float64)\n",
        "            band_3  = Sobel()(img.unsqueeze(0))\n",
        "            band_3 = np.asarray(band_3[0][0])\n",
        "            \n",
        "            image = np.dstack((band_1, band_2, band_3))\n",
        "            image = image.astype('uint8')\n",
        "            \n",
        "        \n",
        "        if self.transform is not False:\n",
        "            dict=self.transform(image=image)\n",
        "            image=dict['image']\n",
        "            \n",
        "        label= self.data[('test','cat')][idx]\n",
        "        image=torch.tensor(image)\n",
        "        label=torch.tensor(label,dtype=torch.float32)\n",
        "        info = torch.tensor(loaded_data['test','info'][idx][1:],dtype=torch.float32)\n",
        "        info[0]=info[0]#*5 + 30\n",
        "        info[1] = info[1]#*10\n",
        "        info[2]= info[2]#*1\n",
        "        if self.channels>1:\n",
        "            image=image.permute(2,0,1)\n",
        "        if self.channels==2:\n",
        "            image=image[:2]\n",
        "        image=image/255  \n",
        "        return image,info,label.long()"
      ],
      "execution_count": null,
      "outputs": []
    },
    {
      "cell_type": "code",
      "metadata": {
        "execution": {
          "iopub.status.busy": "2021-06-02T08:00:34.731224Z",
          "iopub.execute_input": "2021-06-02T08:00:34.731550Z",
          "iopub.status.idle": "2021-06-02T08:00:34.735718Z",
          "shell.execute_reply.started": "2021-06-02T08:00:34.731519Z",
          "shell.execute_reply": "2021-06-02T08:00:34.734461Z"
        },
        "trusted": true,
        "id": "i-EgUnpiGYkK"
      },
      "source": [
        "benchmark=TestToys(loaded_data,3)\n"
      ],
      "execution_count": null,
      "outputs": []
    },
    {
      "cell_type": "code",
      "metadata": {
        "execution": {
          "iopub.status.busy": "2021-06-02T08:00:35.726011Z",
          "iopub.execute_input": "2021-06-02T08:00:35.726348Z",
          "iopub.status.idle": "2021-06-02T08:00:35.849016Z",
          "shell.execute_reply.started": "2021-06-02T08:00:35.726318Z",
          "shell.execute_reply": "2021-06-02T08:00:35.848023Z"
        },
        "trusted": true,
        "id": "aJl6CHKcGYkL",
        "outputId": "79aa2d35-2b71-4ba1-9d60-92c363d9d69e"
      },
      "source": [
        "image,info,label=benchmark[0]\n",
        "plt.imshow(image[2])#.permute(1,2,0))"
      ],
      "execution_count": null,
      "outputs": [
        {
          "output_type": "execute_result",
          "data": {
            "text/plain": [
              "<matplotlib.image.AxesImage at 0x7efc712bbdd0>"
            ]
          },
          "metadata": {
            "tags": []
          },
          "execution_count": 37
        },
        {
          "output_type": "display_data",
          "data": {
            "text/plain": [
              "<Figure size 432x288 with 1 Axes>"
            ],
            "image/png": "[encoded data removed]"
          },
          "metadata": {
            "tags": [],
            "needs_background": "light"
          }
        }
      ]
    },
    {
      "cell_type": "code",
      "metadata": {
        "execution": {
          "iopub.status.busy": "2021-06-02T08:00:38.396999Z",
          "iopub.execute_input": "2021-06-02T08:00:38.397347Z",
          "iopub.status.idle": "2021-06-02T08:00:38.402742Z",
          "shell.execute_reply.started": "2021-06-02T08:00:38.397316Z",
          "shell.execute_reply": "2021-06-02T08:00:38.401843Z"
        },
        "trusted": true,
        "id": "lhVdvEoKGYkL",
        "outputId": "cee158b5-dfbd-4118-d8fa-727a6af9922f"
      },
      "source": [
        "info"
      ],
      "execution_count": null,
      "outputs": [
        {
          "output_type": "execute_result",
          "data": {
            "text/plain": [
              "tensor([0., 0., 0.])"
            ]
          },
          "metadata": {
            "tags": []
          },
          "execution_count": 38
        }
      ]
    },
    {
      "cell_type": "code",
      "metadata": {
        "execution": {
          "iopub.status.busy": "2021-06-02T07:31:18.320125Z",
          "iopub.execute_input": "2021-06-02T07:31:18.320442Z",
          "iopub.status.idle": "2021-06-02T07:31:18.333556Z",
          "shell.execute_reply.started": "2021-06-02T07:31:18.320409Z",
          "shell.execute_reply": "2021-06-02T07:31:18.332650Z"
        },
        "trusted": true,
        "id": "kUMjjSAKGYkL"
      },
      "source": [
        "train_length=int(0.50*len(dataset))\n",
        "\n",
        "test_length=len(dataset)-train_length\n",
        "\n",
        "train_dataset,val_dataset=torch.utils.data.random_split(dataset,(train_length,test_length))\n",
        "train_length = int(0.75*len(train_dataset))\n",
        "test_length = len(train_dataset)-train_length\n",
        "train_dataset,val_dataset=torch.utils.data.random_split(train_dataset,(train_length,test_length))\n",
        "batch_size= 64\n",
        "trainloader = DataLoader(train_dataset,\n",
        "        batch_size=batch_size, shuffle=True,num_workers= 2)\n",
        "valloader = DataLoader(val_dataset,\n",
        "        batch_size=batch_size, shuffle=True,num_workers=2)\n",
        "testloader = DataLoader(benchmark,\n",
        "        batch_size=batch_size, shuffle=False,num_workers=2)"
      ],
      "execution_count": null,
      "outputs": []
    },
    {
      "cell_type": "code",
      "metadata": {
        "execution": {
          "iopub.status.busy": "2021-06-02T07:31:18.334853Z",
          "iopub.execute_input": "2021-06-02T07:31:18.335183Z",
          "iopub.status.idle": "2021-06-02T07:31:18.344497Z",
          "shell.execute_reply.started": "2021-06-02T07:31:18.335150Z",
          "shell.execute_reply": "2021-06-02T07:31:18.343008Z"
        },
        "trusted": true,
        "id": "BFB01zNiGYkL",
        "outputId": "3ac356e7-bd84-4aba-e11a-dc4c28a2d0e0"
      },
      "source": [
        "print(len(train_dataset),len(val_dataset),len(benchmark))"
      ],
      "execution_count": null,
      "outputs": [
        {
          "output_type": "stream",
          "text": [
            "9112 3038 24300\n"
          ],
          "name": "stdout"
        }
      ]
    },
    {
      "cell_type": "code",
      "metadata": {
        "execution": {
          "iopub.status.busy": "2021-06-02T07:31:18.346662Z",
          "iopub.execute_input": "2021-06-02T07:31:18.347177Z",
          "iopub.status.idle": "2021-06-02T07:31:18.403403Z",
          "shell.execute_reply.started": "2021-06-02T07:31:18.347132Z",
          "shell.execute_reply": "2021-06-02T07:31:18.402469Z"
        },
        "trusted": true,
        "id": "IZYnBbdrGYkM",
        "outputId": "97f8439f-c243-45fc-d7a4-536c26991780"
      },
      "source": [
        "device = \"cpu\"\n",
        "\n",
        "if torch.cuda.is_available():\n",
        "    device = \"cuda\"\n",
        "\n",
        "print(device)"
      ],
      "execution_count": null,
      "outputs": [
        {
          "output_type": "stream",
          "text": [
            "cuda\n"
          ],
          "name": "stdout"
        }
      ]
    },
    {
      "cell_type": "code",
      "metadata": {
        "execution": {
          "iopub.status.busy": "2021-06-02T07:31:26.229415Z",
          "iopub.execute_input": "2021-06-02T07:31:26.229770Z",
          "iopub.status.idle": "2021-06-02T07:31:33.228193Z",
          "shell.execute_reply.started": "2021-06-02T07:31:26.229735Z",
          "shell.execute_reply": "2021-06-02T07:31:33.227323Z"
        },
        "trusted": true,
        "colab": {
          "referenced_widgets": [
            "77b06da9dbb248688b184f1686aaf98e"
          ]
        },
        "id": "sH5IPBAjGYkM",
        "outputId": "dfad3460-5fdb-469c-c6f5-53d911620b07"
      },
      "source": [
        "import torchvision.models as models\n",
        "model_ft = models.densenet161(pretrained=True)\n",
        "model_ft=nn.Sequential(*list(model_ft.children())[:1])"
      ],
      "execution_count": null,
      "outputs": [
        {
          "output_type": "stream",
          "text": [
            "Downloading: \"https://download.pytorch.org/models/densenet161-8d451a50.pth\" to /root/.cache/torch/hub/checkpoints/densenet161-8d451a50.pth\n"
          ],
          "name": "stderr"
        },
        {
          "output_type": "display_data",
          "data": {
            "text/plain": [
              "  0%|          | 0.00/110M [00:00<?, ?B/s]"
            ],
            "application/vnd.jupyter.widget-view+json": {
              "version_major": 2,
              "version_minor": 0,
              "model_id": "77b06da9dbb248688b184f1686aaf98e"
            }
          },
          "metadata": {
            "tags": []
          }
        }
      ]
    },
    {
      "cell_type": "code",
      "metadata": {
        "execution": {
          "iopub.status.busy": "2021-06-02T07:31:33.229421Z",
          "iopub.execute_input": "2021-06-02T07:31:33.229789Z",
          "iopub.status.idle": "2021-06-02T07:31:33.236778Z",
          "shell.execute_reply.started": "2021-06-02T07:31:33.229756Z",
          "shell.execute_reply": "2021-06-02T07:31:33.235991Z"
        },
        "trusted": true,
        "id": "W1n7rMmSGYkM"
      },
      "source": [
        "class MyModel(nn.Module):\n",
        "    def __init__(self, pretrained_model):\n",
        "        super(MyModel, self).__init__()\n",
        "        self.pretrained = pretrained_model\n",
        "        self.linear = nn.Linear(2211,5)\n",
        "    def forward(self, x,y):\n",
        "        x = self.pretrained(x)\n",
        "        out = F.relu(x, inplace=True)\n",
        "        out = F.adaptive_max_pool2d(out,output_size=1)\n",
        "        out = torch.flatten(out, 1)\n",
        "        out=torch.cat((out,y),1)\n",
        "        out = self.linear(out)\n",
        "        return out\n",
        "\n",
        "model = MyModel(model_ft)"
      ],
      "execution_count": null,
      "outputs": []
    },
    {
      "cell_type": "code",
      "metadata": {
        "execution": {
          "iopub.status.busy": "2021-06-02T07:31:33.238075Z",
          "iopub.execute_input": "2021-06-02T07:31:33.238579Z",
          "iopub.status.idle": "2021-06-02T07:31:33.254514Z",
          "shell.execute_reply.started": "2021-06-02T07:31:33.238527Z",
          "shell.execute_reply": "2021-06-02T07:31:33.253693Z"
        },
        "trusted": true,
        "id": "uq1XKZcXGYkM"
      },
      "source": [
        "def find_acc(pred, label):\n",
        "    \n",
        "    correct = pred.argmax(dim = 1).eq(label)\n",
        "    accuracy = correct.to(torch.float32).mean().item() * 100\n",
        "    return accuracy\n",
        "\n",
        "def train(network,criterion, optimizer, trainloader):\n",
        "    loss_train = 0\n",
        "    acc_train = 0\n",
        "    network.train()\n",
        "\n",
        "    #for step in tqdm(range(len(trainloader))):\n",
        "\n",
        "    for idx,batch in enumerate(tqdm(trainloader)): \n",
        "    \n",
        "        #images , labels = next(iter(trainloader))\n",
        "        \n",
        "        images,info, labels = batch[0],batch[1],batch[2]\n",
        "        # move the images and labels to GPU\n",
        "        images     = images.to(device)\n",
        "        info = info.to(device)\n",
        "        labels     = labels.to(device)\n",
        "        \n",
        "        pred = network(images,info)\n",
        "      \n",
        "        # clear all the gradients before calculating them\n",
        "        optimizer.zero_grad()\n",
        "        \n",
        "        # find the loss for the current step\n",
        "        loss_train_step = criterion(pred , labels)\n",
        "        \n",
        "        # find accuracy\n",
        "        acc_train_step = find_acc(pred, labels)\n",
        "        \n",
        "        # calculate the gradients\n",
        "        loss_train_step.backward()\n",
        "        \n",
        "        # update the parameters\n",
        "        optimizer.step()\n",
        "        #scheduler.step()\n",
        "\n",
        "        loss_train += loss_train_step.item()\n",
        "        acc_train += acc_train_step  \n",
        "            \n",
        "    loss_train /= len(trainloader)\n",
        "    acc_train /= len(trainloader)\n",
        "\n",
        "    return loss_train, acc_train  \n",
        "        \n",
        "def validate(network,criterion, testloader): \n",
        "    loss_valid = 0\n",
        "    acc_valid = 0       \n",
        "    network.eval()  \n",
        "\n",
        "    #for step in tqdm(range(len(testloader))):\n",
        "    for idx,batch in enumerate(tqdm(testloader)):\n",
        "         \n",
        "        images,info ,labels = batch[0],batch[1],batch[2]\n",
        "        # move the images and labels to GPU\n",
        "        images     = images.to(device)\n",
        "        info = info.to(device)\n",
        "        labels     = labels.to(device)\n",
        "        \n",
        "        pred = network(images,info)\n",
        "        \n",
        "        # find the loss and acc for the current step\n",
        "        loss_valid_step = criterion(pred , labels)\n",
        "        acc_valid_step = find_acc(pred, labels)\n",
        "      \n",
        "        loss_valid += loss_valid_step.item()\n",
        "        acc_valid += acc_valid_step\n",
        "\n",
        "    loss_valid /= len(testloader)\n",
        "    acc_valid /= len(testloader)\n",
        "\n",
        "    return loss_valid, acc_valid\n",
        "\n",
        "def inference(network,criterion, testloader):\n",
        "    loss_test = 0\n",
        "    acc_test = 0       \n",
        "    network.eval()  \n",
        "\n",
        "    #for step in tqdm(range(len(testloader))):\n",
        "    for idx,batch in enumerate(tqdm(testloader)):\n",
        "         \n",
        "        images,info, labels = batch[0],batch[1],batch[2]\n",
        "        # move the images and labels to GPU\n",
        "        images     = images.to(device)\n",
        "        info = info.to(device)\n",
        "        labels     = labels.to(device)\n",
        "        \n",
        "        pred = network(images,info)\n",
        "    \n",
        "        # find the loss and acc for the current step\n",
        "        loss_valid_step = criterion(pred , labels)\n",
        "        acc_valid_step = find_acc(pred, labels)\n",
        "      \n",
        "        loss_test += loss_valid_step.item()\n",
        "        acc_test += acc_valid_step\n",
        "\n",
        "    loss_test /= len(testloader)\n",
        "    acc_test /= len(testloader)\n",
        "    return loss_test, acc_test"
      ],
      "execution_count": null,
      "outputs": []
    },
    {
      "cell_type": "code",
      "metadata": {
        "execution": {
          "iopub.status.busy": "2021-06-02T07:31:33.255752Z",
          "iopub.execute_input": "2021-06-02T07:31:33.256219Z",
          "iopub.status.idle": "2021-06-02T07:31:45.293124Z",
          "shell.execute_reply.started": "2021-06-02T07:31:33.256184Z",
          "shell.execute_reply": "2021-06-02T07:31:45.292212Z"
        },
        "trusted": true,
        "id": "RwhQFHeDGYkN",
        "outputId": "be625377-707d-45b6-90fc-2d60fc703964"
      },
      "source": [
        "\n",
        "wandb.login()"
      ],
      "execution_count": null,
      "outputs": [
        {
          "output_type": "stream",
          "text": [
            "\u001b[34m\u001b[1mwandb\u001b[0m: You can find your API key in your browser here: https://wandb.ai/authorize\n"
          ],
          "name": "stderr"
        },
        {
          "output_type": "stream",
          "text": [
            "\u001b[34m\u001b[1mwandb\u001b[0m: Paste an API key from your profile and hit enter:  ········································\n"
          ],
          "name": "stdin"
        },
        {
          "output_type": "stream",
          "text": [
            "\u001b[34m\u001b[1mwandb\u001b[0m: Appending key for api.wandb.ai to your netrc file: /root/.netrc\n"
          ],
          "name": "stderr"
        },
        {
          "output_type": "execute_result",
          "data": {
            "text/plain": [
              "True"
            ]
          },
          "metadata": {
            "tags": []
          },
          "execution_count": 20
        }
      ]
    },
    {
      "cell_type": "code",
      "metadata": {
        "execution": {
          "iopub.status.busy": "2021-06-02T07:31:45.298158Z",
          "iopub.execute_input": "2021-06-02T07:31:45.299678Z",
          "iopub.status.idle": "2021-06-02T07:57:19.941265Z",
          "shell.execute_reply.started": "2021-06-02T07:31:45.299632Z",
          "shell.execute_reply": "2021-06-02T07:57:19.940102Z"
        },
        "trusted": true,
        "colab": {
          "referenced_widgets": [
            "c90b6f1c5a40414cb8cade8f785e02f3",
            "2265827f4b7c4bd7b74759ab5c3bec7c",
            "73130ba3ccdd4b34bbfcecb049f5f5c7",
            "eb6ed3592c4e46b69da4f025f4ee78b4",
            "a40db1a659bd4634903da8de1ca9fc98",
            "8de4ee22607a47e3b3f46721c0f6b7d1",
            "b96c521a97bb451ea7da7134d91f5c8a",
            "d3c9e8eee1564956a7d36a55d5402937",
            "e1ab54af80824e9e9dc9b4caf9f0bb94",
            "e1b875c1f5ef443f8a165e3b29965d29",
            "8de54fda86c14a7b9cdadb355de7c7ef",
            "eb4d2466f5fb49f7b2d499f310b8e0b2",
            "d27a0bc6a24849f4b8c809ffceb3a43a",
            "115efc95a1f3412da7db3abfecf150dc",
            "c4529e289b4643b3b94d3035a6108fa5",
            "60c7bdc496ab4186bfe5d67cc6430cfb",
            "9e7ef65ede774a7b8d632926f35ab00c",
            "a6e23fcc6af4422383409a78bdfc52ee",
            "cb62a23bc4b9443297aa80a50720c2ef",
            "f857634f73214cd4a3f3ecfaf6ae8cf0",
            "3a585a1500ce40a99d68fb80f479294d",
            "a9b41f5b994f4b5eac7404d349beb701",
            "8853d8930c3f49de8bc2b63247b18d5c",
            "342ed2301d2b49f384682d7571f5fc22",
            "3812a951bc5d4e56852189361c1f003b",
            "4eac992f4a0a4d19a4a0f6c78d988201",
            "80cdaccc0da240cf85c1b06e076fcc6e",
            "d1000ce1e8d14f51b9d74d2e2d9c4626",
            "d397f659336745608977febe939f0593",
            "339a6f2dc307473a988b6386ebfcee2b",
            "7d0bb1ccfccb4013aaf4711c75893b19",
            "59b5208c2dab4c158c6297b50574ff83",
            "31216b05285a49ea8ed408dd71ad4277",
            "0d8a017878414177ad92b3ca8f577279",
            "c9f68a314aef4cb1b0213de5133e7957",
            "5d964424aebf40a9a4a63fc7899c8e53",
            "2b55c8ba122c400d997586a0f2aa7e1e",
            "fba6744931514da78d0b999ce40c3961",
            "04f96d7af4474f7eaedec689894706e3",
            "5281b0f5e52a4305a12dffe30e0cb6e9",
            "23d5570a7d1846a58fd2399060c9a8f2",
            "2e970bb62eb144dcbb9b7fcf935fff2e",
            "b9ba5aa4cc4c431089fb7e7d1ed96e12",
            "13e4e694fd644f63968f22b8bfdff382",
            "7dbeb64c59d743c9a767ce5551dc0614"
          ]
        },
        "id": "2l-H1OgZGYkN",
        "outputId": "ad192adf-a0b4-4d9f-9c6f-ecf142efeaf6"
      },
      "source": [
        "wandb.init(name='50_SN1_Densenet161',\n",
        "           project='50_SN',\n",
        "           notes='3 Channels with Augs,Sobel', \n",
        "           tags=['SGD','StepLR'],\n",
        "           entity='creganstark')\n",
        "\n",
        "# WandB Configurations (optional)        \n",
        "wandb.config.lr = 1e-3\n",
        "#model=model.float()\n",
        "model = model.to(device)\n",
        "criterion = nn.CrossEntropyLoss()\n",
        "optimizer = optim.SGD(model.parameters(),\n",
        "                      lr  =  1e-3,\n",
        "                      momentum     = 0.9,\n",
        "                      nesterov     = True,\n",
        "                      weight_decay = 5e-4)\n",
        "\n",
        "#scheduler = optim.lr_scheduler.CyclicLR(optimizer,base_lr=5e-5,max_lr=5e-4 ,step_size_up=2000)\n",
        "scheduler = optim.lr_scheduler.StepLR(optimizer,step_size=9,gamma=0.5)\n",
        "# Log the network weight histograms (optional)\n",
        "wandb.watch(model)\n",
        "\n",
        "num_epochs = 15\n",
        "start_time = time.time()\n",
        "prev_acc=0\n",
        "for epoch in range(1, num_epochs+1):\n",
        "    \n",
        "    loss_train, acc_train = train(model, criterion, optimizer, trainloader)\n",
        "    loss_valid, acc_valid = validate(model, criterion, valloader)\n",
        "    loss_test, acc_test = inference(model,criterion,testloader)\n",
        "    scheduler.step()\n",
        "    \n",
        "    print('Epoch: {}  Train Loss: {:.4f}  Train Acc: {:.4f}  Valid Loss: {:.4f}  Valid Acc: {:.4f} Test Loss: {:.4f}  Test Acc: {:.4f} '.format(epoch, loss_train, acc_train, loss_valid, acc_valid, loss_test, acc_test))\n",
        "\n",
        "    #Log the loss and accuracy values at the end of each epoch\n",
        "    wandb.log({\n",
        "        \"Epoch\": epoch,\n",
        "        \"Train Loss\": loss_train,\n",
        "        \"Train Acc\": acc_train,\n",
        "        \"Test Loss\": loss_test,\n",
        "        \"Test Acc\": acc_test})\n",
        "    if acc_test>prev_acc:\n",
        "      prev_acc=acc_test\n",
        "      acc_test=str(acc_test)\n",
        "      paths = \"test\"+acc_test[:7]+\".pt\"\n",
        "      print('Saving Model')\n",
        "      torch.save({\n",
        "          'epoch': epoch,\n",
        "          'model_state_dict': model.state_dict(),\n",
        "          'optimizer_state_dict': optimizer.state_dict(),\n",
        "          'val_loss': loss_valid,\n",
        "          'val_acc':acc_valid,\n",
        "          'train_acc':acc_train,\n",
        "          'loss_acc':loss_train,\n",
        "          },str(paths))\n",
        "\n",
        "print(\"Time Elapsed : {:.4f}s\".format(time.time() - start_time))"
      ],
      "execution_count": null,
      "outputs": [
        {
          "output_type": "stream",
          "text": [
            "\u001b[34m\u001b[1mwandb\u001b[0m: Currently logged in as: \u001b[33mcreganstark\u001b[0m (use `wandb login --relogin` to force relogin)\n",
            "\u001b[34m\u001b[1mwandb\u001b[0m: wandb version 0.10.31 is available!  To upgrade, please run:\n",
            "\u001b[34m\u001b[1mwandb\u001b[0m:  $ pip install wandb --upgrade\n"
          ],
          "name": "stderr"
        },
        {
          "output_type": "display_data",
          "data": {
            "text/plain": [
              "<IPython.core.display.HTML object>"
            ],
            "text/html": [
              "\n",
              "                Tracking run with wandb version 0.10.26<br/>\n",
              "                Syncing run <strong style=\"color:#cdcd00\">50_SN1_Densenet161</strong> to <a href=\"https://wandb.ai\" target=\"_blank\">Weights & Biases</a> <a href=\"https://docs.wandb.com/integrations/jupyter.html\" target=\"_blank\">(Documentation)</a>.<br/>\n",
              "                Project page: <a href=\"https://wandb.ai/creganstark/50_SN\" target=\"_blank\">https://wandb.ai/creganstark/50_SN</a><br/>\n",
              "                Run page: <a href=\"https://wandb.ai/creganstark/50_SN/runs/1bfp8oxb\" target=\"_blank\">https://wandb.ai/creganstark/50_SN/runs/1bfp8oxb</a><br/>\n",
              "                Run data is saved locally in <code>/kaggle/working/wandb/run-20210602_073145-1bfp8oxb</code><br/><br/>\n",
              "            "
            ]
          },
          "metadata": {
            "tags": []
          }
        },
        {
          "output_type": "display_data",
          "data": {
            "text/plain": [
              "  0%|          | 0/143 [00:00<?, ?it/s]"
            ],
            "application/vnd.jupyter.widget-view+json": {
              "version_major": 2,
              "version_minor": 0,
              "model_id": "c90b6f1c5a40414cb8cade8f785e02f3"
            }
          },
          "metadata": {
            "tags": []
          }
        },
        {
          "output_type": "display_data",
          "data": {
            "text/plain": [
              "  0%|          | 0/48 [00:00<?, ?it/s]"
            ],
            "application/vnd.jupyter.widget-view+json": {
              "version_major": 2,
              "version_minor": 0,
              "model_id": "2265827f4b7c4bd7b74759ab5c3bec7c"
            }
          },
          "metadata": {
            "tags": []
          }
        },
        {
          "output_type": "display_data",
          "data": {
            "text/plain": [
              "  0%|          | 0/380 [00:00<?, ?it/s]"
            ],
            "application/vnd.jupyter.widget-view+json": {
              "version_major": 2,
              "version_minor": 0,
              "model_id": "73130ba3ccdd4b34bbfcecb049f5f5c7"
            }
          },
          "metadata": {
            "tags": []
          }
        },
        {
          "output_type": "stream",
          "text": [
            "Epoch: 1  Train Loss: 0.1443  Train Acc: 95.3016  Valid Loss: 0.0088  Valid Acc: 99.9023 Test Loss: 0.0871  Test Acc: 97.6936 \n",
            "Saving Model\n"
          ],
          "name": "stdout"
        },
        {
          "output_type": "display_data",
          "data": {
            "text/plain": [
              "  0%|          | 0/143 [00:00<?, ?it/s]"
            ],
            "application/vnd.jupyter.widget-view+json": {
              "version_major": 2,
              "version_minor": 0,
              "model_id": "eb6ed3592c4e46b69da4f025f4ee78b4"
            }
          },
          "metadata": {
            "tags": []
          }
        },
        {
          "output_type": "display_data",
          "data": {
            "text/plain": [
              "  0%|          | 0/48 [00:00<?, ?it/s]"
            ],
            "application/vnd.jupyter.widget-view+json": {
              "version_major": 2,
              "version_minor": 0,
              "model_id": "a40db1a659bd4634903da8de1ca9fc98"
            }
          },
          "metadata": {
            "tags": []
          }
        },
        {
          "output_type": "display_data",
          "data": {
            "text/plain": [
              "  0%|          | 0/380 [00:00<?, ?it/s]"
            ],
            "application/vnd.jupyter.widget-view+json": {
              "version_major": 2,
              "version_minor": 0,
              "model_id": "8de4ee22607a47e3b3f46721c0f6b7d1"
            }
          },
          "metadata": {
            "tags": []
          }
        },
        {
          "output_type": "stream",
          "text": [
            "Epoch: 2  Train Loss: 0.0096  Train Acc: 99.8033  Valid Loss: 0.0043  Valid Acc: 99.9023 Test Loss: 0.0656  Test Acc: 98.0701 \n",
            "Saving Model\n"
          ],
          "name": "stdout"
        },
        {
          "output_type": "display_data",
          "data": {
            "text/plain": [
              "  0%|          | 0/143 [00:00<?, ?it/s]"
            ],
            "application/vnd.jupyter.widget-view+json": {
              "version_major": 2,
              "version_minor": 0,
              "model_id": "b96c521a97bb451ea7da7134d91f5c8a"
            }
          },
          "metadata": {
            "tags": []
          }
        },
        {
          "output_type": "display_data",
          "data": {
            "text/plain": [
              "  0%|          | 0/48 [00:00<?, ?it/s]"
            ],
            "application/vnd.jupyter.widget-view+json": {
              "version_major": 2,
              "version_minor": 0,
              "model_id": "d3c9e8eee1564956a7d36a55d5402937"
            }
          },
          "metadata": {
            "tags": []
          }
        },
        {
          "output_type": "display_data",
          "data": {
            "text/plain": [
              "  0%|          | 0/380 [00:00<?, ?it/s]"
            ],
            "application/vnd.jupyter.widget-view+json": {
              "version_major": 2,
              "version_minor": 0,
              "model_id": "e1ab54af80824e9e9dc9b4caf9f0bb94"
            }
          },
          "metadata": {
            "tags": []
          }
        },
        {
          "output_type": "stream",
          "text": [
            "Epoch: 3  Train Loss: 0.0051  Train Acc: 99.9563  Valid Loss: 0.0021  Valid Acc: 99.9674 Test Loss: 0.0728  Test Acc: 97.5026 \n"
          ],
          "name": "stdout"
        },
        {
          "output_type": "display_data",
          "data": {
            "text/plain": [
              "  0%|          | 0/143 [00:00<?, ?it/s]"
            ],
            "application/vnd.jupyter.widget-view+json": {
              "version_major": 2,
              "version_minor": 0,
              "model_id": "e1b875c1f5ef443f8a165e3b29965d29"
            }
          },
          "metadata": {
            "tags": []
          }
        },
        {
          "output_type": "display_data",
          "data": {
            "text/plain": [
              "  0%|          | 0/48 [00:00<?, ?it/s]"
            ],
            "application/vnd.jupyter.widget-view+json": {
              "version_major": 2,
              "version_minor": 0,
              "model_id": "8de54fda86c14a7b9cdadb355de7c7ef"
            }
          },
          "metadata": {
            "tags": []
          }
        },
        {
          "output_type": "display_data",
          "data": {
            "text/plain": [
              "  0%|          | 0/380 [00:00<?, ?it/s]"
            ],
            "application/vnd.jupyter.widget-view+json": {
              "version_major": 2,
              "version_minor": 0,
              "model_id": "eb4d2466f5fb49f7b2d499f310b8e0b2"
            }
          },
          "metadata": {
            "tags": []
          }
        },
        {
          "output_type": "stream",
          "text": [
            "Epoch: 4  Train Loss: 0.0032  Train Acc: 99.9672  Valid Loss: 0.0013  Valid Acc: 100.0000 Test Loss: 0.0644  Test Acc: 97.7478 \n"
          ],
          "name": "stdout"
        },
        {
          "output_type": "display_data",
          "data": {
            "text/plain": [
              "  0%|          | 0/143 [00:00<?, ?it/s]"
            ],
            "application/vnd.jupyter.widget-view+json": {
              "version_major": 2,
              "version_minor": 0,
              "model_id": "d27a0bc6a24849f4b8c809ffceb3a43a"
            }
          },
          "metadata": {
            "tags": []
          }
        },
        {
          "output_type": "display_data",
          "data": {
            "text/plain": [
              "  0%|          | 0/48 [00:00<?, ?it/s]"
            ],
            "application/vnd.jupyter.widget-view+json": {
              "version_major": 2,
              "version_minor": 0,
              "model_id": "115efc95a1f3412da7db3abfecf150dc"
            }
          },
          "metadata": {
            "tags": []
          }
        },
        {
          "output_type": "display_data",
          "data": {
            "text/plain": [
              "  0%|          | 0/380 [00:00<?, ?it/s]"
            ],
            "application/vnd.jupyter.widget-view+json": {
              "version_major": 2,
              "version_minor": 0,
              "model_id": "c4529e289b4643b3b94d3035a6108fa5"
            }
          },
          "metadata": {
            "tags": []
          }
        },
        {
          "output_type": "stream",
          "text": [
            "Epoch: 5  Train Loss: 0.0027  Train Acc: 99.9672  Valid Loss: 0.0013  Valid Acc: 99.9674 Test Loss: 0.0626  Test Acc: 97.9549 \n"
          ],
          "name": "stdout"
        },
        {
          "output_type": "display_data",
          "data": {
            "text/plain": [
              "  0%|          | 0/143 [00:00<?, ?it/s]"
            ],
            "application/vnd.jupyter.widget-view+json": {
              "version_major": 2,
              "version_minor": 0,
              "model_id": "60c7bdc496ab4186bfe5d67cc6430cfb"
            }
          },
          "metadata": {
            "tags": []
          }
        },
        {
          "output_type": "display_data",
          "data": {
            "text/plain": [
              "  0%|          | 0/48 [00:00<?, ?it/s]"
            ],
            "application/vnd.jupyter.widget-view+json": {
              "version_major": 2,
              "version_minor": 0,
              "model_id": "9e7ef65ede774a7b8d632926f35ab00c"
            }
          },
          "metadata": {
            "tags": []
          }
        },
        {
          "output_type": "display_data",
          "data": {
            "text/plain": [
              "  0%|          | 0/380 [00:00<?, ?it/s]"
            ],
            "application/vnd.jupyter.widget-view+json": {
              "version_major": 2,
              "version_minor": 0,
              "model_id": "a6e23fcc6af4422383409a78bdfc52ee"
            }
          },
          "metadata": {
            "tags": []
          }
        },
        {
          "output_type": "stream",
          "text": [
            "Epoch: 6  Train Loss: 0.0028  Train Acc: 99.9563  Valid Loss: 0.0006  Valid Acc: 100.0000 Test Loss: 0.0713  Test Acc: 97.4705 \n"
          ],
          "name": "stdout"
        },
        {
          "output_type": "display_data",
          "data": {
            "text/plain": [
              "  0%|          | 0/143 [00:00<?, ?it/s]"
            ],
            "application/vnd.jupyter.widget-view+json": {
              "version_major": 2,
              "version_minor": 0,
              "model_id": "cb62a23bc4b9443297aa80a50720c2ef"
            }
          },
          "metadata": {
            "tags": []
          }
        },
        {
          "output_type": "display_data",
          "data": {
            "text/plain": [
              "  0%|          | 0/48 [00:00<?, ?it/s]"
            ],
            "application/vnd.jupyter.widget-view+json": {
              "version_major": 2,
              "version_minor": 0,
              "model_id": "f857634f73214cd4a3f3ecfaf6ae8cf0"
            }
          },
          "metadata": {
            "tags": []
          }
        },
        {
          "output_type": "display_data",
          "data": {
            "text/plain": [
              "  0%|          | 0/380 [00:00<?, ?it/s]"
            ],
            "application/vnd.jupyter.widget-view+json": {
              "version_major": 2,
              "version_minor": 0,
              "model_id": "3a585a1500ce40a99d68fb80f479294d"
            }
          },
          "metadata": {
            "tags": []
          }
        },
        {
          "output_type": "stream",
          "text": [
            "Epoch: 7  Train Loss: 0.0017  Train Acc: 99.9599  Valid Loss: 0.0004  Valid Acc: 100.0000 Test Loss: 0.0631  Test Acc: 97.7542 \n"
          ],
          "name": "stdout"
        },
        {
          "output_type": "display_data",
          "data": {
            "text/plain": [
              "  0%|          | 0/143 [00:00<?, ?it/s]"
            ],
            "application/vnd.jupyter.widget-view+json": {
              "version_major": 2,
              "version_minor": 0,
              "model_id": "a9b41f5b994f4b5eac7404d349beb701"
            }
          },
          "metadata": {
            "tags": []
          }
        },
        {
          "output_type": "display_data",
          "data": {
            "text/plain": [
              "  0%|          | 0/48 [00:00<?, ?it/s]"
            ],
            "application/vnd.jupyter.widget-view+json": {
              "version_major": 2,
              "version_minor": 0,
              "model_id": "8853d8930c3f49de8bc2b63247b18d5c"
            }
          },
          "metadata": {
            "tags": []
          }
        },
        {
          "output_type": "display_data",
          "data": {
            "text/plain": [
              "  0%|          | 0/380 [00:00<?, ?it/s]"
            ],
            "application/vnd.jupyter.widget-view+json": {
              "version_major": 2,
              "version_minor": 0,
              "model_id": "342ed2301d2b49f384682d7571f5fc22"
            }
          },
          "metadata": {
            "tags": []
          }
        },
        {
          "output_type": "stream",
          "text": [
            "Epoch: 8  Train Loss: 0.0028  Train Acc: 99.9563  Valid Loss: 0.0014  Valid Acc: 99.9349 Test Loss: 0.0546  Test Acc: 98.1504 \n",
            "Saving Model\n"
          ],
          "name": "stdout"
        },
        {
          "output_type": "display_data",
          "data": {
            "text/plain": [
              "  0%|          | 0/143 [00:00<?, ?it/s]"
            ],
            "application/vnd.jupyter.widget-view+json": {
              "version_major": 2,
              "version_minor": 0,
              "model_id": "3812a951bc5d4e56852189361c1f003b"
            }
          },
          "metadata": {
            "tags": []
          }
        },
        {
          "output_type": "display_data",
          "data": {
            "text/plain": [
              "  0%|          | 0/48 [00:00<?, ?it/s]"
            ],
            "application/vnd.jupyter.widget-view+json": {
              "version_major": 2,
              "version_minor": 0,
              "model_id": "4eac992f4a0a4d19a4a0f6c78d988201"
            }
          },
          "metadata": {
            "tags": []
          }
        },
        {
          "output_type": "display_data",
          "data": {
            "text/plain": [
              "  0%|          | 0/380 [00:00<?, ?it/s]"
            ],
            "application/vnd.jupyter.widget-view+json": {
              "version_major": 2,
              "version_minor": 0,
              "model_id": "80cdaccc0da240cf85c1b06e076fcc6e"
            }
          },
          "metadata": {
            "tags": []
          }
        },
        {
          "output_type": "stream",
          "text": [
            "Epoch: 9  Train Loss: 0.0012  Train Acc: 99.9781  Valid Loss: 0.0023  Valid Acc: 99.9349 Test Loss: 0.0743  Test Acc: 97.2914 \n"
          ],
          "name": "stdout"
        },
        {
          "output_type": "display_data",
          "data": {
            "text/plain": [
              "  0%|          | 0/143 [00:00<?, ?it/s]"
            ],
            "application/vnd.jupyter.widget-view+json": {
              "version_major": 2,
              "version_minor": 0,
              "model_id": "d1000ce1e8d14f51b9d74d2e2d9c4626"
            }
          },
          "metadata": {
            "tags": []
          }
        },
        {
          "output_type": "display_data",
          "data": {
            "text/plain": [
              "  0%|          | 0/48 [00:00<?, ?it/s]"
            ],
            "application/vnd.jupyter.widget-view+json": {
              "version_major": 2,
              "version_minor": 0,
              "model_id": "d397f659336745608977febe939f0593"
            }
          },
          "metadata": {
            "tags": []
          }
        },
        {
          "output_type": "display_data",
          "data": {
            "text/plain": [
              "  0%|          | 0/380 [00:00<?, ?it/s]"
            ],
            "application/vnd.jupyter.widget-view+json": {
              "version_major": 2,
              "version_minor": 0,
              "model_id": "339a6f2dc307473a988b6386ebfcee2b"
            }
          },
          "metadata": {
            "tags": []
          }
        },
        {
          "output_type": "stream",
          "text": [
            "Epoch: 10  Train Loss: 0.0010  Train Acc: 99.9891  Valid Loss: 0.0003  Valid Acc: 100.0000 Test Loss: 0.0636  Test Acc: 97.7295 \n"
          ],
          "name": "stdout"
        },
        {
          "output_type": "display_data",
          "data": {
            "text/plain": [
              "  0%|          | 0/143 [00:00<?, ?it/s]"
            ],
            "application/vnd.jupyter.widget-view+json": {
              "version_major": 2,
              "version_minor": 0,
              "model_id": "7d0bb1ccfccb4013aaf4711c75893b19"
            }
          },
          "metadata": {
            "tags": []
          }
        },
        {
          "output_type": "display_data",
          "data": {
            "text/plain": [
              "  0%|          | 0/48 [00:00<?, ?it/s]"
            ],
            "application/vnd.jupyter.widget-view+json": {
              "version_major": 2,
              "version_minor": 0,
              "model_id": "59b5208c2dab4c158c6297b50574ff83"
            }
          },
          "metadata": {
            "tags": []
          }
        },
        {
          "output_type": "display_data",
          "data": {
            "text/plain": [
              "  0%|          | 0/380 [00:00<?, ?it/s]"
            ],
            "application/vnd.jupyter.widget-view+json": {
              "version_major": 2,
              "version_minor": 0,
              "model_id": "31216b05285a49ea8ed408dd71ad4277"
            }
          },
          "metadata": {
            "tags": []
          }
        },
        {
          "output_type": "stream",
          "text": [
            "Epoch: 11  Train Loss: 0.0009  Train Acc: 99.9891  Valid Loss: 0.0004  Valid Acc: 100.0000 Test Loss: 0.0627  Test Acc: 97.7190 \n"
          ],
          "name": "stdout"
        },
        {
          "output_type": "display_data",
          "data": {
            "text/plain": [
              "  0%|          | 0/143 [00:00<?, ?it/s]"
            ],
            "application/vnd.jupyter.widget-view+json": {
              "version_major": 2,
              "version_minor": 0,
              "model_id": "0d8a017878414177ad92b3ca8f577279"
            }
          },
          "metadata": {
            "tags": []
          }
        },
        {
          "output_type": "display_data",
          "data": {
            "text/plain": [
              "  0%|          | 0/48 [00:00<?, ?it/s]"
            ],
            "application/vnd.jupyter.widget-view+json": {
              "version_major": 2,
              "version_minor": 0,
              "model_id": "c9f68a314aef4cb1b0213de5133e7957"
            }
          },
          "metadata": {
            "tags": []
          }
        },
        {
          "output_type": "display_data",
          "data": {
            "text/plain": [
              "  0%|          | 0/380 [00:00<?, ?it/s]"
            ],
            "application/vnd.jupyter.widget-view+json": {
              "version_major": 2,
              "version_minor": 0,
              "model_id": "5d964424aebf40a9a4a63fc7899c8e53"
            }
          },
          "metadata": {
            "tags": []
          }
        },
        {
          "output_type": "stream",
          "text": [
            "Epoch: 12  Train Loss: 0.0010  Train Acc: 99.9672  Valid Loss: 0.0003  Valid Acc: 100.0000 Test Loss: 0.0685  Test Acc: 97.4622 \n"
          ],
          "name": "stdout"
        },
        {
          "output_type": "display_data",
          "data": {
            "text/plain": [
              "  0%|          | 0/143 [00:00<?, ?it/s]"
            ],
            "application/vnd.jupyter.widget-view+json": {
              "version_major": 2,
              "version_minor": 0,
              "model_id": "2b55c8ba122c400d997586a0f2aa7e1e"
            }
          },
          "metadata": {
            "tags": []
          }
        },
        {
          "output_type": "display_data",
          "data": {
            "text/plain": [
              "  0%|          | 0/48 [00:00<?, ?it/s]"
            ],
            "application/vnd.jupyter.widget-view+json": {
              "version_major": 2,
              "version_minor": 0,
              "model_id": "fba6744931514da78d0b999ce40c3961"
            }
          },
          "metadata": {
            "tags": []
          }
        },
        {
          "output_type": "display_data",
          "data": {
            "text/plain": [
              "  0%|          | 0/380 [00:00<?, ?it/s]"
            ],
            "application/vnd.jupyter.widget-view+json": {
              "version_major": 2,
              "version_minor": 0,
              "model_id": "04f96d7af4474f7eaedec689894706e3"
            }
          },
          "metadata": {
            "tags": []
          }
        },
        {
          "output_type": "stream",
          "text": [
            "Epoch: 13  Train Loss: 0.0009  Train Acc: 100.0000  Valid Loss: 0.0003  Valid Acc: 100.0000 Test Loss: 0.0652  Test Acc: 97.6002 \n"
          ],
          "name": "stdout"
        },
        {
          "output_type": "display_data",
          "data": {
            "text/plain": [
              "  0%|          | 0/143 [00:00<?, ?it/s]"
            ],
            "application/vnd.jupyter.widget-view+json": {
              "version_major": 2,
              "version_minor": 0,
              "model_id": "5281b0f5e52a4305a12dffe30e0cb6e9"
            }
          },
          "metadata": {
            "tags": []
          }
        },
        {
          "output_type": "display_data",
          "data": {
            "text/plain": [
              "  0%|          | 0/48 [00:00<?, ?it/s]"
            ],
            "application/vnd.jupyter.widget-view+json": {
              "version_major": 2,
              "version_minor": 0,
              "model_id": "23d5570a7d1846a58fd2399060c9a8f2"
            }
          },
          "metadata": {
            "tags": []
          }
        },
        {
          "output_type": "display_data",
          "data": {
            "text/plain": [
              "  0%|          | 0/380 [00:00<?, ?it/s]"
            ],
            "application/vnd.jupyter.widget-view+json": {
              "version_major": 2,
              "version_minor": 0,
              "model_id": "2e970bb62eb144dcbb9b7fcf935fff2e"
            }
          },
          "metadata": {
            "tags": []
          }
        },
        {
          "output_type": "stream",
          "text": [
            "Epoch: 14  Train Loss: 0.0009  Train Acc: 99.9891  Valid Loss: 0.0008  Valid Acc: 99.9674 Test Loss: 0.0806  Test Acc: 97.0327 \n"
          ],
          "name": "stdout"
        },
        {
          "output_type": "display_data",
          "data": {
            "text/plain": [
              "  0%|          | 0/143 [00:00<?, ?it/s]"
            ],
            "application/vnd.jupyter.widget-view+json": {
              "version_major": 2,
              "version_minor": 0,
              "model_id": "b9ba5aa4cc4c431089fb7e7d1ed96e12"
            }
          },
          "metadata": {
            "tags": []
          }
        },
        {
          "output_type": "display_data",
          "data": {
            "text/plain": [
              "  0%|          | 0/48 [00:00<?, ?it/s]"
            ],
            "application/vnd.jupyter.widget-view+json": {
              "version_major": 2,
              "version_minor": 0,
              "model_id": "13e4e694fd644f63968f22b8bfdff382"
            }
          },
          "metadata": {
            "tags": []
          }
        },
        {
          "output_type": "display_data",
          "data": {
            "text/plain": [
              "  0%|          | 0/380 [00:00<?, ?it/s]"
            ],
            "application/vnd.jupyter.widget-view+json": {
              "version_major": 2,
              "version_minor": 0,
              "model_id": "7dbeb64c59d743c9a767ce5551dc0614"
            }
          },
          "metadata": {
            "tags": []
          }
        },
        {
          "output_type": "stream",
          "text": [
            "Epoch: 15  Train Loss: 0.0006  Train Acc: 100.0000  Valid Loss: 0.0004  Valid Acc: 100.0000 Test Loss: 0.0752  Test Acc: 97.1109 \n",
            "Time Elapsed : 1528.2920s\n"
          ],
          "name": "stdout"
        }
      ]
    },
    {
      "cell_type": "code",
      "metadata": {
        "execution": {
          "iopub.status.busy": "2021-06-02T08:00:49.687119Z",
          "iopub.execute_input": "2021-06-02T08:00:49.687436Z",
          "iopub.status.idle": "2021-06-02T08:00:49.692687Z",
          "shell.execute_reply.started": "2021-06-02T08:00:49.687406Z",
          "shell.execute_reply": "2021-06-02T08:00:49.691452Z"
        },
        "trusted": true,
        "id": "2NUpbPa_GYkO"
      },
      "source": [
        "testloader = DataLoader(benchmark,\n",
        "        batch_size=batch_size, shuffle=False,num_workers=2)"
      ],
      "execution_count": null,
      "outputs": []
    },
    {
      "cell_type": "code",
      "metadata": {
        "id": "prT1NAHyGYkO"
      },
      "source": [
        "ckpt=torch.load('test98.1504.pt')#LOADING TNE BEST MODEL I GOT IN PREVIOUS 15 epochs\n",
        "model.load_state_dict(ckpt['model_state_dict'])"
      ],
      "execution_count": null,
      "outputs": []
    },
    {
      "cell_type": "code",
      "metadata": {
        "execution": {
          "iopub.status.busy": "2021-06-02T08:09:15.029829Z",
          "iopub.execute_input": "2021-06-02T08:09:15.030145Z",
          "iopub.status.idle": "2021-06-02T08:09:15.058927Z",
          "shell.execute_reply.started": "2021-06-02T08:09:15.030116Z",
          "shell.execute_reply": "2021-06-02T08:09:15.058144Z"
        },
        "trusted": true,
        "id": "EylNA4hHGYkO"
      },
      "source": [
        "model=model.to(device)"
      ],
      "execution_count": null,
      "outputs": []
    },
    {
      "cell_type": "code",
      "metadata": {
        "execution": {
          "iopub.status.busy": "2021-06-02T08:04:23.419003Z",
          "iopub.execute_input": "2021-06-02T08:04:23.419409Z",
          "iopub.status.idle": "2021-06-02T08:05:10.215928Z",
          "shell.execute_reply.started": "2021-06-02T08:04:23.419373Z",
          "shell.execute_reply": "2021-06-02T08:05:10.214860Z"
        },
        "trusted": true,
        "colab": {
          "referenced_widgets": [
            "88165235bd6344fabb492ea36fa81a64"
          ]
        },
        "id": "9LfH96rkGYkO",
        "outputId": "4b4ef245-a555-41f9-ab2c-485268a8d75c"
      },
      "source": [
        "loss_test, acc_test = inference(model,criterion,testloader)"
      ],
      "execution_count": null,
      "outputs": [
        {
          "output_type": "display_data",
          "data": {
            "text/plain": [
              "  0%|          | 0/380 [00:00<?, ?it/s]"
            ],
            "application/vnd.jupyter.widget-view+json": {
              "version_major": 2,
              "version_minor": 0,
              "model_id": "88165235bd6344fabb492ea36fa81a64"
            }
          },
          "metadata": {
            "tags": []
          }
        }
      ]
    },
    {
      "cell_type": "code",
      "metadata": {
        "execution": {
          "iopub.status.busy": "2021-06-02T08:06:02.106940Z",
          "iopub.execute_input": "2021-06-02T08:06:02.107306Z",
          "iopub.status.idle": "2021-06-02T08:06:02.114219Z",
          "shell.execute_reply.started": "2021-06-02T08:06:02.107266Z",
          "shell.execute_reply": "2021-06-02T08:06:02.113222Z"
        },
        "trusted": true,
        "id": "8xCqO5gfGYkP",
        "outputId": "6f988adb-df53-4ded-a29d-5935e4f4496a"
      },
      "source": [
        "loss_test,acc_test"
      ],
      "execution_count": null,
      "outputs": [
        {
          "output_type": "execute_result",
          "data": {
            "text/plain": [
              "(0.05355461331323328, 98.19789175924502)"
            ]
          },
          "metadata": {
            "tags": []
          },
          "execution_count": 52
        }
      ]
    },
    {
      "cell_type": "code",
      "metadata": {
        "execution": {
          "iopub.status.busy": "2021-06-02T08:09:08.310359Z",
          "iopub.execute_input": "2021-06-02T08:09:08.310703Z",
          "iopub.status.idle": "2021-06-02T08:09:08.706601Z",
          "shell.execute_reply.started": "2021-06-02T08:09:08.310671Z",
          "shell.execute_reply": "2021-06-02T08:09:08.705605Z"
        },
        "trusted": true,
        "id": "PZOAsmzSGYkP",
        "outputId": "138b3010-d423-4951-fc66-fb375fff22f9"
      },
      "source": [
        "ckpt=torch.load('test98.0700.pt')\n",
        "model.load_state_dict(ckpt['model_state_dict'])"
      ],
      "execution_count": null,
      "outputs": [
        {
          "output_type": "execute_result",
          "data": {
            "text/plain": [
              "<All keys matched successfully>"
            ]
          },
          "metadata": {
            "tags": []
          },
          "execution_count": 53
        }
      ]
    },
    {
      "cell_type": "code",
      "metadata": {
        "execution": {
          "iopub.status.busy": "2021-06-02T08:09:23.921207Z",
          "iopub.execute_input": "2021-06-02T08:09:23.921616Z",
          "iopub.status.idle": "2021-06-02T08:10:10.717170Z",
          "shell.execute_reply.started": "2021-06-02T08:09:23.921556Z",
          "shell.execute_reply": "2021-06-02T08:10:10.716199Z"
        },
        "trusted": true,
        "colab": {
          "referenced_widgets": [
            "1a527c0c77044b8fa0c4a144ebf9af35"
          ]
        },
        "id": "cOtROwW2GYkP",
        "outputId": "a8844bab-159e-493e-e1e3-bc3486c66ee1"
      },
      "source": [
        "loss_test, acc_test = inference(model,criterion,testloader)"
      ],
      "execution_count": null,
      "outputs": [
        {
          "output_type": "display_data",
          "data": {
            "text/plain": [
              "  0%|          | 0/380 [00:00<?, ?it/s]"
            ],
            "application/vnd.jupyter.widget-view+json": {
              "version_major": 2,
              "version_minor": 0,
              "model_id": "1a527c0c77044b8fa0c4a144ebf9af35"
            }
          },
          "metadata": {
            "tags": []
          }
        }
      ]
    },
    {
      "cell_type": "code",
      "metadata": {
        "execution": {
          "iopub.status.busy": "2021-06-02T08:10:17.467448Z",
          "iopub.execute_input": "2021-06-02T08:10:17.467832Z",
          "iopub.status.idle": "2021-06-02T08:10:17.477442Z",
          "shell.execute_reply.started": "2021-06-02T08:10:17.467790Z",
          "shell.execute_reply": "2021-06-02T08:10:17.476626Z"
        },
        "trusted": true,
        "id": "usc6SY4oGYkQ",
        "outputId": "f4a7b966-accb-440d-8dd0-9b73660c5f3a"
      },
      "source": [
        "loss_test,acc_test"
      ],
      "execution_count": null,
      "outputs": [
        {
          "output_type": "execute_result",
          "data": {
            "text/plain": [
              "(0.06365583250819902, 98.2509718913781)"
            ]
          },
          "metadata": {
            "tags": []
          },
          "execution_count": 56
        }
      ]
    },
    {
      "cell_type": "code",
      "metadata": {
        "execution": {
          "iopub.status.busy": "2021-06-02T07:57:19.943412Z",
          "iopub.execute_input": "2021-06-02T07:57:19.943998Z",
          "iopub.status.idle": "2021-06-02T07:57:25.679966Z",
          "shell.execute_reply.started": "2021-06-02T07:57:19.943949Z",
          "shell.execute_reply": "2021-06-02T07:57:25.676999Z"
        },
        "trusted": true,
        "colab": {
          "referenced_widgets": [
            ""
          ]
        },
        "id": "2u7r2L0WGYkQ",
        "outputId": "728275ca-7da0-46cc-961d-9477c65bd828"
      },
      "source": [
        "#TRYING TO FINETUNE FURTHER WITH LOWER LEARNING RATES\n",
        "wandb.init(name='50_SN1_Densenet161',\n",
        "           project='50_SN',\n",
        "           notes='3 Channels with Augs,Sobel', \n",
        "           tags=['SGD','StepLR'],\n",
        "           entity='creganstark')\n",
        "\n",
        "# WandB Configurations (optional)        \n",
        "wandb.config.lr = 5e-4\n",
        "#model=model.float()\n",
        "#model = model.to(device)\n",
        "criterion = nn.CrossEntropyLoss()\n",
        "optimizer = optim.SGD(model.parameters(),\n",
        "                      lr  =  5e-4,\n",
        "                      momentum     = 0.9,\n",
        "                      nesterov     = True,\n",
        "                      weight_decay = 5e-4)\n",
        "\n",
        "#scheduler = optim.lr_scheduler.CyclicLR(optimizer,base_lr=5e-5,max_lr=5e-4 ,step_size_up=2000)\n",
        "scheduler = optim.lr_scheduler.StepLR(optimizer,step_size=3,gamma=0.5)\n",
        "# Log the network weight histograms (optional)\n",
        "#wandb.watch(model)\n",
        "\n",
        "num_epochs = 10\n",
        "start_time = time.time()\n",
        "prev_acc=0\n",
        "for epoch in range(1, num_epochs+1):\n",
        "    \n",
        "    loss_train, acc_train = train(model, criterion, optimizer, trainloader)\n",
        "    loss_valid, acc_valid = validate(model, criterion, valloader)\n",
        "    loss_test, acc_test = inference(model,criterion,testloader)\n",
        "    scheduler.step()\n",
        "    \n",
        "    print('Epoch: {}  Train Loss: {:.4f}  Train Acc: {:.4f}  Valid Loss: {:.4f}  Valid Acc: {:.4f} Test Loss: {:.4f}  Test Acc: {:.4f} '.format(epoch, loss_train, acc_train, loss_valid, acc_valid, loss_test, acc_test))\n",
        "\n",
        "    #Log the loss and accuracy values at the end of each epoch\n",
        "    wandb.log({\n",
        "        \"Epoch\": epoch,\n",
        "        \"Train Loss\": loss_train,\n",
        "        \"Train Acc\": acc_train,\n",
        "        \"Test Loss\": loss_test,\n",
        "        \"Test Acc\": acc_test})\n",
        "    if acc_test>prev_acc:\n",
        "      prev_acc=acc_test\n",
        "      acc_test=str(acc_test)\n",
        "      paths = \"test\"+acc_test[:7]+\".pt\"\n",
        "      print('Saving Model')\n",
        "      torch.save({\n",
        "          'epoch': epoch,\n",
        "          'model_state_dict': model.state_dict(),\n",
        "          'optimizer_state_dict': optimizer.state_dict(),\n",
        "          'val_loss': loss_valid,\n",
        "          'val_acc':acc_valid,\n",
        "          'train_acc':acc_train,\n",
        "          'loss_acc':loss_train,\n",
        "          },str(paths))\n",
        "\n",
        "print(\"Time Elapsed : {:.4f}s\".format(time.time() - start_time))"
      ],
      "execution_count": null,
      "outputs": [
        {
          "output_type": "display_data",
          "data": {
            "text/plain": [
              "<IPython.core.display.HTML object>"
            ],
            "text/html": [
              "Finishing last run (ID:1bfp8oxb) before initializing another..."
            ]
          },
          "metadata": {
            "tags": []
          }
        },
        {
          "output_type": "display_data",
          "data": {
            "text/plain": [
              "<IPython.core.display.HTML object>"
            ],
            "text/html": [
              "<br/>Waiting for W&B process to finish, PID 102<br/>Program ended successfully."
            ]
          },
          "metadata": {
            "tags": []
          }
        },
        {
          "output_type": "display_data",
          "data": {
            "text/plain": [
              "VBox(children=(Label(value=' 0.06MB of 0.06MB uploaded (0.00MB deduped)\\r'), FloatProgress(value=1.0, max=1.0)…"
            ],
            "application/vnd.jupyter.widget-view+json": {
              "version_major": 2,
              "version_minor": 0,
              "model_id": ""
            }
          },
          "metadata": {
            "tags": []
          }
        },
        {
          "output_type": "stream",
          "text": [
            "\u001b[34m\u001b[1mwandb\u001b[0m: \u001b[32m\u001b[41mERROR\u001b[0m Control-C detected -- Run data was not synced\n"
          ],
          "name": "stderr"
        },
        {
          "output_type": "display_data",
          "data": {
            "text/plain": [
              "<IPython.core.display.HTML object>"
            ],
            "text/html": [
              "...Successfully finished last run (ID:1bfp8oxb). Initializing new run:<br/><br/>"
            ]
          },
          "metadata": {
            "tags": []
          }
        },
        {
          "output_type": "stream",
          "text": [
            "\u001b[34m\u001b[1mwandb\u001b[0m: wandb version 0.10.31 is available!  To upgrade, please run:\n",
            "\u001b[34m\u001b[1mwandb\u001b[0m:  $ pip install wandb --upgrade\n"
          ],
          "name": "stderr"
        },
        {
          "output_type": "stream",
          "text": [
            "Problem at: <ipython-input-22-8a76172c7f54> 5 <module>\n"
          ],
          "name": "stdout"
        },
        {
          "output_type": "error",
          "ename": "KeyboardInterrupt",
          "evalue": "",
          "traceback": [
            "\u001b[0;31m---------------------------------------------------------------------------\u001b[0m",
            "\u001b[0;31mKeyboardInterrupt\u001b[0m                         Traceback (most recent call last)",
            "\u001b[0;32m<ipython-input-22-8a76172c7f54>\u001b[0m in \u001b[0;36m<module>\u001b[0;34m\u001b[0m\n\u001b[1;32m      3\u001b[0m            \u001b[0mnotes\u001b[0m\u001b[0;34m=\u001b[0m\u001b[0;34m'3 Channels with Augs,Sobel'\u001b[0m\u001b[0;34m,\u001b[0m\u001b[0;34m\u001b[0m\u001b[0;34m\u001b[0m\u001b[0m\n\u001b[1;32m      4\u001b[0m            \u001b[0mtags\u001b[0m\u001b[0;34m=\u001b[0m\u001b[0;34m[\u001b[0m\u001b[0;34m'SGD'\u001b[0m\u001b[0;34m,\u001b[0m\u001b[0;34m'StepLR'\u001b[0m\u001b[0;34m]\u001b[0m\u001b[0;34m,\u001b[0m\u001b[0;34m\u001b[0m\u001b[0;34m\u001b[0m\u001b[0m\n\u001b[0;32m----> 5\u001b[0;31m            entity='creganstark')\n\u001b[0m\u001b[1;32m      6\u001b[0m \u001b[0;34m\u001b[0m\u001b[0m\n\u001b[1;32m      7\u001b[0m \u001b[0;31m# WandB Configurations (optional)\u001b[0m\u001b[0;34m\u001b[0m\u001b[0;34m\u001b[0m\u001b[0;34m\u001b[0m\u001b[0m\n",
            "\u001b[0;32m/opt/conda/lib/python3.7/site-packages/wandb/sdk/wandb_init.py\u001b[0m in \u001b[0;36minit\u001b[0;34m(job_type, dir, config, project, entity, reinit, tags, group, name, notes, magic, config_exclude_keys, config_include_keys, anonymous, mode, allow_val_change, resume, force, tensorboard, sync_tensorboard, monitor_gym, save_code, id, settings)\u001b[0m\n\u001b[1;32m    763\u001b[0m         \u001b[0;32massert\u001b[0m \u001b[0mlogger\u001b[0m\u001b[0;34m\u001b[0m\u001b[0;34m\u001b[0m\u001b[0m\n\u001b[1;32m    764\u001b[0m         \u001b[0mlogger\u001b[0m\u001b[0;34m.\u001b[0m\u001b[0mwarning\u001b[0m\u001b[0;34m(\u001b[0m\u001b[0;34m\"interrupted\"\u001b[0m\u001b[0;34m,\u001b[0m \u001b[0mexc_info\u001b[0m\u001b[0;34m=\u001b[0m\u001b[0me\u001b[0m\u001b[0;34m)\u001b[0m\u001b[0;34m\u001b[0m\u001b[0;34m\u001b[0m\u001b[0m\n\u001b[0;32m--> 765\u001b[0;31m         \u001b[0;32mraise\u001b[0m \u001b[0me\u001b[0m\u001b[0;34m\u001b[0m\u001b[0;34m\u001b[0m\u001b[0m\n\u001b[0m\u001b[1;32m    766\u001b[0m     \u001b[0;32mexcept\u001b[0m \u001b[0mException\u001b[0m \u001b[0;32mas\u001b[0m \u001b[0me\u001b[0m\u001b[0;34m:\u001b[0m\u001b[0;34m\u001b[0m\u001b[0;34m\u001b[0m\u001b[0m\n\u001b[1;32m    767\u001b[0m         \u001b[0merror_seen\u001b[0m \u001b[0;34m=\u001b[0m \u001b[0me\u001b[0m\u001b[0;34m\u001b[0m\u001b[0;34m\u001b[0m\u001b[0m\n",
            "\u001b[0;32m/opt/conda/lib/python3.7/site-packages/wandb/sdk/wandb_init.py\u001b[0m in \u001b[0;36minit\u001b[0;34m(job_type, dir, config, project, entity, reinit, tags, group, name, notes, magic, config_exclude_keys, config_include_keys, anonymous, mode, allow_val_change, resume, force, tensorboard, sync_tensorboard, monitor_gym, save_code, id, settings)\u001b[0m\n\u001b[1;32m    742\u001b[0m         \u001b[0mexcept_exit\u001b[0m \u001b[0;34m=\u001b[0m \u001b[0mwi\u001b[0m\u001b[0;34m.\u001b[0m\u001b[0msettings\u001b[0m\u001b[0;34m.\u001b[0m\u001b[0m_except_exit\u001b[0m\u001b[0;34m\u001b[0m\u001b[0;34m\u001b[0m\u001b[0m\n\u001b[1;32m    743\u001b[0m         \u001b[0;32mtry\u001b[0m\u001b[0;34m:\u001b[0m\u001b[0;34m\u001b[0m\u001b[0;34m\u001b[0m\u001b[0m\n\u001b[0;32m--> 744\u001b[0;31m             \u001b[0mrun\u001b[0m \u001b[0;34m=\u001b[0m \u001b[0mwi\u001b[0m\u001b[0;34m.\u001b[0m\u001b[0minit\u001b[0m\u001b[0;34m(\u001b[0m\u001b[0;34m)\u001b[0m\u001b[0;34m\u001b[0m\u001b[0;34m\u001b[0m\u001b[0m\n\u001b[0m\u001b[1;32m    745\u001b[0m             \u001b[0mexcept_exit\u001b[0m \u001b[0;34m=\u001b[0m \u001b[0mwi\u001b[0m\u001b[0;34m.\u001b[0m\u001b[0msettings\u001b[0m\u001b[0;34m.\u001b[0m\u001b[0m_except_exit\u001b[0m\u001b[0;34m\u001b[0m\u001b[0;34m\u001b[0m\u001b[0m\n\u001b[1;32m    746\u001b[0m         \u001b[0;32mexcept\u001b[0m \u001b[0;34m(\u001b[0m\u001b[0mKeyboardInterrupt\u001b[0m\u001b[0;34m,\u001b[0m \u001b[0mException\u001b[0m\u001b[0;34m)\u001b[0m \u001b[0;32mas\u001b[0m \u001b[0me\u001b[0m\u001b[0;34m:\u001b[0m\u001b[0;34m\u001b[0m\u001b[0;34m\u001b[0m\u001b[0m\n",
            "\u001b[0;32m/opt/conda/lib/python3.7/site-packages/wandb/sdk/wandb_init.py\u001b[0m in \u001b[0;36minit\u001b[0;34m(self)\u001b[0m\n\u001b[1;32m    523\u001b[0m         \u001b[0;31m# initiate run (stats and metadata probing)\u001b[0m\u001b[0;34m\u001b[0m\u001b[0;34m\u001b[0m\u001b[0;34m\u001b[0m\u001b[0m\n\u001b[1;32m    524\u001b[0m         \u001b[0mrun_obj\u001b[0m \u001b[0;34m=\u001b[0m \u001b[0mrun\u001b[0m\u001b[0;34m.\u001b[0m\u001b[0m_run_obj\u001b[0m \u001b[0;32mor\u001b[0m \u001b[0mrun\u001b[0m\u001b[0;34m.\u001b[0m\u001b[0m_run_obj_offline\u001b[0m\u001b[0;34m\u001b[0m\u001b[0;34m\u001b[0m\u001b[0m\n\u001b[0;32m--> 525\u001b[0;31m         \u001b[0m_\u001b[0m \u001b[0;34m=\u001b[0m \u001b[0mbackend\u001b[0m\u001b[0;34m.\u001b[0m\u001b[0minterface\u001b[0m\u001b[0;34m.\u001b[0m\u001b[0mcommunicate_run_start\u001b[0m\u001b[0;34m(\u001b[0m\u001b[0mrun_obj\u001b[0m\u001b[0;34m)\u001b[0m\u001b[0;34m\u001b[0m\u001b[0;34m\u001b[0m\u001b[0m\n\u001b[0m\u001b[1;32m    526\u001b[0m \u001b[0;34m\u001b[0m\u001b[0m\n\u001b[1;32m    527\u001b[0m         \u001b[0mself\u001b[0m\u001b[0;34m.\u001b[0m\u001b[0m_wl\u001b[0m\u001b[0;34m.\u001b[0m\u001b[0m_global_run_stack\u001b[0m\u001b[0;34m.\u001b[0m\u001b[0mappend\u001b[0m\u001b[0;34m(\u001b[0m\u001b[0mrun\u001b[0m\u001b[0;34m)\u001b[0m\u001b[0;34m\u001b[0m\u001b[0;34m\u001b[0m\u001b[0m\n",
            "\u001b[0;32m/opt/conda/lib/python3.7/site-packages/wandb/sdk/interface/interface.py\u001b[0m in \u001b[0;36mcommunicate_run_start\u001b[0;34m(self, run_pb)\u001b[0m\n\u001b[1;32m    781\u001b[0m         \u001b[0mrun_start\u001b[0m\u001b[0;34m.\u001b[0m\u001b[0mrun\u001b[0m\u001b[0;34m.\u001b[0m\u001b[0mCopyFrom\u001b[0m\u001b[0;34m(\u001b[0m\u001b[0mrun_pb\u001b[0m\u001b[0;34m)\u001b[0m\u001b[0;34m\u001b[0m\u001b[0;34m\u001b[0m\u001b[0m\n\u001b[1;32m    782\u001b[0m         \u001b[0mrec\u001b[0m \u001b[0;34m=\u001b[0m \u001b[0mself\u001b[0m\u001b[0;34m.\u001b[0m\u001b[0m_make_request\u001b[0m\u001b[0;34m(\u001b[0m\u001b[0mrun_start\u001b[0m\u001b[0;34m=\u001b[0m\u001b[0mrun_start\u001b[0m\u001b[0;34m)\u001b[0m\u001b[0;34m\u001b[0m\u001b[0;34m\u001b[0m\u001b[0m\n\u001b[0;32m--> 783\u001b[0;31m         \u001b[0mresult\u001b[0m \u001b[0;34m=\u001b[0m \u001b[0mself\u001b[0m\u001b[0;34m.\u001b[0m\u001b[0m_communicate\u001b[0m\u001b[0;34m(\u001b[0m\u001b[0mrec\u001b[0m\u001b[0;34m)\u001b[0m\u001b[0;34m\u001b[0m\u001b[0;34m\u001b[0m\u001b[0m\n\u001b[0m\u001b[1;32m    784\u001b[0m         \u001b[0;32mreturn\u001b[0m \u001b[0mresult\u001b[0m\u001b[0;34m\u001b[0m\u001b[0;34m\u001b[0m\u001b[0m\n\u001b[1;32m    785\u001b[0m \u001b[0;34m\u001b[0m\u001b[0m\n",
            "\u001b[0;32m/opt/conda/lib/python3.7/site-packages/wandb/sdk/interface/interface.py\u001b[0m in \u001b[0;36m_communicate\u001b[0;34m(self, rec, timeout, local)\u001b[0m\n\u001b[1;32m    531\u001b[0m         \u001b[0mself\u001b[0m\u001b[0;34m,\u001b[0m \u001b[0mrec\u001b[0m\u001b[0;34m:\u001b[0m \u001b[0mpb\u001b[0m\u001b[0;34m.\u001b[0m\u001b[0mRecord\u001b[0m\u001b[0;34m,\u001b[0m \u001b[0mtimeout\u001b[0m\u001b[0;34m:\u001b[0m \u001b[0mOptional\u001b[0m\u001b[0;34m[\u001b[0m\u001b[0mint\u001b[0m\u001b[0;34m]\u001b[0m \u001b[0;34m=\u001b[0m \u001b[0;36m5\u001b[0m\u001b[0;34m,\u001b[0m \u001b[0mlocal\u001b[0m\u001b[0;34m:\u001b[0m \u001b[0mbool\u001b[0m \u001b[0;34m=\u001b[0m \u001b[0;32mNone\u001b[0m\u001b[0;34m\u001b[0m\u001b[0;34m\u001b[0m\u001b[0m\n\u001b[1;32m    532\u001b[0m     ) -> Optional[pb.Result]:\n\u001b[0;32m--> 533\u001b[0;31m         \u001b[0;32mreturn\u001b[0m \u001b[0mself\u001b[0m\u001b[0;34m.\u001b[0m\u001b[0m_communicate_async\u001b[0m\u001b[0;34m(\u001b[0m\u001b[0mrec\u001b[0m\u001b[0;34m,\u001b[0m \u001b[0mlocal\u001b[0m\u001b[0;34m=\u001b[0m\u001b[0mlocal\u001b[0m\u001b[0;34m)\u001b[0m\u001b[0;34m.\u001b[0m\u001b[0mget\u001b[0m\u001b[0;34m(\u001b[0m\u001b[0mtimeout\u001b[0m\u001b[0;34m=\u001b[0m\u001b[0mtimeout\u001b[0m\u001b[0;34m)\u001b[0m\u001b[0;34m\u001b[0m\u001b[0;34m\u001b[0m\u001b[0m\n\u001b[0m\u001b[1;32m    534\u001b[0m \u001b[0;34m\u001b[0m\u001b[0m\n\u001b[1;32m    535\u001b[0m     \u001b[0;32mdef\u001b[0m \u001b[0m_communicate_async\u001b[0m\u001b[0;34m(\u001b[0m\u001b[0mself\u001b[0m\u001b[0;34m,\u001b[0m \u001b[0mrec\u001b[0m\u001b[0;34m:\u001b[0m \u001b[0mpb\u001b[0m\u001b[0;34m.\u001b[0m\u001b[0mRecord\u001b[0m\u001b[0;34m,\u001b[0m \u001b[0mlocal\u001b[0m\u001b[0;34m:\u001b[0m \u001b[0mbool\u001b[0m \u001b[0;34m=\u001b[0m \u001b[0;32mNone\u001b[0m\u001b[0;34m)\u001b[0m \u001b[0;34m->\u001b[0m \u001b[0m_Future\u001b[0m\u001b[0;34m:\u001b[0m\u001b[0;34m\u001b[0m\u001b[0;34m\u001b[0m\u001b[0m\n",
            "\u001b[0;32m/opt/conda/lib/python3.7/site-packages/wandb/sdk/interface/interface.py\u001b[0m in \u001b[0;36mget\u001b[0;34m(self, timeout)\u001b[0m\n\u001b[1;32m     80\u001b[0m \u001b[0;34m\u001b[0m\u001b[0m\n\u001b[1;32m     81\u001b[0m     \u001b[0;32mdef\u001b[0m \u001b[0mget\u001b[0m\u001b[0;34m(\u001b[0m\u001b[0mself\u001b[0m\u001b[0;34m,\u001b[0m \u001b[0mtimeout\u001b[0m\u001b[0;34m:\u001b[0m \u001b[0mint\u001b[0m \u001b[0;34m=\u001b[0m \u001b[0;32mNone\u001b[0m\u001b[0;34m)\u001b[0m \u001b[0;34m->\u001b[0m \u001b[0mOptional\u001b[0m\u001b[0;34m[\u001b[0m\u001b[0mpb\u001b[0m\u001b[0;34m.\u001b[0m\u001b[0mResult\u001b[0m\u001b[0;34m]\u001b[0m\u001b[0;34m:\u001b[0m\u001b[0;34m\u001b[0m\u001b[0;34m\u001b[0m\u001b[0m\n\u001b[0;32m---> 82\u001b[0;31m         \u001b[0mis_set\u001b[0m \u001b[0;34m=\u001b[0m \u001b[0mself\u001b[0m\u001b[0;34m.\u001b[0m\u001b[0m_object_ready\u001b[0m\u001b[0;34m.\u001b[0m\u001b[0mwait\u001b[0m\u001b[0;34m(\u001b[0m\u001b[0mtimeout\u001b[0m\u001b[0;34m)\u001b[0m\u001b[0;34m\u001b[0m\u001b[0;34m\u001b[0m\u001b[0m\n\u001b[0m\u001b[1;32m     83\u001b[0m         \u001b[0;32mif\u001b[0m \u001b[0mis_set\u001b[0m \u001b[0;32mand\u001b[0m \u001b[0mself\u001b[0m\u001b[0;34m.\u001b[0m\u001b[0m_object\u001b[0m\u001b[0;34m:\u001b[0m\u001b[0;34m\u001b[0m\u001b[0;34m\u001b[0m\u001b[0m\n\u001b[1;32m     84\u001b[0m             \u001b[0;32mreturn\u001b[0m \u001b[0mself\u001b[0m\u001b[0;34m.\u001b[0m\u001b[0m_object\u001b[0m\u001b[0;34m\u001b[0m\u001b[0;34m\u001b[0m\u001b[0m\n",
            "\u001b[0;32m/opt/conda/lib/python3.7/threading.py\u001b[0m in \u001b[0;36mwait\u001b[0;34m(self, timeout)\u001b[0m\n\u001b[1;32m    550\u001b[0m             \u001b[0msignaled\u001b[0m \u001b[0;34m=\u001b[0m \u001b[0mself\u001b[0m\u001b[0;34m.\u001b[0m\u001b[0m_flag\u001b[0m\u001b[0;34m\u001b[0m\u001b[0;34m\u001b[0m\u001b[0m\n\u001b[1;32m    551\u001b[0m             \u001b[0;32mif\u001b[0m \u001b[0;32mnot\u001b[0m \u001b[0msignaled\u001b[0m\u001b[0;34m:\u001b[0m\u001b[0;34m\u001b[0m\u001b[0;34m\u001b[0m\u001b[0m\n\u001b[0;32m--> 552\u001b[0;31m                 \u001b[0msignaled\u001b[0m \u001b[0;34m=\u001b[0m \u001b[0mself\u001b[0m\u001b[0;34m.\u001b[0m\u001b[0m_cond\u001b[0m\u001b[0;34m.\u001b[0m\u001b[0mwait\u001b[0m\u001b[0;34m(\u001b[0m\u001b[0mtimeout\u001b[0m\u001b[0;34m)\u001b[0m\u001b[0;34m\u001b[0m\u001b[0;34m\u001b[0m\u001b[0m\n\u001b[0m\u001b[1;32m    553\u001b[0m             \u001b[0;32mreturn\u001b[0m \u001b[0msignaled\u001b[0m\u001b[0;34m\u001b[0m\u001b[0;34m\u001b[0m\u001b[0m\n\u001b[1;32m    554\u001b[0m \u001b[0;34m\u001b[0m\u001b[0m\n",
            "\u001b[0;32m/opt/conda/lib/python3.7/threading.py\u001b[0m in \u001b[0;36mwait\u001b[0;34m(self, timeout)\u001b[0m\n\u001b[1;32m    298\u001b[0m             \u001b[0;32melse\u001b[0m\u001b[0;34m:\u001b[0m\u001b[0;34m\u001b[0m\u001b[0;34m\u001b[0m\u001b[0m\n\u001b[1;32m    299\u001b[0m                 \u001b[0;32mif\u001b[0m \u001b[0mtimeout\u001b[0m \u001b[0;34m>\u001b[0m \u001b[0;36m0\u001b[0m\u001b[0;34m:\u001b[0m\u001b[0;34m\u001b[0m\u001b[0;34m\u001b[0m\u001b[0m\n\u001b[0;32m--> 300\u001b[0;31m                     \u001b[0mgotit\u001b[0m \u001b[0;34m=\u001b[0m \u001b[0mwaiter\u001b[0m\u001b[0;34m.\u001b[0m\u001b[0macquire\u001b[0m\u001b[0;34m(\u001b[0m\u001b[0;32mTrue\u001b[0m\u001b[0;34m,\u001b[0m \u001b[0mtimeout\u001b[0m\u001b[0;34m)\u001b[0m\u001b[0;34m\u001b[0m\u001b[0;34m\u001b[0m\u001b[0m\n\u001b[0m\u001b[1;32m    301\u001b[0m                 \u001b[0;32melse\u001b[0m\u001b[0;34m:\u001b[0m\u001b[0;34m\u001b[0m\u001b[0;34m\u001b[0m\u001b[0m\n\u001b[1;32m    302\u001b[0m                     \u001b[0mgotit\u001b[0m \u001b[0;34m=\u001b[0m \u001b[0mwaiter\u001b[0m\u001b[0;34m.\u001b[0m\u001b[0macquire\u001b[0m\u001b[0;34m(\u001b[0m\u001b[0;32mFalse\u001b[0m\u001b[0;34m)\u001b[0m\u001b[0;34m\u001b[0m\u001b[0;34m\u001b[0m\u001b[0m\n",
            "\u001b[0;31mKeyboardInterrupt\u001b[0m: "
          ]
        }
      ]
    },
    {
      "cell_type": "code",
      "metadata": {
        "execution": {
          "iopub.status.busy": "2021-06-02T07:57:25.683079Z",
          "iopub.status.idle": "2021-06-02T07:57:25.683798Z"
        },
        "trusted": true,
        "id": "CK2MBXlBGYkQ"
      },
      "source": [
        "wandb.init(name='50_SN1_Densenet161',\n",
        "           project='50_SN',\n",
        "           notes='3 Channels with Augs,Sobel', \n",
        "           tags=['SGD','StepLR'],\n",
        "           entity='creganstark')\n",
        "\n",
        "criterion = nn.CrossEntropyLoss()\n",
        "optimizer = optim.SGD(model.parameters(),\n",
        "                      lr  =  5e-6,\n",
        "                      momentum     = 0.9,\n",
        "                      nesterov     = True,\n",
        "                      weight_decay = 5e-4)\n",
        "scheduler = optim.lr_scheduler.StepLR(optimizer,step_size=1,gamma=0.5)\n",
        "num_epochs = 5\n",
        "start_time = time.time()\n",
        "prev_acc=0\n",
        "for epoch in range(1, num_epochs+1):\n",
        "    \n",
        "    loss_train, acc_train = train(model, criterion, optimizer, trainloader)\n",
        "    loss_valid, acc_valid = validate(model, criterion, valloader)\n",
        "    loss_test, acc_test = inference(model,criterion,testloader)\n",
        "    scheduler.step()\n",
        "    \n",
        "    print('Epoch: {}  Train Loss: {:.4f}  Train Acc: {:.4f}  Valid Loss: {:.4f}  Valid Acc: {:.4f} Test Loss: {:.4f}  Test Acc: {:.4f} '.format(epoch, loss_train, acc_train, loss_valid, acc_valid, loss_test, acc_test))\n",
        "\n",
        "    #Log the loss and accuracy values at the end of each epoch\n",
        "    wandb.log({\n",
        "        \"Epoch\": epoch,\n",
        "        \"Train Loss\": loss_train,\n",
        "        \"Train Acc\": acc_train,\n",
        "        \"Test Loss\": loss_test,\n",
        "        \"Test Acc\": acc_test})\n",
        "    if acc_test>prev_acc:\n",
        "      prev_acc=acc_test\n",
        "      acc_test=str(acc_test)\n",
        "      paths = \"test\"+acc_test[:7]+\".pt\"\n",
        "      print('Saving Model')\n",
        "      torch.save({\n",
        "          'epoch': epoch,\n",
        "          'model_state_dict': model.state_dict(),\n",
        "          'optimizer_state_dict': optimizer.state_dict(),\n",
        "          'val_loss': loss_valid,\n",
        "          'val_acc':acc_valid,\n",
        "          'train_acc':acc_train,\n",
        "          'loss_acc':loss_train,\n",
        "          },str(paths))\n",
        "\n",
        "print(\"Time Elapsed : {:.4f}s\".format(time.time() - start_time))"
      ],
      "execution_count": null,
      "outputs": []
    },
    {
      "cell_type": "code",
      "metadata": {
        "execution": {
          "iopub.status.busy": "2021-06-02T07:57:25.688652Z",
          "iopub.status.idle": "2021-06-02T07:57:25.691173Z"
        },
        "trusted": true,
        "id": "5coDzFBvGYkR"
      },
      "source": [
        "wandb.init(name='50_SN1_Densenet161',\n",
        "           project='50_SN',\n",
        "           notes='3 Channels with Augs,Sobel', \n",
        "           tags=['SGD','StepLR'],\n",
        "           entity='creganstark')\n",
        "\n",
        "criterion = nn.CrossEntropyLoss()\n",
        "optimizer = optim.SGD(model.parameters(),\n",
        "                      lr  =  5e-7,\n",
        "                      momentum     = 0.9,\n",
        "                      nesterov     = True,\n",
        "                      weight_decay = 5e-4)\n",
        "scheduler = optim.lr_scheduler.StepLR(optimizer,step_size=1,gamma=0.5)\n",
        "num_epochs = 3\n",
        "start_time = time.time()\n",
        "prev_acc=0\n",
        "for epoch in range(1, num_epochs+1):\n",
        "    \n",
        "    loss_train, acc_train = train(model, criterion, optimizer, trainloader)\n",
        "    loss_valid, acc_valid = validate(model, criterion, valloader)\n",
        "    loss_test, acc_test = inference(model,criterion,testloader)\n",
        "    scheduler.step()\n",
        "    \n",
        "    print('Epoch: {}  Train Loss: {:.4f}  Train Acc: {:.4f}  Valid Loss: {:.4f}  Valid Acc: {:.4f} Test Loss: {:.4f}  Test Acc: {:.4f} '.format(epoch, loss_train, acc_train, loss_valid, acc_valid, loss_test, acc_test))\n",
        "\n",
        "    #Log the loss and accuracy values at the end of each epoch\n",
        "    wandb.log({\n",
        "        \"Epoch\": epoch,\n",
        "        \"Train Loss\": loss_train,\n",
        "        \"Train Acc\": acc_train,\n",
        "        \"Test Loss\": loss_test,\n",
        "        \"Test Acc\": acc_test})\n",
        "    if acc_test>prev_acc:\n",
        "      prev_acc=acc_test\n",
        "      acc_test=str(acc_test)\n",
        "      paths = \"test\"+acc_test[:7]+\".pt\"\n",
        "      print('Saving Model')\n",
        "      torch.save({\n",
        "          'epoch': epoch,\n",
        "          'model_state_dict': model.state_dict(),\n",
        "          'optimizer_state_dict': optimizer.state_dict(),\n",
        "          'val_loss': loss_valid,\n",
        "          'val_acc':acc_valid,\n",
        "          'train_acc':acc_train,\n",
        "          'loss_acc':loss_train,\n",
        "          },str(paths))\n",
        "\n",
        "print(\"Time Elapsed : {:.4f}s\".format(time.time() - start_time))"
      ],
      "execution_count": null,
      "outputs": []
    },
    {
      "cell_type": "code",
      "metadata": {
        "execution": {
          "iopub.status.busy": "2021-06-02T07:57:25.692298Z",
          "iopub.status.idle": "2021-06-02T07:57:25.694786Z"
        },
        "trusted": true,
        "id": "_1IqJQQpGYkR"
      },
      "source": [
        "wandb.init(name='50_SN1_Densenet161',\n",
        "           project='50_SN',\n",
        "           notes='3 Channels with Augs,Sobel', \n",
        "           tags=['SGD','StepLR'],\n",
        "           entity='creganstark')\n",
        "\n",
        "criterion = nn.CrossEntropyLoss()\n",
        "optimizer = optim.SGD(model.parameters(),\n",
        "                      lr  =  5e-7,\n",
        "                      momentum     = 0.9,\n",
        "                      nesterov     = True,\n",
        "                      weight_decay = 5e-4)\n",
        "scheduler = optim.lr_scheduler.StepLR(optimizer,step_size=1,gamma=0.5)\n",
        "num_epochs = 3\n",
        "start_time = time.time()\n",
        "prev_acc=0\n",
        "for epoch in range(1, num_epochs+1):\n",
        "    \n",
        "    loss_train, acc_train = train(model, criterion, optimizer, trainloader)\n",
        "    loss_valid, acc_valid = validate(model, criterion, valloader)\n",
        "    loss_test, acc_test = inference(model,criterion,testloader)\n",
        "    scheduler.step()\n",
        "    \n",
        "    print('Epoch: {}  Train Loss: {:.4f}  Train Acc: {:.4f}  Valid Loss: {:.4f}  Valid Acc: {:.4f} Test Loss: {:.4f}  Test Acc: {:.4f} '.format(epoch, loss_train, acc_train, loss_valid, acc_valid, loss_test, acc_test))\n",
        "\n",
        "    #Log the loss and accuracy values at the end of each epoch\n",
        "    wandb.log({\n",
        "        \"Epoch\": epoch,\n",
        "        \"Train Loss\": loss_train,\n",
        "        \"Train Acc\": acc_train,\n",
        "        \"Test Loss\": loss_test,\n",
        "        \"Test Acc\": acc_test})\n",
        "    if acc_test>prev_acc:\n",
        "      prev_acc=acc_test\n",
        "      acc_test=str(acc_test)\n",
        "      paths = \"test\"+acc_test[:7]+\".pt\"\n",
        "      print('Saving Model')\n",
        "      torch.save({\n",
        "          'epoch': epoch,\n",
        "          'model_state_dict': model.state_dict(),\n",
        "          'optimizer_state_dict': optimizer.state_dict(),\n",
        "          'val_loss': loss_valid,\n",
        "          'val_acc':acc_valid,\n",
        "          'train_acc':acc_train,\n",
        "          'loss_acc':loss_train,\n",
        "          },str(paths))\n",
        "\n",
        "print(\"Time Elapsed : {:.4f}s\".format(time.time() - start_time))"
      ],
      "execution_count": null,
      "outputs": []
    },
    {
      "cell_type": "code",
      "metadata": {
        "execution": {
          "iopub.status.busy": "2021-06-02T08:03:53.506140Z",
          "iopub.execute_input": "2021-06-02T08:03:53.506458Z",
          "iopub.status.idle": "2021-06-02T08:03:53.886527Z",
          "shell.execute_reply.started": "2021-06-02T08:03:53.506430Z",
          "shell.execute_reply": "2021-06-02T08:03:53.885716Z"
        },
        "trusted": true,
        "id": "29ypsbk7GYkR",
        "outputId": "15256112-c501-4bde-f2e9-36693af7d7a6"
      },
      "source": [
        "ckpt=torch.load('test98.1504.pt')\n",
        "model.load_state_dict(ckpt['model_state_dict'])"
      ],
      "execution_count": null,
      "outputs": [
        {
          "output_type": "execute_result",
          "data": {
            "text/plain": [
              "<All keys matched successfully>"
            ]
          },
          "metadata": {
            "tags": []
          },
          "execution_count": 49
        }
      ]
    },
    {
      "cell_type": "code",
      "metadata": {
        "execution": {
          "iopub.status.busy": "2021-06-02T08:03:36.086452Z",
          "iopub.execute_input": "2021-06-02T08:03:36.086831Z",
          "iopub.status.idle": "2021-06-02T08:03:36.092377Z",
          "shell.execute_reply.started": "2021-06-02T08:03:36.086800Z",
          "shell.execute_reply": "2021-06-02T08:03:36.091486Z"
        },
        "trusted": true,
        "id": "KgofBjySGYkS",
        "outputId": "9d93f748-63d2-4856-aa9f-4066bfaa3b01"
      },
      "source": [
        "#os.chdir(r'/kaggle/working')\n",
        "from IPython.display import FileLink #-> \n",
        "FileLink(r'test98.1504.pt')"
      ],
      "execution_count": null,
      "outputs": [
        {
          "output_type": "execute_result",
          "data": {
            "text/plain": [
              "/kaggle/working/test98.1504.pt"
            ],
            "text/html": [
              "<a href='test98.1504.pt' target='_blank'>test98.1504.pt</a><br>"
            ]
          },
          "metadata": {
            "tags": []
          },
          "execution_count": 48
        }
      ]
    },
    {
      "cell_type": "code",
      "metadata": {
        "execution": {
          "iopub.status.busy": "2021-06-02T07:57:25.703348Z",
          "iopub.status.idle": "2021-06-02T07:57:25.704225Z"
        },
        "trusted": true,
        "id": "0nJGKo_CGYkS"
      },
      "source": [
        "paths='finalcheckpintsobel1.pth'\n",
        "torch.save({\n",
        "          'epoch': epoch,\n",
        "          'model_state_dict': model.state_dict(),\n",
        "          'optimizer_state_dict': optimizer.state_dict(),\n",
        "          'val_loss': loss_valid,\n",
        "          'val_acc':acc_valid,\n",
        "          'train_acc':acc_train,\n",
        "          'loss_acc':loss_train,\n",
        "          },str(paths))\n"
      ],
      "execution_count": null,
      "outputs": []
    }
  ]
}
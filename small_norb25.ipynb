{
  "nbformat": 4,
  "nbformat_minor": 0,
  "metadata": {
    "kernelspec": {
      "language": "python",
      "display_name": "Python 3",
      "name": "python3"
    },
    "language_info": {
      "name": "python",
      "version": "3.7.10",
      "mimetype": "text/x-python",
      "codemirror_mode": {
        "name": "ipython",
        "version": 3
      },
      "pygments_lexer": "ipython3",
      "nbconvert_exporter": "python",
      "file_extension": ".py"
    },
    "colab": {
      "name": "small-norb25.ipynb",
      "provenance": [],
      "collapsed_sections": []
    }
  },
  "cells": [
    {
      "cell_type": "markdown",
      "metadata": {
        "id": "qiOj0Ov59ZMI"
      },
      "source": [
        "This code demonstrates how to load small NORB database into numpy array, it appeared to be non trivial task, because \".mat\" files is not a plain text as MNIST \".mat\".\n",
        "Code originated from\n",
        "https://jessicastringham.net/2018/05/03/smallnorb/\n",
        "in its turn, it based on\n",
        "https://github.com/ndrplz/small_norb\n",
        "I just adopted it for Kaggle."
      ]
    },
    {
      "cell_type": "code",
      "metadata": {
        "_uuid": "8f2839f25d086af736a60e9eeb907d3b93b6e0e5",
        "_cell_guid": "b1076dfc-b9ad-4769-8c92-a6c4dae69d19",
        "execution": {
          "iopub.status.busy": "2021-06-01T07:16:43.114498Z",
          "iopub.execute_input": "2021-06-01T07:16:43.114976Z",
          "iopub.status.idle": "2021-06-01T07:16:43.155307Z",
          "shell.execute_reply.started": "2021-06-01T07:16:43.114873Z",
          "shell.execute_reply": "2021-06-01T07:16:43.1543Z"
        },
        "trusted": true,
        "id": "10g1vwhI9ZMM"
      },
      "source": [
        "#show files\n",
        "import os\n",
        "for dirname, _, filenames in os.walk('/kaggle/input'):\n",
        "    for filename in filenames:\n",
        "        print(os.path.join(dirname, filename))"
      ],
      "execution_count": null,
      "outputs": []
    },
    {
      "cell_type": "code",
      "metadata": {
        "execution": {
          "iopub.status.busy": "2021-06-01T14:02:31.122712Z",
          "iopub.execute_input": "2021-06-01T14:02:31.123144Z",
          "iopub.status.idle": "2021-06-01T14:02:34.954346Z",
          "shell.execute_reply.started": "2021-06-01T14:02:31.123052Z",
          "shell.execute_reply": "2021-06-01T14:02:34.953319Z"
        },
        "trusted": true,
        "id": "xY5civ2B9ZMN"
      },
      "source": [
        "import os\n",
        "import cv2\n",
        "import wandb\n",
        "import time\n",
        "import torch\n",
        "import torch.nn as nn\n",
        "import numpy as np\n",
        "import torchvision\n",
        "import matplotlib\n",
        "import matplotlib.pyplot as plt\n",
        "import albumentations as A\n",
        "import torch.optim as optim\n",
        "from torchvision import transforms\n",
        "from torch.utils.data import Dataset, DataLoader\n",
        "from pathlib import Path\n",
        "from albumentations.pytorch import ToTensorV2\n",
        "import torch.nn.functional as F\n",
        "from tqdm.auto import tqdm"
      ],
      "execution_count": null,
      "outputs": []
    },
    {
      "cell_type": "code",
      "metadata": {
        "execution": {
          "iopub.status.busy": "2021-06-01T14:02:34.955998Z",
          "iopub.execute_input": "2021-06-01T14:02:34.956351Z",
          "iopub.status.idle": "2021-06-01T14:02:34.971420Z",
          "shell.execute_reply.started": "2021-06-01T14:02:34.956312Z",
          "shell.execute_reply": "2021-06-01T14:02:34.970337Z"
        },
        "trusted": true,
        "id": "FSY58n6o9ZMO",
        "outputId": "377458f1-3016-42ac-9c2a-4eee674f4c48"
      },
      "source": [
        "import torch\n",
        "torch.manual_seed(42)"
      ],
      "execution_count": null,
      "outputs": [
        {
          "output_type": "execute_result",
          "data": {
            "text/plain": [
              "<torch._C.Generator at 0x7f41885e6330>"
            ]
          },
          "metadata": {
            "tags": []
          },
          "execution_count": 2
        }
      ]
    },
    {
      "cell_type": "code",
      "metadata": {
        "execution": {
          "iopub.status.busy": "2021-06-01T14:02:37.061921Z",
          "iopub.execute_input": "2021-06-01T14:02:37.062272Z",
          "iopub.status.idle": "2021-06-01T14:02:43.734669Z",
          "shell.execute_reply.started": "2021-06-01T14:02:37.062235Z",
          "shell.execute_reply": "2021-06-01T14:02:43.733705Z"
        },
        "trusted": true,
        "id": "FdBDR7bj9ZMP",
        "outputId": "28cc752a-085c-43ed-b47d-fad00bd6ea70"
      },
      "source": [
        "# https://jessicastringham.net/2018/05/03/smallnorb/\n",
        "import numpy as np\n",
        "import struct\n",
        "\n",
        "DATA_FOLDER = \"/kaggle/input/the-small-norb-dataset-v10/\"\n",
        "\n",
        "PREFIXES = {\n",
        "    'train': 'smallnorb-5x46789x9x18x6x2x96x96-training-',\n",
        "    'test': 'smallnorb-5x01235x9x18x6x2x96x96-testing-',\n",
        "}\n",
        "\n",
        "FILE_TYPES = ['info', 'cat', 'dat']\n",
        "\n",
        "# helper function to read int from file\n",
        "def read_int(f):\n",
        "    num, = struct.unpack('i', f.read(4))\n",
        "    return num\n",
        "\n",
        "\n",
        "# From https://cs.nyu.edu/~ylclab/data/norb-v1.0-small/ \n",
        "# \"The magic number encodes the element type of the matrix\"\n",
        "# Note: I only copied over the ones I needed for these files.\n",
        "map_magic_number_to_data_type = {\n",
        "    '1e3d4c55': np.uint8,\n",
        "    '1e3d4c54': np.int32,\n",
        "}\n",
        "\n",
        "loaded_data = {}\n",
        "\n",
        "for dataset, prefix in PREFIXES.items():\n",
        "    for filetype in FILE_TYPES:\n",
        "        filename = prefix + filetype + \".mat\"\n",
        "        print('Reading {}'.format(filename))\n",
        "        \n",
        "        file_loc = os.path.join(DATA_FOLDER, filename)\n",
        "        with open( file_loc, 'rb') as f:\n",
        "            # Read the magic_num, convert it to hexadecimal, and look up the data_type\n",
        "            raw_magic_num = read_int(f)\n",
        "            magic_num = format(raw_magic_num, '02x')\n",
        "            data_type = map_magic_number_to_data_type[magic_num]\n",
        "            print('dtype', data_type)\n",
        "\n",
        "            # Read how many dimensions to expect\n",
        "            ndim = read_int(f)\n",
        "            \n",
        "            # Read at least 3 ints, or however many ndim there are\n",
        "            shape = [\n",
        "                read_int(f)\n",
        "                for i in range(max(ndim, 3))\n",
        "            ]   \n",
        "            # But in case ndims < 3, take at most n_dim elements\n",
        "            shape = shape[:ndim]\n",
        "            print('shape', shape)\n",
        "    \n",
        "            # Now load the actual data!\n",
        "            loaded_data[(dataset, filetype)] = np.fromfile(\n",
        "                f, \n",
        "                dtype=data_type, \n",
        "                count=np.prod(shape)\n",
        "            ).reshape(shape)"
      ],
      "execution_count": null,
      "outputs": [
        {
          "output_type": "stream",
          "text": [
            "Reading smallnorb-5x46789x9x18x6x2x96x96-training-info.mat\n",
            "dtype <class 'numpy.int32'>\n",
            "shape [24300, 4]\n",
            "Reading smallnorb-5x46789x9x18x6x2x96x96-training-cat.mat\n",
            "dtype <class 'numpy.int32'>\n",
            "shape [24300]\n",
            "Reading smallnorb-5x46789x9x18x6x2x96x96-training-dat.mat\n",
            "dtype <class 'numpy.uint8'>\n",
            "shape [24300, 2, 96, 96]\n",
            "Reading smallnorb-5x01235x9x18x6x2x96x96-testing-info.mat\n",
            "dtype <class 'numpy.int32'>\n",
            "shape [24300, 4]\n",
            "Reading smallnorb-5x01235x9x18x6x2x96x96-testing-cat.mat\n",
            "dtype <class 'numpy.int32'>\n",
            "shape [24300]\n",
            "Reading smallnorb-5x01235x9x18x6x2x96x96-testing-dat.mat\n",
            "dtype <class 'numpy.uint8'>\n",
            "shape [24300, 2, 96, 96]\n"
          ],
          "name": "stdout"
        }
      ]
    },
    {
      "cell_type": "code",
      "metadata": {
        "execution": {
          "iopub.status.busy": "2021-06-01T14:02:46.318627Z",
          "iopub.execute_input": "2021-06-01T14:02:46.318999Z",
          "iopub.status.idle": "2021-06-01T14:02:46.606740Z",
          "shell.execute_reply.started": "2021-06-01T14:02:46.318965Z",
          "shell.execute_reply": "2021-06-01T14:02:46.605823Z"
        },
        "trusted": true,
        "id": "RomXxTPu9ZMQ"
      },
      "source": [
        "import kornia\n",
        "from kornia.filters.kernels import (\n",
        "    get_spatial_gradient_kernel2d, get_spatial_gradient_kernel3d, normalize_kernel2d\n",
        ")\n",
        "\n",
        "\n",
        "def spatial_gradient(input: torch.Tensor,\n",
        "                     mode: str = 'sobel',\n",
        "                     order: int = 1,\n",
        "                     normalized: bool = True) -> torch.Tensor:\n",
        "    r\"\"\"Computes the first order image derivative in both x and y using a Sobel\n",
        "    operator.\n",
        "\n",
        "    Args:\n",
        "        input (torch.Tensor): input image tensor with shape :math:`(B, C, H, W)`.\n",
        "        mode (str): derivatives modality, can be: `sobel` or `diff`. Default: `sobel`.\n",
        "        order (int): the order of the derivatives. Default: 1.\n",
        "        normalized (bool): whether the output is normalized. Default: True.\n",
        "\n",
        "    Return:\n",
        "        torch.Tensor: the derivatives of the input feature map. with shape :math:`(B, C, 2, H, W)`.\n",
        "\n",
        "    Examples:\n",
        "        >>> input = torch.rand(1, 3, 4, 4)\n",
        "        >>> output = spatial_gradient(input)  # 1x3x2x4x4\n",
        "        >>> output.shape\n",
        "        torch.Size([1, 3, 2, 4, 4])\n",
        "    \"\"\"\n",
        "    if not isinstance(input, torch.Tensor):\n",
        "        raise TypeError(\"Input type is not a torch.Tensor. Got {}\"\n",
        "                        .format(type(input)))\n",
        "\n",
        "    if not len(input.shape) == 4:\n",
        "        raise ValueError(\"Invalid input shape, we expect BxCxHxW. Got: {}\"\n",
        "                         .format(input.shape))\n",
        "    # allocate kernel\n",
        "    kernel: torch.Tensor = get_spatial_gradient_kernel2d(mode, order)\n",
        "    if normalized:\n",
        "        kernel = normalize_kernel2d(kernel)\n",
        "\n",
        "    # prepare kernel\n",
        "    b, c, h, w = input.shape\n",
        "    tmp_kernel: torch.Tensor = kernel.to(input).detach()\n",
        "    tmp_kernel = tmp_kernel.unsqueeze(1).unsqueeze(1)\n",
        "\n",
        "    # convolve input tensor with sobel kernel\n",
        "    kernel_flip: torch.Tensor = tmp_kernel.flip(-3)\n",
        "\n",
        "    # Pad with \"replicate for spatial dims, but with zeros for channel\n",
        "    spatial_pad = [\n",
        "        kernel.size(1) // 2,\n",
        "        kernel.size(1) // 2,\n",
        "        kernel.size(2) // 2,\n",
        "        kernel.size(2) // 2\n",
        "    ]\n",
        "    out_channels: int = 3 if order == 2 else 2\n",
        "    padded_inp: torch.Tensor = F.pad(\n",
        "        input.reshape(b * c, 1, h, w), spatial_pad, 'replicate')[:, :, None]\n",
        "\n",
        "    return F.conv3d(padded_inp, kernel_flip, padding=0).view(b, c, out_channels, h, w)\n",
        "\n",
        "\n",
        "\n",
        "def spatial_gradient3d(input: torch.Tensor,\n",
        "                       mode: str = 'diff',\n",
        "                       order: int = 1) -> torch.Tensor:\n",
        "    r\"\"\"Computes the first and second order volume derivative in x, y and d using a diff\n",
        "    operator.\n",
        "\n",
        "    Args:\n",
        "        input (torch.Tensor): input features tensor with shape :math:`(B, C, D, H, W)`.\n",
        "        mode (str): derivatives modality, can be: `sobel` or `diff`. Default: `diff`.\n",
        "        order (int): the order of the derivatives. Default: 1.\n",
        "\n",
        "    Return:\n",
        "        torch.Tensor: the spatial gradients of the input feature map.\n",
        "\n",
        "    Shape:\n",
        "        - Input: :math:`(B, C, D, H, W)`. D, H, W are spatial dimensions, gradient is calculated w.r.t to them.\n",
        "        - Output: :math:`(B, C, 3, D, H, W)` or :math:`(B, C, 6, D, H, W)`\n",
        "\n",
        "    Examples:\n",
        "        >>> input = torch.rand(1, 4, 2, 4, 4)\n",
        "        >>> output = spatial_gradient3d(input)\n",
        "        >>> output.shape\n",
        "        torch.Size([1, 4, 3, 2, 4, 4])\n",
        "    \"\"\"\n",
        "    if not isinstance(input, torch.Tensor):\n",
        "        raise TypeError(\"Input type is not a torch.Tensor. Got {}\"\n",
        "                        .format(type(input)))\n",
        "\n",
        "    if not len(input.shape) == 5:\n",
        "        raise ValueError(\"Invalid input shape, we expect BxCxDxHxW. Got: {}\"\n",
        "                         .format(input.shape))\n",
        "    # allocate kernel\n",
        "    kernel: torch.Tensor = get_spatial_gradient_kernel3d(mode, order)\n",
        "\n",
        "    # prepare kernel\n",
        "    b, c, d, h, w = input.shape\n",
        "    tmp_kernel: torch.Tensor = kernel.to(input).detach()\n",
        "    tmp_kernel = tmp_kernel.repeat(c, 1, 1, 1, 1)\n",
        "\n",
        "    # convolve input tensor with grad kernel\n",
        "    kernel_flip: torch.Tensor = tmp_kernel.flip(-3)\n",
        "\n",
        "    # Pad with \"replicate for spatial dims, but with zeros for channel\n",
        "    spatial_pad = [\n",
        "        kernel.size(2) // 2,\n",
        "        kernel.size(2) // 2,\n",
        "        kernel.size(3) // 2,\n",
        "        kernel.size(3) // 2,\n",
        "        kernel.size(4) // 2,\n",
        "        kernel.size(4) // 2\n",
        "    ]\n",
        "    out_ch: int = 6 if order == 2 else 3\n",
        "    return F.conv3d(F.pad(\n",
        "        input, spatial_pad, 'replicate'), kernel_flip, padding=0, groups=c).view(b, c, out_ch, d, h, w)\n",
        "\n",
        "\n",
        "\n",
        "def sobel(input: torch.Tensor, normalized: bool = True, eps: float = 1e-6) -> torch.Tensor:\n",
        "    r\"\"\"Computes the Sobel operator and returns the magnitude per channel.\n",
        "\n",
        "    Args:\n",
        "        input (torch.Tensor): the input image with shape :math:`(B,C,H,W)`.\n",
        "        normalized (bool): if True, L1 norm of the kernel is set to 1.\n",
        "        eps (float): regularization number to avoid NaN during backprop. Default: 1e-6.\n",
        "\n",
        "    Return:\n",
        "        torch.Tensor: the sobel edge gradient magnitudes map with shape :math:`(B,C,H,W)`.\n",
        "\n",
        "    Example:\n",
        "        >>> input = torch.rand(1, 3, 4, 4)\n",
        "        >>> output = sobel(input)  # 1x3x4x4\n",
        "        >>> output.shape\n",
        "        torch.Size([1, 3, 4, 4])\n",
        "    \"\"\"\n",
        "    if not isinstance(input, torch.Tensor):\n",
        "        raise TypeError(\"Input type is not a torch.Tensor. Got {}\"\n",
        "                        .format(type(input)))\n",
        "\n",
        "    if not len(input.shape) == 4:\n",
        "        raise ValueError(\"Invalid input shape, we expect BxCxHxW. Got: {}\"\n",
        "                         .format(input.shape))\n",
        "\n",
        "    # comput the x/y gradients\n",
        "    edges: torch.Tensor = spatial_gradient(input, normalized=normalized)\n",
        "\n",
        "    # unpack the edges\n",
        "    gx: torch.Tensor = edges[:, :, 0]\n",
        "    gy: torch.Tensor = edges[:, :, 1]\n",
        "\n",
        "    # compute gradient maginitude\n",
        "    magnitude: torch.Tensor = torch.sqrt(gx * gx + gy * gy + eps)\n",
        "\n",
        "    return magnitude\n",
        "\n",
        "\n",
        "\n",
        "class SpatialGradient(nn.Module):\n",
        "    r\"\"\"Computes the first order image derivative in both x and y using a Sobel\n",
        "    operator.\n",
        "\n",
        "    Args:\n",
        "        mode (str): derivatives modality, can be: `sobel` or `diff`. Default: `sobel`.\n",
        "        order (int): the order of the derivatives. Default: 1.\n",
        "        normalized (bool): whether the output is normalized. Default: True.\n",
        "\n",
        "    Return:\n",
        "        torch.Tensor: the sobel edges of the input feature map.\n",
        "\n",
        "    Shape:\n",
        "        - Input: :math:`(B, C, H, W)`\n",
        "        - Output: :math:`(B, C, 2, H, W)`\n",
        "\n",
        "    Examples:\n",
        "        >>> input = torch.rand(1, 3, 4, 4)\n",
        "        >>> output = SpatialGradient()(input)  # 1x3x2x4x4\n",
        "    \"\"\"\n",
        "\n",
        "    def __init__(self,\n",
        "                 mode: str = 'sobel',\n",
        "                 order: int = 1,\n",
        "                 normalized: bool = True) -> None:\n",
        "        super(SpatialGradient, self).__init__()\n",
        "        self.normalized: bool = normalized\n",
        "        self.order: int = order\n",
        "        self.mode: str = mode\n",
        "\n",
        "    def __repr__(self) -> str:\n",
        "        return self.__class__.__name__ + '('\\\n",
        "            'order=' + str(self.order) + ', ' + \\\n",
        "            'normalized=' + str(self.normalized) + ', ' + \\\n",
        "            'mode=' + self.mode + ')'\n",
        "\n",
        "    def forward(self, input: torch.Tensor) -> torch.Tensor:\n",
        "        return spatial_gradient(input, self.mode, self.order, self.normalized)\n",
        "\n",
        "\n",
        "\n",
        "class SpatialGradient3d(nn.Module):\n",
        "    r\"\"\"Computes the first and second order volume derivative in x, y and d using a diff\n",
        "    operator.\n",
        "\n",
        "    Args:\n",
        "        mode (str): derivatives modality, can be: `sobel` or `diff`. Default: `sobel`.\n",
        "        order (int): the order of the derivatives. Default: 1.\n",
        "\n",
        "    Return:\n",
        "        torch.Tensor: the spatial gradients of the input feature map.\n",
        "\n",
        "    Shape:\n",
        "        - Input: :math:`(B, C, D, H, W)`. D, H, W are spatial dimensions, gradient is calculated w.r.t to them.\n",
        "        - Output: :math:`(B, C, 3, D, H, W)` or :math:`(B, C, 6, D, H, W)`\n",
        "\n",
        "    Examples:\n",
        "        >>> input = torch.rand(1, 4, 2, 4, 4)\n",
        "        >>> output = SpatialGradient3d()(input)\n",
        "        >>> output.shape\n",
        "        torch.Size([1, 4, 3, 2, 4, 4])\n",
        "    \"\"\"\n",
        "\n",
        "    def __init__(self,\n",
        "                 mode: str = 'diff',\n",
        "                 order: int = 1) -> None:\n",
        "        super(SpatialGradient3d, self).__init__()\n",
        "        self.order: int = order\n",
        "        self.mode: str = mode\n",
        "        self.kernel = get_spatial_gradient_kernel3d(mode, order)\n",
        "        return\n",
        "\n",
        "    def __repr__(self) -> str:\n",
        "        return self.__class__.__name__ + '('\\\n",
        "            'order=' + str(self.order) + ', ' + \\\n",
        "            'mode=' + self.mode + ')'\n",
        "\n",
        "    def forward(self, input: torch.Tensor) -> torch.Tensor:  # type: ignore\n",
        "        return spatial_gradient3d(input, self.mode, self.order)\n",
        "\n",
        "\n",
        "\n",
        "class Sobel(nn.Module):\n",
        "    r\"\"\"Computes the Sobel operator and returns the magnitude per channel.\n",
        "\n",
        "    Args:\n",
        "        normalized (bool): if True, L1 norm of the kernel is set to 1.\n",
        "        eps (float): regularization number to avoid NaN during backprop. Default: 1e-6.\n",
        "\n",
        "    Return:\n",
        "        torch.Tensor: the sobel edge gradient magnitudes map.\n",
        "\n",
        "    Shape:\n",
        "        - Input: :math:`(B, C, H, W)`\n",
        "        - Output: :math:`(B, C, H, W)`\n",
        "\n",
        "    Examples:\n",
        "        >>> input = torch.rand(1, 3, 4, 4)\n",
        "        >>> output = Sobel()(input)  # 1x3x4x4\n",
        "    \"\"\"\n",
        "\n",
        "    def __init__(self,\n",
        "                 normalized: bool = True, eps: float = 1e-6) -> None:\n",
        "        super(Sobel, self).__init__()\n",
        "        self.normalized: bool = normalized\n",
        "        self.eps: float = eps\n",
        "\n",
        "    def __repr__(self) -> str:\n",
        "        return self.__class__.__name__ + '('\\\n",
        "            'normalized=' + str(self.normalized) + ')'\n",
        "\n",
        "    def forward(self, input: torch.Tensor) -> torch.Tensor:\n",
        "        return sobel(input, self.normalized, self.eps)"
      ],
      "execution_count": null,
      "outputs": []
    },
    {
      "cell_type": "code",
      "metadata": {
        "execution": {
          "iopub.status.busy": "2021-06-01T14:02:50.250484Z",
          "iopub.execute_input": "2021-06-01T14:02:50.250886Z",
          "iopub.status.idle": "2021-06-01T14:02:50.265391Z",
          "shell.execute_reply.started": "2021-06-01T14:02:50.250848Z",
          "shell.execute_reply": "2021-06-01T14:02:50.264276Z"
        },
        "trusted": true,
        "id": "fX9DNlUN9ZMW"
      },
      "source": [
        "transform = A.Compose([\n",
        "    A.RandomBrightnessContrast(p=0.6),    \n",
        "    #A.OneOf([A.RandomRotate90(p=0.5),\n",
        "               # A.HorizontalFlip(p=0.5),\n",
        "                #A.VerticalFlip(p=0.2)],p=1),\n",
        "    #A.HorizontalFlip(p=0.5),\n",
        "    A.CenterCrop(width=69, height=69), \n",
        "    A.Resize(96,96),\n",
        "    A.CLAHE(p=0.5),\n",
        "A.Normalize((0.485, 0.456, 0.406), (0.229, 0.224, 0.225))\n",
        "])\n",
        "    #A.HueSaturationValue(hue_shift_limit=10, sat_shift_limit=10, val_shift_limit=10, p=0.5),\n",
        "    \n",
        "#], p=1)\n",
        "class Toys(Dataset):\n",
        "    def __init__(self,data,channels=3,transform=False):\n",
        "        self.data=data\n",
        "        self.transform=transform\n",
        "        self.channels=channels\n",
        "        \n",
        "    def __len__(self):\n",
        "        return len(self.data[('train', 'dat')])\n",
        "    \n",
        "    def __getitem__(self,idx):\n",
        "        if self.channels==1:\n",
        "            image = self.data[('train','dat')][idx][0]\n",
        "            \n",
        "        elif self.channels==2:\n",
        "            image=self.data[('train','dat')][idx]\n",
        "            band_3= np.zeros((96,96))\n",
        "            image = np.dstack((image[0],image[1], band_3))\n",
        "            image = image.astype('uint8')\n",
        "            #image= np. moveaxis (( image ), 0, -1 )\n",
        "        elif self.channels==3:\n",
        "            image=self.data[('train','dat')][idx]\n",
        "            #image=torch.tensor(image,dtype=torch.float64)\n",
        "            band_1 = image[0]\n",
        "            band_2 = image[1]\n",
        "            img=torch.tensor(image,dtype=torch.float64)\n",
        "            band_3  = Sobel()(img.unsqueeze(0))\n",
        "            band_3 = np.asarray(band_3[0][0])\n",
        "            \n",
        "            image = np.dstack((band_1, band_2, band_3))\n",
        "            image = image.astype('uint8')\n",
        "            #image = np. moveaxis ( np.concatenate( (image, image[0:1]) ), 0, -1 )\n",
        "        \n",
        "        if self.transform is not False:\n",
        "            dict=self.transform(image=image)\n",
        "            image=dict['image']\n",
        "            \n",
        "        label= self.data[('train','cat')][idx]\n",
        "        \n",
        "        image=torch.tensor(image)#,dtype=torch.float64)\n",
        "        label=torch.tensor(label,dtype=torch.float32)\n",
        "        info = torch.tensor(loaded_data['train','info'][idx][1:],dtype=torch.float32)\n",
        "        info[0]=info[0]#*5 + 30.\n",
        "        info[1] = info[1]#*10.\n",
        "        info[2]= info[2]#*1.\n",
        "        if self.channels>1:\n",
        "            image=image.permute(2,0,1)\n",
        "        if self.channels==2:\n",
        "            image=image[:2]\n",
        "        image=image/255\n",
        "        return image,info,label.long()\n",
        "        "
      ],
      "execution_count": null,
      "outputs": []
    },
    {
      "cell_type": "code",
      "metadata": {
        "execution": {
          "iopub.status.busy": "2021-06-01T14:02:53.315576Z",
          "iopub.execute_input": "2021-06-01T14:02:53.315952Z",
          "iopub.status.idle": "2021-06-01T14:02:53.320435Z",
          "shell.execute_reply.started": "2021-06-01T14:02:53.315916Z",
          "shell.execute_reply": "2021-06-01T14:02:53.319156Z"
        },
        "trusted": true,
        "id": "GP6nxNvn9ZMY"
      },
      "source": [
        "dataset=Toys(loaded_data,3,transform)"
      ],
      "execution_count": null,
      "outputs": []
    },
    {
      "cell_type": "code",
      "metadata": {
        "execution": {
          "iopub.status.busy": "2021-06-01T14:02:55.316859Z",
          "iopub.execute_input": "2021-06-01T14:02:55.317208Z",
          "iopub.status.idle": "2021-06-01T14:02:55.763258Z",
          "shell.execute_reply.started": "2021-06-01T14:02:55.317174Z",
          "shell.execute_reply": "2021-06-01T14:02:55.762339Z"
        },
        "trusted": true,
        "id": "dCYBUipZ9ZMZ",
        "outputId": "ab6bdd0f-c8df-4e34-a332-6af94dad06d2"
      },
      "source": [
        "image,info,label=dataset[3210]\n",
        "plt.imshow(image[2])#.permute(1,2,0))\n",
        "print(label)\n"
      ],
      "execution_count": null,
      "outputs": [
        {
          "output_type": "stream",
          "text": [
            "tensor(0)\n"
          ],
          "name": "stdout"
        },
        {
          "output_type": "display_data",
          "data": {
            "text/plain": [
              "<Figure size 432x288 with 1 Axes>"
            ],
            "image/png": "[encoded data removed]"
          },
          "metadata": {
            "tags": [],
            "needs_background": "light"
          }
        }
      ]
    },
    {
      "cell_type": "code",
      "metadata": {
        "execution": {
          "iopub.status.busy": "2021-06-01T14:03:08.586336Z",
          "iopub.execute_input": "2021-06-01T14:03:08.586768Z",
          "iopub.status.idle": "2021-06-01T14:03:08.600736Z",
          "shell.execute_reply.started": "2021-06-01T14:03:08.586727Z",
          "shell.execute_reply": "2021-06-01T14:03:08.599671Z"
        },
        "trusted": true,
        "id": "Gy8dvhM79ZMa"
      },
      "source": [
        "class TestToys(Dataset):\n",
        "    def __init__(self,data,channels=3):\n",
        "        self.data=data\n",
        "        self.channels=channels\n",
        "        self.transform = A.Compose([A.CenterCrop(width=69, height=69),\n",
        "                                    A.Resize(96,96),\n",
        "                                   A.Normalize((0.485, 0.456, 0.406), (0.229, 0.224, 0.225))])\n",
        "        \n",
        "    def __len__(self):\n",
        "        return len(self.data[('test', 'dat')])\n",
        "    \n",
        "    def __getitem__(self,idx):\n",
        "        \n",
        "        if self.channels==1:\n",
        "            image = self.data[('test','dat')][idx][0]\n",
        "            \n",
        "        elif self.channels==2:\n",
        "            image=self.data[('test','dat')][idx]\n",
        "            band_3= np.zeros((96,96))\n",
        "            image = np.dstack((image[0],image[1], band_3))\n",
        "            image = image.astype('uint8')\n",
        "        elif self.channels==3:\n",
        "            image=self.data[('test','dat')][idx]\n",
        "            band_1 = image[0]\n",
        "            band_2 = image[1]\n",
        "            img=torch.tensor(image,dtype=torch.float64)\n",
        "            band_3  = Sobel()(img.unsqueeze(0))\n",
        "            band_3 = np.asarray(band_3[0][0])\n",
        "            \n",
        "            image = np.dstack((band_1, band_2, band_3))\n",
        "            image = image.astype('uint8')\n",
        "            #image = np. moveaxis ( np.concatenate( (image, image[0:1]) ), 0, -1 )\n",
        "            \n",
        "        if self.transform is not False:\n",
        "            dict=self.transform(image=image)\n",
        "            image=dict['image']\n",
        "            \n",
        "        label= self.data[('test','cat')][idx]\n",
        "        image=torch.tensor(image)\n",
        "        label=torch.tensor(label,dtype=torch.float32)\n",
        "        info = torch.tensor(loaded_data['test','info'][idx][1:],dtype=torch.float32)\n",
        "        info[0]=info[0]#*5 + 30\n",
        "        info[1] = info[1]#*10\n",
        "        info[2]= info[2]#*1\n",
        "        if self.channels>1:\n",
        "            image=image.permute(2,0,1)\n",
        "        if self.channels==2:\n",
        "            image=image[:2]\n",
        "       \n",
        "        image=image/255  \n",
        "        return image,info,label.long()\n",
        "    \n",
        "benchmark=TestToys(loaded_data,3)"
      ],
      "execution_count": null,
      "outputs": []
    },
    {
      "cell_type": "code",
      "metadata": {
        "execution": {
          "iopub.status.busy": "2021-06-01T14:03:11.702963Z",
          "iopub.execute_input": "2021-06-01T14:03:11.703312Z",
          "iopub.status.idle": "2021-06-01T14:03:11.824320Z",
          "shell.execute_reply.started": "2021-06-01T14:03:11.703277Z",
          "shell.execute_reply": "2021-06-01T14:03:11.823310Z"
        },
        "trusted": true,
        "id": "nh5Y_LfS9ZMb",
        "outputId": "52d2f5fb-c936-480c-bfef-d1f2889ca3be"
      },
      "source": [
        "image,info,label=benchmark[111]\n",
        "plt.imshow(image[1])#.permute(1,2,0))"
      ],
      "execution_count": null,
      "outputs": [
        {
          "output_type": "execute_result",
          "data": {
            "text/plain": [
              "<matplotlib.image.AxesImage at 0x7f4135c229d0>"
            ]
          },
          "metadata": {
            "tags": []
          },
          "execution_count": 9
        },
        {
          "output_type": "display_data",
          "data": {
            "text/plain": [
              "<Figure size 432x288 with 1 Axes>"
            ],
            "image/png": "[encoded data removed]"
          },
          "metadata": {
            "tags": [],
            "needs_background": "light"
          }
        }
      ]
    },
    {
      "cell_type": "code",
      "metadata": {
        "execution": {
          "iopub.status.busy": "2021-06-01T14:03:15.962236Z",
          "iopub.execute_input": "2021-06-01T14:03:15.962599Z",
          "iopub.status.idle": "2021-06-01T14:03:15.977322Z",
          "shell.execute_reply.started": "2021-06-01T14:03:15.962561Z",
          "shell.execute_reply": "2021-06-01T14:03:15.976386Z"
        },
        "trusted": true,
        "id": "IpU7mChV9ZMc",
        "outputId": "75a6ae36-0dbc-4cc7-feaf-7919d6a32c45"
      },
      "source": [
        "train_length=int(0.25*len(dataset))\n",
        "\n",
        "test_length=len(dataset)-train_length\n",
        "\n",
        "\n",
        "train_dataset,val_dataset=torch.utils.data.random_split(dataset,(train_length,test_length))\n",
        "train_length = int(0.75*len(train_dataset))\n",
        "test_length = len(train_dataset)-train_length\n",
        "print(train_length,test_length,len(train_dataset))\n",
        "train_dataset,val_dataset=torch.utils.data.random_split(train_dataset,(train_length,test_length))\n",
        "batch_size= 128\n",
        "trainloader = DataLoader(train_dataset,\n",
        "        batch_size=batch_size, shuffle=True,num_workers= 2)\n",
        "valloader = DataLoader(val_dataset,\n",
        "        batch_size=batch_size, shuffle=False,num_workers=2)\n",
        "testloader = DataLoader(benchmark,\n",
        "        batch_size=batch_size, shuffle=False,num_workers=2)"
      ],
      "execution_count": null,
      "outputs": [
        {
          "output_type": "stream",
          "text": [
            "4556 1519 6075\n"
          ],
          "name": "stdout"
        }
      ]
    },
    {
      "cell_type": "code",
      "metadata": {
        "execution": {
          "iopub.status.busy": "2021-06-01T14:03:17.334399Z",
          "iopub.execute_input": "2021-06-01T14:03:17.334791Z",
          "iopub.status.idle": "2021-06-01T14:03:17.340659Z",
          "shell.execute_reply.started": "2021-06-01T14:03:17.334753Z",
          "shell.execute_reply": "2021-06-01T14:03:17.339454Z"
        },
        "trusted": true,
        "id": "O2QQoNmw9ZMc",
        "outputId": "5266df1e-3745-4c93-ad4f-10a528d5c4e6"
      },
      "source": [
        "print(len(train_dataset),len(val_dataset),len(benchmark))"
      ],
      "execution_count": null,
      "outputs": [
        {
          "output_type": "stream",
          "text": [
            "4556 1519 24300\n"
          ],
          "name": "stdout"
        }
      ]
    },
    {
      "cell_type": "code",
      "metadata": {
        "execution": {
          "iopub.status.busy": "2021-06-01T14:03:20.126369Z",
          "iopub.execute_input": "2021-06-01T14:03:20.126753Z",
          "iopub.status.idle": "2021-06-01T14:03:20.199818Z",
          "shell.execute_reply.started": "2021-06-01T14:03:20.126715Z",
          "shell.execute_reply": "2021-06-01T14:03:20.198799Z"
        },
        "trusted": true,
        "id": "fcsNiPEM9ZMd",
        "outputId": "77775db4-7aa9-4ec9-e2ed-dc1f4e05d245"
      },
      "source": [
        "device = \"cpu\"\n",
        "\n",
        "if torch.cuda.is_available():\n",
        "    device = \"cuda\"\n",
        "\n",
        "print(device)"
      ],
      "execution_count": null,
      "outputs": [
        {
          "output_type": "stream",
          "text": [
            "cuda\n"
          ],
          "name": "stdout"
        }
      ]
    },
    {
      "cell_type": "code",
      "metadata": {
        "execution": {
          "iopub.status.busy": "2021-06-01T14:03:23.522296Z",
          "iopub.execute_input": "2021-06-01T14:03:23.522677Z",
          "iopub.status.idle": "2021-06-01T14:03:24.712514Z",
          "shell.execute_reply.started": "2021-06-01T14:03:23.522639Z",
          "shell.execute_reply": "2021-06-01T14:03:24.711576Z"
        },
        "trusted": true,
        "id": "OY-LnrNC9ZMd"
      },
      "source": [
        "import torchvision.models as models\n",
        "model_ft = models.densenet161(pretrained=True)\n",
        "model_ft=nn.Sequential(*list(model_ft.children())[:1])"
      ],
      "execution_count": null,
      "outputs": []
    },
    {
      "cell_type": "code",
      "metadata": {
        "execution": {
          "iopub.status.busy": "2021-06-01T14:03:29.453859Z",
          "iopub.execute_input": "2021-06-01T14:03:29.454234Z",
          "iopub.status.idle": "2021-06-01T14:03:29.461721Z",
          "shell.execute_reply.started": "2021-06-01T14:03:29.454201Z",
          "shell.execute_reply": "2021-06-01T14:03:29.460590Z"
        },
        "trusted": true,
        "id": "WL8DZzdx9ZMe"
      },
      "source": [
        "class MyModel(nn.Module):\n",
        "    def __init__(self, pretrained_model):\n",
        "        super(MyModel, self).__init__()\n",
        "        self.pretrained = pretrained_model\n",
        "        self.linear = nn.Linear(2211,5)\n",
        "    def forward(self, x,y):\n",
        "        x = self.pretrained(x)\n",
        "        out = F.relu(x, inplace=True)\n",
        "        out = F.adaptive_max_pool2d(out,output_size=1)\n",
        "        out = torch.flatten(out, 1)\n",
        "        out=torch.cat((out,y),1)\n",
        "        out = self.linear(out)\n",
        "        return out\n",
        "\n",
        "model = MyModel(model_ft)"
      ],
      "execution_count": null,
      "outputs": []
    },
    {
      "cell_type": "code",
      "metadata": {
        "execution": {
          "iopub.status.busy": "2021-06-01T14:03:32.325659Z",
          "iopub.execute_input": "2021-06-01T14:03:32.326040Z",
          "iopub.status.idle": "2021-06-01T14:03:32.340702Z",
          "shell.execute_reply.started": "2021-06-01T14:03:32.325998Z",
          "shell.execute_reply": "2021-06-01T14:03:32.339573Z"
        },
        "trusted": true,
        "id": "16KjbJaX9ZMe"
      },
      "source": [
        "def find_acc(pred, label):\n",
        "    \n",
        "    correct = pred.argmax(dim = 1).eq(label)\n",
        "    accuracy = correct.to(torch.float32).mean().item() * 100\n",
        "    return accuracy\n",
        "\n",
        "def train(network,criterion, optimizer, trainloader):\n",
        "    loss_train = 0\n",
        "    acc_train = 0\n",
        "    network.train()\n",
        "\n",
        "    #for step in tqdm(range(len(trainloader))):\n",
        "\n",
        "    for idx,batch in enumerate(tqdm(trainloader)): \n",
        "    \n",
        "        #images , labels = next(iter(trainloader))\n",
        "        \n",
        "        images,info, labels = batch[0],batch[1],batch[2]\n",
        "        # move the images and labels to GPU\n",
        "        images     = images.to(device)\n",
        "        info       = info.to(device)\n",
        "        labels     = labels.to(device)\n",
        "        \n",
        "        pred = network(images,info)\n",
        "      \n",
        "        # clear all the gradients before calculating them\n",
        "        optimizer.zero_grad()\n",
        "        \n",
        "        # find the loss for the current step\n",
        "        loss_train_step = criterion(pred , labels)\n",
        "        \n",
        "        # find accuracy\n",
        "        acc_train_step = find_acc(pred, labels)\n",
        "        \n",
        "        # calculate the gradients\n",
        "        loss_train_step.backward()\n",
        "        \n",
        "        # update the parameters\n",
        "        optimizer.step()\n",
        "        #scheduler.step()\n",
        "\n",
        "        loss_train += loss_train_step.item()\n",
        "        acc_train += acc_train_step  \n",
        "            \n",
        "    loss_train /= len(trainloader)\n",
        "    acc_train /= len(trainloader)\n",
        "\n",
        "    return loss_train, acc_train  \n",
        "        \n",
        "def validate(network,criterion, testloader): \n",
        "    loss_valid = 0\n",
        "    acc_valid = 0       \n",
        "    network.eval()  \n",
        "\n",
        "    #for step in tqdm(range(len(testloader))):\n",
        "    for idx,batch in enumerate(tqdm(testloader)):\n",
        "         \n",
        "        images,info ,labels = batch[0],batch[1],batch[2]\n",
        "        # move the images and labels to GPU\n",
        "        images     = images.to(device)\n",
        "        info       = info.to(device)\n",
        "        labels     = labels.to(device)\n",
        "        \n",
        "        pred = network(images,info)\n",
        "        \n",
        "        # find the loss and acc for the current step\n",
        "        loss_valid_step = criterion(pred , labels)\n",
        "        acc_valid_step = find_acc(pred, labels)\n",
        "      \n",
        "        loss_valid += loss_valid_step.item()\n",
        "        acc_valid += acc_valid_step\n",
        "\n",
        "    loss_valid /= len(testloader)\n",
        "    acc_valid /= len(testloader)\n",
        "\n",
        "    return loss_valid, acc_valid\n",
        "\n",
        "def inference(network,criterion, testloader):\n",
        "    loss_test = 0\n",
        "    acc_test = 0       \n",
        "    network.eval()  \n",
        "\n",
        "    #for step in tqdm(range(len(testloader))):\n",
        "    for idx,batch in enumerate(tqdm(testloader)):\n",
        "         \n",
        "        images,info, labels = batch[0],batch[1],batch[2]\n",
        "        # move the images and labels to GPU\n",
        "        images     = images.to(device)\n",
        "        info       = info.to(device)\n",
        "        labels     = labels.to(device)\n",
        "        \n",
        "        pred = network(images,info)\n",
        "    \n",
        "        # find the loss and acc for the current step\n",
        "        loss_valid_step = criterion(pred , labels)\n",
        "        acc_valid_step = find_acc(pred, labels)\n",
        "      \n",
        "        loss_test += loss_valid_step.item()\n",
        "        acc_test += acc_valid_step\n",
        "\n",
        "    loss_test /= len(testloader)\n",
        "    acc_test /= len(testloader)\n",
        "    return loss_test, acc_test"
      ],
      "execution_count": null,
      "outputs": []
    },
    {
      "cell_type": "code",
      "metadata": {
        "execution": {
          "iopub.status.busy": "2021-06-01T13:35:19.284333Z",
          "iopub.execute_input": "2021-06-01T13:35:19.284717Z",
          "iopub.status.idle": "2021-06-01T13:35:19.841027Z",
          "shell.execute_reply.started": "2021-06-01T13:35:19.284681Z",
          "shell.execute_reply": "2021-06-01T13:35:19.840078Z"
        },
        "trusted": true,
        "id": "JWI1pqiF9ZMf",
        "outputId": "ac612577-8a73-4951-94b7-57c6c59ea0b2"
      },
      "source": [
        "wandb.login()"
      ],
      "execution_count": null,
      "outputs": [
        {
          "output_type": "stream",
          "text": [
            "\u001b[34m\u001b[1mwandb\u001b[0m: Currently logged in as: \u001b[33mcreganstark\u001b[0m (use `wandb login --relogin` to force relogin)\n"
          ],
          "name": "stderr"
        },
        {
          "output_type": "execute_result",
          "data": {
            "text/plain": [
              "True"
            ]
          },
          "metadata": {
            "tags": []
          },
          "execution_count": 18
        }
      ]
    },
    {
      "cell_type": "code",
      "metadata": {
        "execution": {
          "iopub.status.busy": "2021-06-01T13:09:00.534836Z",
          "iopub.execute_input": "2021-06-01T13:09:00.535175Z",
          "iopub.status.idle": "2021-06-01T13:14:54.168657Z",
          "shell.execute_reply.started": "2021-06-01T13:09:00.535143Z",
          "shell.execute_reply": "2021-06-01T13:14:54.167445Z"
        },
        "trusted": true,
        "colab": {
          "referenced_widgets": [
            "",
            "b6a6d6427ec74fd8ac894cafbdc6fd9a",
            "57d50ee1862f4cd4afb48b6e78a14339",
            "623d13760d254d6886ffdcbf91ee60e2",
            "4cdc821f34a74d34bed88d2824dfc245",
            "52656710d4e745d196e77b8062cbefe6",
            "46ebfa6226e646d8a5db813e6ec7cb78",
            "c8f7ed319a7649eb8eb0386656c8953d",
            "c65e339dc4e74e9d901c287f7c9e0f13",
            "8ef04a5c294b41ce824f1f43ddd25e89",
            "ab2be3f3c8e94c00affc2a16528a86ff",
            "b4f500b703bf40519d38d0c222004e7f",
            "d794873437614689894a54103c745d2e",
            "b40cb3cbb67545e89937829e1b31aea8",
            "ba730e1d718a45a6b5c11010888f0e1d",
            "1cd8907c72dc42db8fdf6bc23d236890",
            "c56236ce40c8408995c61e900f6a5433",
            "7a1539e7108e49a3bc56e9cd8632b80c",
            "27288c15e0b0414781311237c1147157"
          ]
        },
        "id": "swg1Z0Bx9ZMf",
        "outputId": "83b143cc-5bd3-4a88-949a-170d8909fa10"
      },
      "source": [
        "wandb.init(name='25_SN1_Densenet161',\n",
        "           project='25_SN',\n",
        "           notes='3 Channels with Augs,Sobel', \n",
        "           tags=['SGD','StepLR'],\n",
        "           entity='creganstark')\n",
        "\n",
        "# WandB Configurations (optional)        \n",
        "wandb.config.lr = 1e-3\n",
        "model=model.float()\n",
        "#model = model.to(device)\n",
        "criterion = nn.CrossEntropyLoss()\n",
        "optimizer = optim.SGD(model.parameters(),\n",
        "                      lr  =  1e-3,\n",
        "                      momentum     = 0.9,\n",
        "                      nesterov     = True,\n",
        "                      weight_decay = 5e-4)\n",
        "\n",
        "#scheduler = optim.lr_scheduler.CyclicLR(optimizer,base_lr=5e-5,max_lr=5e-4 ,step_size_up=2000)\n",
        "scheduler = optim.lr_scheduler.StepLR(optimizer,step_size=9,gamma=0.5)\n",
        "# Log the network weight histograms (optional)\n",
        "#wandb.watch(model)\n",
        "\n",
        "num_epochs = 15\n",
        "start_time = time.time()\n",
        "prev_acc=0\n",
        "for epoch in range(1, num_epochs+1):\n",
        "    \n",
        "    loss_train, acc_train = train(model, criterion, optimizer, trainloader)\n",
        "    loss_valid, acc_valid = validate(model, criterion, valloader)\n",
        "    loss_test, acc_test = inference(model,criterion,testloader)\n",
        "    scheduler.step()\n",
        "    \n",
        "    print('Epoch: {}  Train Loss: {:.4f}  Train Acc: {:.4f}  Valid Loss: {:.4f}  Valid Acc: {:.4f} Test Loss: {:.4f}  Test Acc: {:.4f} '.format(epoch, loss_train, acc_train, loss_valid, acc_valid, loss_test, acc_test))\n",
        "\n",
        "    #Log the loss and accuracy values at the end of each epoch\n",
        "    wandb.log({\n",
        "        \"Epoch\": epoch,\n",
        "        \"Train Loss\": loss_train,\n",
        "        \"Train Acc\": acc_train,\n",
        "        \"Test Loss\": loss_test,\n",
        "        \"Test Acc\": acc_test})\n",
        "    if acc_test>prev_acc:\n",
        "      prev_acc=acc_test\n",
        "      acc_test=str(acc_test)\n",
        "      paths = \"test\"+acc_test[:7]+\".pt\"\n",
        "      print('Saving Model')\n",
        "      torch.save({\n",
        "          'epoch': epoch,\n",
        "          'model_state_dict': model.state_dict(),\n",
        "          'optimizer_state_dict': optimizer.state_dict(),\n",
        "          'val_loss': loss_valid,\n",
        "          'val_acc':acc_valid,\n",
        "          'train_acc':acc_train,\n",
        "          'loss_acc':loss_train,\n",
        "          },str(paths))\n",
        "\n",
        "print(\"Time Elapsed : {:.4f}s\".format(time.time() - start_time))\n",
        "#dba0dc08380296feb5c72e311f343c622485c0ac"
      ],
      "execution_count": null,
      "outputs": [
        {
          "output_type": "display_data",
          "data": {
            "text/plain": [
              "<IPython.core.display.HTML object>"
            ],
            "text/html": [
              "Finishing last run (ID:2n5fnsts) before initializing another..."
            ]
          },
          "metadata": {
            "tags": []
          }
        },
        {
          "output_type": "display_data",
          "data": {
            "text/plain": [
              "<IPython.core.display.HTML object>"
            ],
            "text/html": [
              "<br/>Waiting for W&B process to finish, PID 677<br/>Program ended successfully."
            ]
          },
          "metadata": {
            "tags": []
          }
        },
        {
          "output_type": "display_data",
          "data": {
            "text/plain": [
              "VBox(children=(Label(value=' 0.00MB of 0.00MB uploaded (0.00MB deduped)\\r'), FloatProgress(value=1.0, max=1.0)…"
            ],
            "application/vnd.jupyter.widget-view+json": {
              "version_major": 2,
              "version_minor": 0,
              "model_id": ""
            }
          },
          "metadata": {
            "tags": []
          }
        },
        {
          "output_type": "display_data",
          "data": {
            "text/plain": [
              "<IPython.core.display.HTML object>"
            ],
            "text/html": [
              "Find user logs for this run at: <code>/kaggle/working/wandb/run-20210601_130847-2n5fnsts/logs/debug.log</code>"
            ]
          },
          "metadata": {
            "tags": []
          }
        },
        {
          "output_type": "display_data",
          "data": {
            "text/plain": [
              "<IPython.core.display.HTML object>"
            ],
            "text/html": [
              "Find internal logs for this run at: <code>/kaggle/working/wandb/run-20210601_130847-2n5fnsts/logs/debug-internal.log</code>"
            ]
          },
          "metadata": {
            "tags": []
          }
        },
        {
          "output_type": "display_data",
          "data": {
            "text/plain": [
              "<IPython.core.display.HTML object>"
            ],
            "text/html": [
              "Synced 4 W&B file(s), 0 media file(s), 0 artifact file(s) and 0 other file(s)"
            ]
          },
          "metadata": {
            "tags": []
          }
        },
        {
          "output_type": "display_data",
          "data": {
            "text/plain": [
              "<IPython.core.display.HTML object>"
            ],
            "text/html": [
              "\n",
              "                    <br/>Synced <strong style=\"color:#cdcd00\">25_SN1_Densenet161</strong>: <a href=\"https://wandb.ai/creganstark/25_SN/runs/2n5fnsts\" target=\"_blank\">https://wandb.ai/creganstark/25_SN/runs/2n5fnsts</a><br/>\n",
              "                "
            ]
          },
          "metadata": {
            "tags": []
          }
        },
        {
          "output_type": "display_data",
          "data": {
            "text/plain": [
              "<IPython.core.display.HTML object>"
            ],
            "text/html": [
              "...Successfully finished last run (ID:2n5fnsts). Initializing new run:<br/><br/>"
            ]
          },
          "metadata": {
            "tags": []
          }
        },
        {
          "output_type": "stream",
          "text": [
            "\u001b[34m\u001b[1mwandb\u001b[0m: wandb version 0.10.31 is available!  To upgrade, please run:\n",
            "\u001b[34m\u001b[1mwandb\u001b[0m:  $ pip install wandb --upgrade\n"
          ],
          "name": "stderr"
        },
        {
          "output_type": "display_data",
          "data": {
            "text/plain": [
              "<IPython.core.display.HTML object>"
            ],
            "text/html": [
              "\n",
              "                Tracking run with wandb version 0.10.26<br/>\n",
              "                Syncing run <strong style=\"color:#cdcd00\">25_SN1_Densenet161</strong> to <a href=\"https://wandb.ai\" target=\"_blank\">Weights & Biases</a> <a href=\"https://docs.wandb.com/integrations/jupyter.html\" target=\"_blank\">(Documentation)</a>.<br/>\n",
              "                Project page: <a href=\"https://wandb.ai/creganstark/25_SN\" target=\"_blank\">https://wandb.ai/creganstark/25_SN</a><br/>\n",
              "                Run page: <a href=\"https://wandb.ai/creganstark/25_SN/runs/3ax1fh3j\" target=\"_blank\">https://wandb.ai/creganstark/25_SN/runs/3ax1fh3j</a><br/>\n",
              "                Run data is saved locally in <code>/kaggle/working/wandb/run-20210601_130900-3ax1fh3j</code><br/><br/>\n",
              "            "
            ]
          },
          "metadata": {
            "tags": []
          }
        },
        {
          "output_type": "display_data",
          "data": {
            "text/plain": [
              "  0%|          | 0/31 [00:00<?, ?it/s]"
            ],
            "application/vnd.jupyter.widget-view+json": {
              "version_major": 2,
              "version_minor": 0,
              "model_id": "b6a6d6427ec74fd8ac894cafbdc6fd9a"
            }
          },
          "metadata": {
            "tags": []
          }
        },
        {
          "output_type": "display_data",
          "data": {
            "text/plain": [
              "  0%|          | 0/11 [00:00<?, ?it/s]"
            ],
            "application/vnd.jupyter.widget-view+json": {
              "version_major": 2,
              "version_minor": 0,
              "model_id": "57d50ee1862f4cd4afb48b6e78a14339"
            }
          },
          "metadata": {
            "tags": []
          }
        },
        {
          "output_type": "display_data",
          "data": {
            "text/plain": [
              "  0%|          | 0/162 [00:00<?, ?it/s]"
            ],
            "application/vnd.jupyter.widget-view+json": {
              "version_major": 2,
              "version_minor": 0,
              "model_id": "623d13760d254d6886ffdcbf91ee60e2"
            }
          },
          "metadata": {
            "tags": []
          }
        },
        {
          "output_type": "stream",
          "text": [
            "Epoch: 10  Train Loss: 0.5147  Train Acc: 82.8387  Valid Loss: 8.9037  Valid Acc: 20.2711 Test Loss: 9.4199  Test Acc: 20.0000 \n",
            "Saving Model\n"
          ],
          "name": "stdout"
        },
        {
          "output_type": "display_data",
          "data": {
            "text/plain": [
              "  0%|          | 0/31 [00:00<?, ?it/s]"
            ],
            "application/vnd.jupyter.widget-view+json": {
              "version_major": 2,
              "version_minor": 0,
              "model_id": "4cdc821f34a74d34bed88d2824dfc245"
            }
          },
          "metadata": {
            "tags": []
          }
        },
        {
          "output_type": "display_data",
          "data": {
            "text/plain": [
              "  0%|          | 0/11 [00:00<?, ?it/s]"
            ],
            "application/vnd.jupyter.widget-view+json": {
              "version_major": 2,
              "version_minor": 0,
              "model_id": "52656710d4e745d196e77b8062cbefe6"
            }
          },
          "metadata": {
            "tags": []
          }
        },
        {
          "output_type": "display_data",
          "data": {
            "text/plain": [
              "  0%|          | 0/162 [00:00<?, ?it/s]"
            ],
            "application/vnd.jupyter.widget-view+json": {
              "version_major": 2,
              "version_minor": 0,
              "model_id": "46ebfa6226e646d8a5db813e6ec7cb78"
            }
          },
          "metadata": {
            "tags": []
          }
        },
        {
          "output_type": "stream",
          "text": [
            "Epoch: 11  Train Loss: 0.0515  Train Acc: 98.8817  Valid Loss: 1.3500  Valid Acc: 62.0638 Test Loss: 1.8123  Test Acc: 47.5062 \n",
            "Saving Model\n"
          ],
          "name": "stdout"
        },
        {
          "output_type": "display_data",
          "data": {
            "text/plain": [
              "  0%|          | 0/31 [00:00<?, ?it/s]"
            ],
            "application/vnd.jupyter.widget-view+json": {
              "version_major": 2,
              "version_minor": 0,
              "model_id": "c8f7ed319a7649eb8eb0386656c8953d"
            }
          },
          "metadata": {
            "tags": []
          }
        },
        {
          "output_type": "display_data",
          "data": {
            "text/plain": [
              "  0%|          | 0/11 [00:00<?, ?it/s]"
            ],
            "application/vnd.jupyter.widget-view+json": {
              "version_major": 2,
              "version_minor": 0,
              "model_id": "c65e339dc4e74e9d901c287f7c9e0f13"
            }
          },
          "metadata": {
            "tags": []
          }
        },
        {
          "output_type": "display_data",
          "data": {
            "text/plain": [
              "  0%|          | 0/162 [00:00<?, ?it/s]"
            ],
            "application/vnd.jupyter.widget-view+json": {
              "version_major": 2,
              "version_minor": 0,
              "model_id": "8ef04a5c294b41ce824f1f43ddd25e89"
            }
          },
          "metadata": {
            "tags": []
          }
        },
        {
          "output_type": "stream",
          "text": [
            "Epoch: 12  Train Loss: 0.0220  Train Acc: 99.6989  Valid Loss: 0.0321  Valid Acc: 99.2121 Test Loss: 0.1393  Test Acc: 95.5556 \n",
            "Saving Model\n"
          ],
          "name": "stdout"
        },
        {
          "output_type": "display_data",
          "data": {
            "text/plain": [
              "  0%|          | 0/31 [00:00<?, ?it/s]"
            ],
            "application/vnd.jupyter.widget-view+json": {
              "version_major": 2,
              "version_minor": 0,
              "model_id": "ab2be3f3c8e94c00affc2a16528a86ff"
            }
          },
          "metadata": {
            "tags": []
          }
        },
        {
          "output_type": "display_data",
          "data": {
            "text/plain": [
              "  0%|          | 0/11 [00:00<?, ?it/s]"
            ],
            "application/vnd.jupyter.widget-view+json": {
              "version_major": 2,
              "version_minor": 0,
              "model_id": "b4f500b703bf40519d38d0c222004e7f"
            }
          },
          "metadata": {
            "tags": []
          }
        },
        {
          "output_type": "display_data",
          "data": {
            "text/plain": [
              "  0%|          | 0/162 [00:00<?, ?it/s]"
            ],
            "application/vnd.jupyter.widget-view+json": {
              "version_major": 2,
              "version_minor": 0,
              "model_id": "d794873437614689894a54103c745d2e"
            }
          },
          "metadata": {
            "tags": []
          }
        },
        {
          "output_type": "stream",
          "text": [
            "Epoch: 13  Train Loss: 0.0154  Train Acc: 99.7849  Valid Loss: 0.0175  Valid Acc: 99.8788 Test Loss: 0.1043  Test Acc: 96.6996 \n",
            "Saving Model\n"
          ],
          "name": "stdout"
        },
        {
          "output_type": "display_data",
          "data": {
            "text/plain": [
              "  0%|          | 0/31 [00:00<?, ?it/s]"
            ],
            "application/vnd.jupyter.widget-view+json": {
              "version_major": 2,
              "version_minor": 0,
              "model_id": "b40cb3cbb67545e89937829e1b31aea8"
            }
          },
          "metadata": {
            "tags": []
          }
        },
        {
          "output_type": "display_data",
          "data": {
            "text/plain": [
              "  0%|          | 0/11 [00:00<?, ?it/s]"
            ],
            "application/vnd.jupyter.widget-view+json": {
              "version_major": 2,
              "version_minor": 0,
              "model_id": "ba730e1d718a45a6b5c11010888f0e1d"
            }
          },
          "metadata": {
            "tags": []
          }
        },
        {
          "output_type": "display_data",
          "data": {
            "text/plain": [
              "  0%|          | 0/162 [00:00<?, ?it/s]"
            ],
            "application/vnd.jupyter.widget-view+json": {
              "version_major": 2,
              "version_minor": 0,
              "model_id": "1cd8907c72dc42db8fdf6bc23d236890"
            }
          },
          "metadata": {
            "tags": []
          }
        },
        {
          "output_type": "stream",
          "text": [
            "Epoch: 14  Train Loss: 0.0103  Train Acc: 99.8925  Valid Loss: 0.0135  Valid Acc: 99.7576 Test Loss: 0.1089  Test Acc: 96.3786 \n"
          ],
          "name": "stdout"
        },
        {
          "output_type": "display_data",
          "data": {
            "text/plain": [
              "  0%|          | 0/31 [00:00<?, ?it/s]"
            ],
            "application/vnd.jupyter.widget-view+json": {
              "version_major": 2,
              "version_minor": 0,
              "model_id": "c56236ce40c8408995c61e900f6a5433"
            }
          },
          "metadata": {
            "tags": []
          }
        },
        {
          "output_type": "display_data",
          "data": {
            "text/plain": [
              "  0%|          | 0/11 [00:00<?, ?it/s]"
            ],
            "application/vnd.jupyter.widget-view+json": {
              "version_major": 2,
              "version_minor": 0,
              "model_id": "7a1539e7108e49a3bc56e9cd8632b80c"
            }
          },
          "metadata": {
            "tags": []
          }
        },
        {
          "output_type": "display_data",
          "data": {
            "text/plain": [
              "  0%|          | 0/162 [00:00<?, ?it/s]"
            ],
            "application/vnd.jupyter.widget-view+json": {
              "version_major": 2,
              "version_minor": 0,
              "model_id": "27288c15e0b0414781311237c1147157"
            }
          },
          "metadata": {
            "tags": []
          }
        },
        {
          "output_type": "stream",
          "text": [
            "Epoch: 15  Train Loss: 0.0116  Train Acc: 99.6982  Valid Loss: 0.0231  Valid Acc: 99.2185 Test Loss: 0.1133  Test Acc: 96.1893 \n",
            "Time Elapsed : 347.7247s\n"
          ],
          "name": "stdout"
        }
      ]
    },
    {
      "cell_type": "code",
      "metadata": {
        "execution": {
          "iopub.status.busy": "2021-06-01T13:16:07.949071Z",
          "iopub.execute_input": "2021-06-01T13:16:07.949528Z",
          "iopub.status.idle": "2021-06-01T13:21:04.617609Z",
          "shell.execute_reply.started": "2021-06-01T13:16:07.949466Z",
          "shell.execute_reply": "2021-06-01T13:21:04.616556Z"
        },
        "trusted": true,
        "colab": {
          "referenced_widgets": [
            "",
            "b2bf0a8cccbe4eb6b15692c8a02cdfbe",
            "efdfc5b26d6c43ccbd4292609d259c08",
            "4896ef6e629b4277a5a9c4c8f1cc52b5",
            "b708120b46424b46b97bc8bf29974018",
            "7fd49c0a4cec49d2a771e107869fd775",
            "07be198c307b44b9bc1d6b571bae18c0",
            "6039365bf2d64268b084428248bb0260",
            "d8ef9ad97f274a9fb29186f1758c37da",
            "620f72bfa01f4f0898f89ee517288046",
            "9deca45ce80c496c89d83ba9519e375c",
            "30e46cd3be6f4fcfa77710d69029e693",
            "38b552f6bd7b4ec9944dc348fb825b36",
            "e1f7e220edd84a24995d63e1770dc14a",
            "7ceee200d1404fa293f429ef406b95f8",
            "25209aceb9b14d5f9ae5071d7304f903"
          ]
        },
        "id": "6LU1wyag9ZMg",
        "outputId": "755135f3-3dfe-4e91-ddcb-f7247532cf4d"
      },
      "source": [
        "wandb.init(name='25_SN1_Densenet161',\n",
        "           project='25_SN',\n",
        "           notes='3 Channels with Augs,Sobel', \n",
        "           tags=['SGD','StepLR'],\n",
        "           entity='creganstark')\n",
        "\n",
        "# WandB Configurations (optional)        \n",
        "wandb.config.lr = 1e-4\n",
        "#model=model.float()\n",
        "#model = model.to(device)\n",
        "criterion = nn.CrossEntropyLoss()\n",
        "optimizer = optim.SGD(model.parameters(),\n",
        "                      lr  =  1e-4,\n",
        "                      momentum     = 0.9,\n",
        "                      nesterov     = True,\n",
        "                      weight_decay = 5e-4)\n",
        "\n",
        "#scheduler = optim.lr_scheduler.CyclicLR(optimizer,base_lr=5e-5,max_lr=5e-4 ,step_size_up=2000)\n",
        "scheduler = optim.lr_scheduler.StepLR(optimizer,step_size=9,gamma=0.5)\n",
        "# Log the network weight histograms (optional)\n",
        "#wandb.watch(model)\n",
        "\n",
        "num_epochs = 5\n",
        "start_time = time.time()\n",
        "prev_acc=0\n",
        "for epoch in range(1, num_epochs+1):\n",
        "    \n",
        "    loss_train, acc_train = train(model, criterion, optimizer, trainloader)\n",
        "    loss_valid, acc_valid = validate(model, criterion, valloader)\n",
        "    loss_test, acc_test = inference(model,criterion,testloader)\n",
        "    scheduler.step()\n",
        "    \n",
        "    print('Epoch: {}  Train Loss: {:.4f}  Train Acc: {:.4f}  Valid Loss: {:.4f}  Valid Acc: {:.4f} Test Loss: {:.4f}  Test Acc: {:.4f} '.format(epoch, loss_train, acc_train, loss_valid, acc_valid, loss_test, acc_test))\n",
        "\n",
        "    #Log the loss and accuracy values at the end of each epoch\n",
        "    wandb.log({\n",
        "        \"Epoch\": epoch,\n",
        "        \"Train Loss\": loss_train,\n",
        "        \"Train Acc\": acc_train,\n",
        "        \"Test Loss\": loss_test,\n",
        "        \"Test Acc\": acc_test})\n",
        "    if acc_test>prev_acc:\n",
        "      prev_acc=acc_test\n",
        "      acc_test=str(acc_test)\n",
        "      paths = \"test\"+acc_test[:7]+\".pt\"\n",
        "      print('Saving Model')\n",
        "      torch.save({\n",
        "          'epoch': epoch,\n",
        "          'model_state_dict': model.state_dict(),\n",
        "          'optimizer_state_dict': optimizer.state_dict(),\n",
        "          'val_loss': loss_valid,\n",
        "          'val_acc':acc_valid,\n",
        "          'train_acc':acc_train,\n",
        "          'loss_acc':loss_train,\n",
        "          },str(paths))\n",
        "\n",
        "print(\"Time Elapsed : {:.4f}s\".format(time.time() - start_time))\n",
        "#dba0dc08380296feb5c72e311f343c622485c0ac"
      ],
      "execution_count": null,
      "outputs": [
        {
          "output_type": "display_data",
          "data": {
            "text/plain": [
              "<IPython.core.display.HTML object>"
            ],
            "text/html": [
              "Finishing last run (ID:3ax1fh3j) before initializing another..."
            ]
          },
          "metadata": {
            "tags": []
          }
        },
        {
          "output_type": "display_data",
          "data": {
            "text/plain": [
              "<IPython.core.display.HTML object>"
            ],
            "text/html": [
              "<br/>Waiting for W&B process to finish, PID 717<br/>Program ended successfully."
            ]
          },
          "metadata": {
            "tags": []
          }
        },
        {
          "output_type": "display_data",
          "data": {
            "text/plain": [
              "VBox(children=(Label(value=' 0.06MB of 0.06MB uploaded (0.00MB deduped)\\r'), FloatProgress(value=1.0, max=1.0)…"
            ],
            "application/vnd.jupyter.widget-view+json": {
              "version_major": 2,
              "version_minor": 0,
              "model_id": ""
            }
          },
          "metadata": {
            "tags": []
          }
        },
        {
          "output_type": "display_data",
          "data": {
            "text/plain": [
              "<IPython.core.display.HTML object>"
            ],
            "text/html": [
              "Find user logs for this run at: <code>/kaggle/working/wandb/run-20210601_130900-3ax1fh3j/logs/debug.log</code>"
            ]
          },
          "metadata": {
            "tags": []
          }
        },
        {
          "output_type": "display_data",
          "data": {
            "text/plain": [
              "<IPython.core.display.HTML object>"
            ],
            "text/html": [
              "Find internal logs for this run at: <code>/kaggle/working/wandb/run-20210601_130900-3ax1fh3j/logs/debug-internal.log</code>"
            ]
          },
          "metadata": {
            "tags": []
          }
        },
        {
          "output_type": "display_data",
          "data": {
            "text/plain": [
              "<IPython.core.display.HTML object>"
            ],
            "text/html": [
              "<h3>Run summary:</h3><br/><style>\n",
              "    table.wandb td:nth-child(1) { padding: 0 10px; text-align: right }\n",
              "    </style><table class=\"wandb\">\n",
              "<tr><td>Epoch</td><td>15</td></tr><tr><td>Train Loss</td><td>0.01165</td></tr><tr><td>Train Acc</td><td>99.69816</td></tr><tr><td>Test Loss</td><td>0.11333</td></tr><tr><td>Test Acc</td><td>96.1893</td></tr><tr><td>_runtime</td><td>351</td></tr><tr><td>_timestamp</td><td>1622553294</td></tr><tr><td>_step</td><td>5</td></tr></table>"
            ]
          },
          "metadata": {
            "tags": []
          }
        },
        {
          "output_type": "display_data",
          "data": {
            "text/plain": [
              "<IPython.core.display.HTML object>"
            ],
            "text/html": [
              "<h3>Run history:</h3><br/><style>\n",
              "    table.wandb td:nth-child(1) { padding: 0 10px; text-align: right }\n",
              "    </style><table class=\"wandb\">\n",
              "<tr><td>Epoch</td><td>▁▂▄▅▇█</td></tr><tr><td>Train Loss</td><td>█▂▁▁▁▁</td></tr><tr><td>Train Acc</td><td>▁█████</td></tr><tr><td>Test Loss</td><td>█▂▁▁▁▁</td></tr><tr><td>Test Acc</td><td>▁▄████</td></tr><tr><td>_runtime</td><td>▁▂▄▅▇█</td></tr><tr><td>_timestamp</td><td>▁▂▄▅▇█</td></tr><tr><td>_step</td><td>▁▂▄▅▇█</td></tr></table><br/>"
            ]
          },
          "metadata": {
            "tags": []
          }
        },
        {
          "output_type": "display_data",
          "data": {
            "text/plain": [
              "<IPython.core.display.HTML object>"
            ],
            "text/html": [
              "Synced 5 W&B file(s), 1 media file(s), 0 artifact file(s) and 0 other file(s)"
            ]
          },
          "metadata": {
            "tags": []
          }
        },
        {
          "output_type": "display_data",
          "data": {
            "text/plain": [
              "<IPython.core.display.HTML object>"
            ],
            "text/html": [
              "\n",
              "                    <br/>Synced <strong style=\"color:#cdcd00\">25_SN1_Densenet161</strong>: <a href=\"https://wandb.ai/creganstark/25_SN/runs/3ax1fh3j\" target=\"_blank\">https://wandb.ai/creganstark/25_SN/runs/3ax1fh3j</a><br/>\n",
              "                "
            ]
          },
          "metadata": {
            "tags": []
          }
        },
        {
          "output_type": "display_data",
          "data": {
            "text/plain": [
              "<IPython.core.display.HTML object>"
            ],
            "text/html": [
              "...Successfully finished last run (ID:3ax1fh3j). Initializing new run:<br/><br/>"
            ]
          },
          "metadata": {
            "tags": []
          }
        },
        {
          "output_type": "stream",
          "text": [
            "\u001b[34m\u001b[1mwandb\u001b[0m: wandb version 0.10.31 is available!  To upgrade, please run:\n",
            "\u001b[34m\u001b[1mwandb\u001b[0m:  $ pip install wandb --upgrade\n"
          ],
          "name": "stderr"
        },
        {
          "output_type": "display_data",
          "data": {
            "text/plain": [
              "<IPython.core.display.HTML object>"
            ],
            "text/html": [
              "\n",
              "                Tracking run with wandb version 0.10.26<br/>\n",
              "                Syncing run <strong style=\"color:#cdcd00\">25_SN1_Densenet161</strong> to <a href=\"https://wandb.ai\" target=\"_blank\">Weights & Biases</a> <a href=\"https://docs.wandb.com/integrations/jupyter.html\" target=\"_blank\">(Documentation)</a>.<br/>\n",
              "                Project page: <a href=\"https://wandb.ai/creganstark/25_SN\" target=\"_blank\">https://wandb.ai/creganstark/25_SN</a><br/>\n",
              "                Run page: <a href=\"https://wandb.ai/creganstark/25_SN/runs/3cavk5b4\" target=\"_blank\">https://wandb.ai/creganstark/25_SN/runs/3cavk5b4</a><br/>\n",
              "                Run data is saved locally in <code>/kaggle/working/wandb/run-20210601_131607-3cavk5b4</code><br/><br/>\n",
              "            "
            ]
          },
          "metadata": {
            "tags": []
          }
        },
        {
          "output_type": "display_data",
          "data": {
            "text/plain": [
              "  0%|          | 0/31 [00:00<?, ?it/s]"
            ],
            "application/vnd.jupyter.widget-view+json": {
              "version_major": 2,
              "version_minor": 0,
              "model_id": "b2bf0a8cccbe4eb6b15692c8a02cdfbe"
            }
          },
          "metadata": {
            "tags": []
          }
        },
        {
          "output_type": "display_data",
          "data": {
            "text/plain": [
              "  0%|          | 0/11 [00:00<?, ?it/s]"
            ],
            "application/vnd.jupyter.widget-view+json": {
              "version_major": 2,
              "version_minor": 0,
              "model_id": "efdfc5b26d6c43ccbd4292609d259c08"
            }
          },
          "metadata": {
            "tags": []
          }
        },
        {
          "output_type": "display_data",
          "data": {
            "text/plain": [
              "  0%|          | 0/162 [00:00<?, ?it/s]"
            ],
            "application/vnd.jupyter.widget-view+json": {
              "version_major": 2,
              "version_minor": 0,
              "model_id": "4896ef6e629b4277a5a9c4c8f1cc52b5"
            }
          },
          "metadata": {
            "tags": []
          }
        },
        {
          "output_type": "stream",
          "text": [
            "Epoch: 1  Train Loss: 0.0072  Train Acc: 99.9570  Valid Loss: 0.0100  Valid Acc: 99.7576 Test Loss: 0.1011  Test Acc: 96.6379 \n",
            "Saving Model\n"
          ],
          "name": "stdout"
        },
        {
          "output_type": "display_data",
          "data": {
            "text/plain": [
              "  0%|          | 0/31 [00:00<?, ?it/s]"
            ],
            "application/vnd.jupyter.widget-view+json": {
              "version_major": 2,
              "version_minor": 0,
              "model_id": "b708120b46424b46b97bc8bf29974018"
            }
          },
          "metadata": {
            "tags": []
          }
        },
        {
          "output_type": "display_data",
          "data": {
            "text/plain": [
              "  0%|          | 0/11 [00:00<?, ?it/s]"
            ],
            "application/vnd.jupyter.widget-view+json": {
              "version_major": 2,
              "version_minor": 0,
              "model_id": "7fd49c0a4cec49d2a771e107869fd775"
            }
          },
          "metadata": {
            "tags": []
          }
        },
        {
          "output_type": "display_data",
          "data": {
            "text/plain": [
              "  0%|          | 0/162 [00:00<?, ?it/s]"
            ],
            "application/vnd.jupyter.widget-view+json": {
              "version_major": 2,
              "version_minor": 0,
              "model_id": "07be198c307b44b9bc1d6b571bae18c0"
            }
          },
          "metadata": {
            "tags": []
          }
        },
        {
          "output_type": "stream",
          "text": [
            "Epoch: 2  Train Loss: 0.0061  Train Acc: 99.9570  Valid Loss: 0.0080  Valid Acc: 100.0000 Test Loss: 0.1006  Test Acc: 96.7325 \n",
            "Saving Model\n"
          ],
          "name": "stdout"
        },
        {
          "output_type": "display_data",
          "data": {
            "text/plain": [
              "  0%|          | 0/31 [00:00<?, ?it/s]"
            ],
            "application/vnd.jupyter.widget-view+json": {
              "version_major": 2,
              "version_minor": 0,
              "model_id": "6039365bf2d64268b084428248bb0260"
            }
          },
          "metadata": {
            "tags": []
          }
        },
        {
          "output_type": "display_data",
          "data": {
            "text/plain": [
              "  0%|          | 0/11 [00:00<?, ?it/s]"
            ],
            "application/vnd.jupyter.widget-view+json": {
              "version_major": 2,
              "version_minor": 0,
              "model_id": "d8ef9ad97f274a9fb29186f1758c37da"
            }
          },
          "metadata": {
            "tags": []
          }
        },
        {
          "output_type": "display_data",
          "data": {
            "text/plain": [
              "  0%|          | 0/162 [00:00<?, ?it/s]"
            ],
            "application/vnd.jupyter.widget-view+json": {
              "version_major": 2,
              "version_minor": 0,
              "model_id": "620f72bfa01f4f0898f89ee517288046"
            }
          },
          "metadata": {
            "tags": []
          }
        },
        {
          "output_type": "stream",
          "text": [
            "Epoch: 3  Train Loss: 0.0071  Train Acc: 99.9355  Valid Loss: 0.0089  Valid Acc: 99.9394 Test Loss: 0.0945  Test Acc: 97.0329 \n",
            "Saving Model\n"
          ],
          "name": "stdout"
        },
        {
          "output_type": "display_data",
          "data": {
            "text/plain": [
              "  0%|          | 0/31 [00:00<?, ?it/s]"
            ],
            "application/vnd.jupyter.widget-view+json": {
              "version_major": 2,
              "version_minor": 0,
              "model_id": "9deca45ce80c496c89d83ba9519e375c"
            }
          },
          "metadata": {
            "tags": []
          }
        },
        {
          "output_type": "display_data",
          "data": {
            "text/plain": [
              "  0%|          | 0/11 [00:00<?, ?it/s]"
            ],
            "application/vnd.jupyter.widget-view+json": {
              "version_major": 2,
              "version_minor": 0,
              "model_id": "30e46cd3be6f4fcfa77710d69029e693"
            }
          },
          "metadata": {
            "tags": []
          }
        },
        {
          "output_type": "display_data",
          "data": {
            "text/plain": [
              "  0%|          | 0/162 [00:00<?, ?it/s]"
            ],
            "application/vnd.jupyter.widget-view+json": {
              "version_major": 2,
              "version_minor": 0,
              "model_id": "38b552f6bd7b4ec9944dc348fb825b36"
            }
          },
          "metadata": {
            "tags": []
          }
        },
        {
          "output_type": "stream",
          "text": [
            "Epoch: 4  Train Loss: 0.0064  Train Acc: 99.9570  Valid Loss: 0.0071  Valid Acc: 100.0000 Test Loss: 0.0898  Test Acc: 97.1770 \n",
            "Saving Model\n"
          ],
          "name": "stdout"
        },
        {
          "output_type": "display_data",
          "data": {
            "text/plain": [
              "  0%|          | 0/31 [00:00<?, ?it/s]"
            ],
            "application/vnd.jupyter.widget-view+json": {
              "version_major": 2,
              "version_minor": 0,
              "model_id": "e1f7e220edd84a24995d63e1770dc14a"
            }
          },
          "metadata": {
            "tags": []
          }
        },
        {
          "output_type": "display_data",
          "data": {
            "text/plain": [
              "  0%|          | 0/11 [00:00<?, ?it/s]"
            ],
            "application/vnd.jupyter.widget-view+json": {
              "version_major": 2,
              "version_minor": 0,
              "model_id": "7ceee200d1404fa293f429ef406b95f8"
            }
          },
          "metadata": {
            "tags": []
          }
        },
        {
          "output_type": "display_data",
          "data": {
            "text/plain": [
              "  0%|          | 0/162 [00:00<?, ?it/s]"
            ],
            "application/vnd.jupyter.widget-view+json": {
              "version_major": 2,
              "version_minor": 0,
              "model_id": "25209aceb9b14d5f9ae5071d7304f903"
            }
          },
          "metadata": {
            "tags": []
          }
        },
        {
          "output_type": "stream",
          "text": [
            "Epoch: 5  Train Loss: 0.0059  Train Acc: 99.9570  Valid Loss: 0.0088  Valid Acc: 100.0000 Test Loss: 0.0970  Test Acc: 96.8230 \n",
            "Time Elapsed : 290.7968s\n"
          ],
          "name": "stdout"
        }
      ]
    },
    {
      "cell_type": "code",
      "metadata": {
        "execution": {
          "iopub.status.busy": "2021-06-01T13:22:17.783893Z",
          "iopub.execute_input": "2021-06-01T13:22:17.784241Z",
          "iopub.status.idle": "2021-06-01T13:27:15.388859Z",
          "shell.execute_reply.started": "2021-06-01T13:22:17.784196Z",
          "shell.execute_reply": "2021-06-01T13:27:15.387657Z"
        },
        "trusted": true,
        "colab": {
          "referenced_widgets": [
            "",
            "f9f1fe90fae14906bfad2df071f35489",
            "f01e8e2f0d454557908ae3f407716361",
            "c3a742d253ed4559b2150345f6e26b58",
            "4d7db95e6fd949f68bcdbd8bda346256",
            "a0a8db1dea704f908fb493f64d490719",
            "178bb5b70a86404d8d4502dec464e5df",
            "911d3b921be84eab9d90db2832952de2",
            "cf5b5898048c4c30bb0f2f9232b3d1e9",
            "7372248924ab48d5a912c9d63d5469f3",
            "dfbd57f4d1ce4dbd8b1f44fde5cb46e0",
            "d34a71b2f58b472e9a54b7892ad92d30",
            "47f825c9fd554b44b51c1b3eff82747a",
            "92cda138f0ed4055a603cf7e078f6bae",
            "230b31ee243841d08d63bc68484aa796",
            "633963fd955f4e48878dc7eaa446cb78"
          ]
        },
        "id": "ofvuC2QR9ZMg",
        "outputId": "eb0f3947-df95-48be-cccb-1bdcb83179f9"
      },
      "source": [
        "wandb.init(name='25_SN1_Densenet161',\n",
        "           project='25_SN',\n",
        "           notes='3 Channels with Augs,Sobel', \n",
        "           tags=['SGD','StepLR'],\n",
        "           entity='creganstark')\n",
        "\n",
        "# WandB Configurations (optional)        \n",
        "wandb.config.lr = 5e-4\n",
        "model=model.float()\n",
        "#model = model.to(device)\n",
        "criterion = nn.CrossEntropyLoss()\n",
        "optimizer = optim.SGD(model.parameters(),\n",
        "                      lr  =  5e-4,\n",
        "                      momentum     = 0.9,\n",
        "                      nesterov     = True,\n",
        "                      weight_decay = 1e-4)\n",
        "\n",
        "#scheduler = optim.lr_scheduler.CyclicLR(optimizer,base_lr=5e-5,max_lr=5e-4 ,step_size_up=2000)\n",
        "scheduler = optim.lr_scheduler.StepLR(optimizer,step_size=9,gamma=0.5)\n",
        "# Log the network weight histograms (optional)\n",
        "#wandb.watch(model)\n",
        "\n",
        "num_epochs = 5\n",
        "start_time = time.time()\n",
        "prev_acc=0\n",
        "for epoch in range(1, num_epochs+1):\n",
        "    \n",
        "    loss_train, acc_train = train(model, criterion, optimizer, trainloader)\n",
        "    loss_valid, acc_valid = validate(model, criterion, valloader)\n",
        "    loss_test, acc_test = inference(model,criterion,testloader)\n",
        "    scheduler.step()\n",
        "    \n",
        "    print('Epoch: {}  Train Loss: {:.4f}  Train Acc: {:.4f}  Valid Loss: {:.4f}  Valid Acc: {:.4f} Test Loss: {:.4f}  Test Acc: {:.4f} '.format(epoch, loss_train, acc_train, loss_valid, acc_valid, loss_test, acc_test))\n",
        "\n",
        "    #Log the loss and accuracy values at the end of each epoch\n",
        "    wandb.log({\n",
        "        \"Epoch\": epoch,\n",
        "        \"Train Loss\": loss_train,\n",
        "        \"Train Acc\": acc_train,\n",
        "        \"Test Loss\": loss_test,\n",
        "        \"Test Acc\": acc_test})\n",
        "    if acc_test>prev_acc:\n",
        "      prev_acc=acc_test\n",
        "      acc_test=str(acc_test)\n",
        "      paths = \"test\"+acc_test[:7]+\".pt\"\n",
        "      print('Saving Model')\n",
        "      torch.save({\n",
        "          'epoch': epoch,\n",
        "          'model_state_dict': model.state_dict(),\n",
        "          'optimizer_state_dict': optimizer.state_dict(),\n",
        "          'val_loss': loss_valid,\n",
        "          'val_acc':acc_valid,\n",
        "          'train_acc':acc_train,\n",
        "          'loss_acc':loss_train,\n",
        "          },str(paths))\n",
        "\n",
        "print(\"Time Elapsed : {:.4f}s\".format(time.time() - start_time))\n",
        "#dba0dc08380296feb5c72e311f343c622485c0ac"
      ],
      "execution_count": null,
      "outputs": [
        {
          "output_type": "display_data",
          "data": {
            "text/plain": [
              "<IPython.core.display.HTML object>"
            ],
            "text/html": [
              "Finishing last run (ID:3cavk5b4) before initializing another..."
            ]
          },
          "metadata": {
            "tags": []
          }
        },
        {
          "output_type": "display_data",
          "data": {
            "text/plain": [
              "<IPython.core.display.HTML object>"
            ],
            "text/html": [
              "<br/>Waiting for W&B process to finish, PID 1308<br/>Program ended successfully."
            ]
          },
          "metadata": {
            "tags": []
          }
        },
        {
          "output_type": "display_data",
          "data": {
            "text/plain": [
              "VBox(children=(Label(value=' 0.00MB of 0.00MB uploaded (0.00MB deduped)\\r'), FloatProgress(value=1.0, max=1.0)…"
            ],
            "application/vnd.jupyter.widget-view+json": {
              "version_major": 2,
              "version_minor": 0,
              "model_id": ""
            }
          },
          "metadata": {
            "tags": []
          }
        },
        {
          "output_type": "display_data",
          "data": {
            "text/plain": [
              "<IPython.core.display.HTML object>"
            ],
            "text/html": [
              "Find user logs for this run at: <code>/kaggle/working/wandb/run-20210601_131607-3cavk5b4/logs/debug.log</code>"
            ]
          },
          "metadata": {
            "tags": []
          }
        },
        {
          "output_type": "display_data",
          "data": {
            "text/plain": [
              "<IPython.core.display.HTML object>"
            ],
            "text/html": [
              "Find internal logs for this run at: <code>/kaggle/working/wandb/run-20210601_131607-3cavk5b4/logs/debug-internal.log</code>"
            ]
          },
          "metadata": {
            "tags": []
          }
        },
        {
          "output_type": "display_data",
          "data": {
            "text/plain": [
              "<IPython.core.display.HTML object>"
            ],
            "text/html": [
              "<h3>Run summary:</h3><br/><style>\n",
              "    table.wandb td:nth-child(1) { padding: 0 10px; text-align: right }\n",
              "    </style><table class=\"wandb\">\n",
              "<tr><td>Epoch</td><td>5</td></tr><tr><td>Train Loss</td><td>0.00588</td></tr><tr><td>Train Acc</td><td>99.95699</td></tr><tr><td>Test Loss</td><td>0.09701</td></tr><tr><td>Test Acc</td><td>96.82305</td></tr><tr><td>_runtime</td><td>294</td></tr><tr><td>_timestamp</td><td>1622553664</td></tr><tr><td>_step</td><td>4</td></tr></table>"
            ]
          },
          "metadata": {
            "tags": []
          }
        },
        {
          "output_type": "display_data",
          "data": {
            "text/plain": [
              "<IPython.core.display.HTML object>"
            ],
            "text/html": [
              "<h3>Run history:</h3><br/><style>\n",
              "    table.wandb td:nth-child(1) { padding: 0 10px; text-align: right }\n",
              "    </style><table class=\"wandb\">\n",
              "<tr><td>Epoch</td><td>▁▃▅▆█</td></tr><tr><td>Train Loss</td><td>█▂█▄▁</td></tr><tr><td>Train Acc</td><td>██▁██</td></tr><tr><td>Test Loss</td><td>██▄▁▅</td></tr><tr><td>Test Acc</td><td>▁▂▆█▃</td></tr><tr><td>_runtime</td><td>▁▃▄▆█</td></tr><tr><td>_timestamp</td><td>▁▃▄▆█</td></tr><tr><td>_step</td><td>▁▃▅▆█</td></tr></table><br/>"
            ]
          },
          "metadata": {
            "tags": []
          }
        },
        {
          "output_type": "display_data",
          "data": {
            "text/plain": [
              "<IPython.core.display.HTML object>"
            ],
            "text/html": [
              "Synced 5 W&B file(s), 0 media file(s), 0 artifact file(s) and 0 other file(s)"
            ]
          },
          "metadata": {
            "tags": []
          }
        },
        {
          "output_type": "display_data",
          "data": {
            "text/plain": [
              "<IPython.core.display.HTML object>"
            ],
            "text/html": [
              "\n",
              "                    <br/>Synced <strong style=\"color:#cdcd00\">25_SN1_Densenet161</strong>: <a href=\"https://wandb.ai/creganstark/25_SN/runs/3cavk5b4\" target=\"_blank\">https://wandb.ai/creganstark/25_SN/runs/3cavk5b4</a><br/>\n",
              "                "
            ]
          },
          "metadata": {
            "tags": []
          }
        },
        {
          "output_type": "display_data",
          "data": {
            "text/plain": [
              "<IPython.core.display.HTML object>"
            ],
            "text/html": [
              "...Successfully finished last run (ID:3cavk5b4). Initializing new run:<br/><br/>"
            ]
          },
          "metadata": {
            "tags": []
          }
        },
        {
          "output_type": "stream",
          "text": [
            "\u001b[34m\u001b[1mwandb\u001b[0m: wandb version 0.10.31 is available!  To upgrade, please run:\n",
            "\u001b[34m\u001b[1mwandb\u001b[0m:  $ pip install wandb --upgrade\n"
          ],
          "name": "stderr"
        },
        {
          "output_type": "display_data",
          "data": {
            "text/plain": [
              "<IPython.core.display.HTML object>"
            ],
            "text/html": [
              "\n",
              "                Tracking run with wandb version 0.10.26<br/>\n",
              "                Syncing run <strong style=\"color:#cdcd00\">25_SN1_Densenet161</strong> to <a href=\"https://wandb.ai\" target=\"_blank\">Weights & Biases</a> <a href=\"https://docs.wandb.com/integrations/jupyter.html\" target=\"_blank\">(Documentation)</a>.<br/>\n",
              "                Project page: <a href=\"https://wandb.ai/creganstark/25_SN\" target=\"_blank\">https://wandb.ai/creganstark/25_SN</a><br/>\n",
              "                Run page: <a href=\"https://wandb.ai/creganstark/25_SN/runs/qtxiazts\" target=\"_blank\">https://wandb.ai/creganstark/25_SN/runs/qtxiazts</a><br/>\n",
              "                Run data is saved locally in <code>/kaggle/working/wandb/run-20210601_132217-qtxiazts</code><br/><br/>\n",
              "            "
            ]
          },
          "metadata": {
            "tags": []
          }
        },
        {
          "output_type": "display_data",
          "data": {
            "text/plain": [
              "  0%|          | 0/31 [00:00<?, ?it/s]"
            ],
            "application/vnd.jupyter.widget-view+json": {
              "version_major": 2,
              "version_minor": 0,
              "model_id": "f9f1fe90fae14906bfad2df071f35489"
            }
          },
          "metadata": {
            "tags": []
          }
        },
        {
          "output_type": "display_data",
          "data": {
            "text/plain": [
              "  0%|          | 0/11 [00:00<?, ?it/s]"
            ],
            "application/vnd.jupyter.widget-view+json": {
              "version_major": 2,
              "version_minor": 0,
              "model_id": "f01e8e2f0d454557908ae3f407716361"
            }
          },
          "metadata": {
            "tags": []
          }
        },
        {
          "output_type": "display_data",
          "data": {
            "text/plain": [
              "  0%|          | 0/162 [00:00<?, ?it/s]"
            ],
            "application/vnd.jupyter.widget-view+json": {
              "version_major": 2,
              "version_minor": 0,
              "model_id": "c3a742d253ed4559b2150345f6e26b58"
            }
          },
          "metadata": {
            "tags": []
          }
        },
        {
          "output_type": "stream",
          "text": [
            "Epoch: 1  Train Loss: 0.0073  Train Acc: 99.8564  Valid Loss: 0.0090  Valid Acc: 99.8788 Test Loss: 0.0944  Test Acc: 96.8807 \n",
            "Saving Model\n"
          ],
          "name": "stdout"
        },
        {
          "output_type": "display_data",
          "data": {
            "text/plain": [
              "  0%|          | 0/31 [00:00<?, ?it/s]"
            ],
            "application/vnd.jupyter.widget-view+json": {
              "version_major": 2,
              "version_minor": 0,
              "model_id": "4d7db95e6fd949f68bcdbd8bda346256"
            }
          },
          "metadata": {
            "tags": []
          }
        },
        {
          "output_type": "display_data",
          "data": {
            "text/plain": [
              "  0%|          | 0/11 [00:00<?, ?it/s]"
            ],
            "application/vnd.jupyter.widget-view+json": {
              "version_major": 2,
              "version_minor": 0,
              "model_id": "a0a8db1dea704f908fb493f64d490719"
            }
          },
          "metadata": {
            "tags": []
          }
        },
        {
          "output_type": "display_data",
          "data": {
            "text/plain": [
              "  0%|          | 0/162 [00:00<?, ?it/s]"
            ],
            "application/vnd.jupyter.widget-view+json": {
              "version_major": 2,
              "version_minor": 0,
              "model_id": "178bb5b70a86404d8d4502dec464e5df"
            }
          },
          "metadata": {
            "tags": []
          }
        },
        {
          "output_type": "stream",
          "text": [
            "Epoch: 2  Train Loss: 0.0049  Train Acc: 99.9570  Valid Loss: 0.0067  Valid Acc: 99.9394 Test Loss: 0.0892  Test Acc: 97.1852 \n",
            "Saving Model\n"
          ],
          "name": "stdout"
        },
        {
          "output_type": "display_data",
          "data": {
            "text/plain": [
              "  0%|          | 0/31 [00:00<?, ?it/s]"
            ],
            "application/vnd.jupyter.widget-view+json": {
              "version_major": 2,
              "version_minor": 0,
              "model_id": "911d3b921be84eab9d90db2832952de2"
            }
          },
          "metadata": {
            "tags": []
          }
        },
        {
          "output_type": "display_data",
          "data": {
            "text/plain": [
              "  0%|          | 0/11 [00:00<?, ?it/s]"
            ],
            "application/vnd.jupyter.widget-view+json": {
              "version_major": 2,
              "version_minor": 0,
              "model_id": "cf5b5898048c4c30bb0f2f9232b3d1e9"
            }
          },
          "metadata": {
            "tags": []
          }
        },
        {
          "output_type": "display_data",
          "data": {
            "text/plain": [
              "  0%|          | 0/162 [00:00<?, ?it/s]"
            ],
            "application/vnd.jupyter.widget-view+json": {
              "version_major": 2,
              "version_minor": 0,
              "model_id": "7372248924ab48d5a912c9d63d5469f3"
            }
          },
          "metadata": {
            "tags": []
          }
        },
        {
          "output_type": "stream",
          "text": [
            "Epoch: 3  Train Loss: 0.0044  Train Acc: 100.0000  Valid Loss: 0.0062  Valid Acc: 100.0000 Test Loss: 0.0877  Test Acc: 97.2222 \n",
            "Saving Model\n"
          ],
          "name": "stdout"
        },
        {
          "output_type": "display_data",
          "data": {
            "text/plain": [
              "  0%|          | 0/31 [00:00<?, ?it/s]"
            ],
            "application/vnd.jupyter.widget-view+json": {
              "version_major": 2,
              "version_minor": 0,
              "model_id": "dfbd57f4d1ce4dbd8b1f44fde5cb46e0"
            }
          },
          "metadata": {
            "tags": []
          }
        },
        {
          "output_type": "display_data",
          "data": {
            "text/plain": [
              "  0%|          | 0/11 [00:00<?, ?it/s]"
            ],
            "application/vnd.jupyter.widget-view+json": {
              "version_major": 2,
              "version_minor": 0,
              "model_id": "d34a71b2f58b472e9a54b7892ad92d30"
            }
          },
          "metadata": {
            "tags": []
          }
        },
        {
          "output_type": "display_data",
          "data": {
            "text/plain": [
              "  0%|          | 0/162 [00:00<?, ?it/s]"
            ],
            "application/vnd.jupyter.widget-view+json": {
              "version_major": 2,
              "version_minor": 0,
              "model_id": "47f825c9fd554b44b51c1b3eff82747a"
            }
          },
          "metadata": {
            "tags": []
          }
        },
        {
          "output_type": "stream",
          "text": [
            "Epoch: 4  Train Loss: 0.0041  Train Acc: 100.0000  Valid Loss: 0.0055  Valid Acc: 100.0000 Test Loss: 0.0890  Test Acc: 97.1564 \n"
          ],
          "name": "stdout"
        },
        {
          "output_type": "display_data",
          "data": {
            "text/plain": [
              "  0%|          | 0/31 [00:00<?, ?it/s]"
            ],
            "application/vnd.jupyter.widget-view+json": {
              "version_major": 2,
              "version_minor": 0,
              "model_id": "92cda138f0ed4055a603cf7e078f6bae"
            }
          },
          "metadata": {
            "tags": []
          }
        },
        {
          "output_type": "display_data",
          "data": {
            "text/plain": [
              "  0%|          | 0/11 [00:00<?, ?it/s]"
            ],
            "application/vnd.jupyter.widget-view+json": {
              "version_major": 2,
              "version_minor": 0,
              "model_id": "230b31ee243841d08d63bc68484aa796"
            }
          },
          "metadata": {
            "tags": []
          }
        },
        {
          "output_type": "display_data",
          "data": {
            "text/plain": [
              "  0%|          | 0/162 [00:00<?, ?it/s]"
            ],
            "application/vnd.jupyter.widget-view+json": {
              "version_major": 2,
              "version_minor": 0,
              "model_id": "633963fd955f4e48878dc7eaa446cb78"
            }
          },
          "metadata": {
            "tags": []
          }
        },
        {
          "output_type": "stream",
          "text": [
            "Epoch: 5  Train Loss: 0.0041  Train Acc: 99.9355  Valid Loss: 0.0049  Valid Acc: 99.9394 Test Loss: 0.0879  Test Acc: 97.1728 \n",
            "Time Elapsed : 291.9750s\n"
          ],
          "name": "stdout"
        }
      ]
    },
    {
      "cell_type": "code",
      "metadata": {
        "execution": {
          "iopub.status.busy": "2021-06-01T13:38:21.094459Z",
          "iopub.execute_input": "2021-06-01T13:38:21.094867Z",
          "iopub.status.idle": "2021-06-01T13:43:38.374528Z",
          "shell.execute_reply.started": "2021-06-01T13:38:21.094836Z",
          "shell.execute_reply": "2021-06-01T13:43:38.372541Z"
        },
        "trusted": true,
        "colab": {
          "referenced_widgets": [
            "",
            "5c6eb7cd8bfd41179141777003043133",
            "7563cff406194bc8903d56c79fb88a37",
            "6737622688f64bdba6684c264c6d5683",
            "e9a14ab666bb47a68a3cb63a5cbb5837",
            "2201bc104e264d9e882e9adaca7d7a33",
            "3f9b99d55cb442dfa45c54a3f1db48b3",
            "605ea083e274464d87ac09b9fcafd2c1",
            "0992c2a85a4d4c9cb60d29c55c98ea20",
            "846716e13fe64dd0916fa88f6702e13e",
            "8a4f7304efbc4868b485e32ce93603ef",
            "2d42352ad8c5416e8a5eea0af69be39c",
            "b135b17a3bc04443ae2f56f001c5f19a",
            "d889e9892a2440f9bf3ce27edc737768",
            "45bad8004f2847c3aba7b52e58ad099a",
            "6bdd9d6fcd72475f9411e33bfea7f3aa"
          ]
        },
        "id": "i_EXIM3x9ZMh",
        "outputId": "b51debab-fb45-455a-a231-f5704e0c7a60"
      },
      "source": [
        "wandb.init(name='25_SN1_Densenet161',\n",
        "           project='25_SN',\n",
        "           notes='3 Channels with Augs,Sobel', \n",
        "           tags=['SGD','StepLR'],\n",
        "           entity='creganstark')\n",
        "\n",
        "# WandB Configurations (optional)        \n",
        "wandb.config.lr = 1e-4\n",
        "#model=model.float()\n",
        "model = model.to(device)\n",
        "criterion = nn.CrossEntropyLoss()\n",
        "optimizer = optim.SGD(model.parameters(),\n",
        "                      lr  =  1e-4,\n",
        "                      momentum     = 0.9,\n",
        "                      nesterov     = True,\n",
        "                      weight_decay = 1e-4)\n",
        "\n",
        "#scheduler = optim.lr_scheduler.CyclicLR(optimizer,base_lr=5e-5,max_lr=5e-4 ,step_size_up=2000)\n",
        "scheduler = optim.lr_scheduler.StepLR(optimizer,step_size=9,gamma=0.5)\n",
        "# Log the network weight histograms (optional)\n",
        "#wandb.watch(model)\n",
        "\n",
        "num_epochs = 5\n",
        "start_time = time.time()\n",
        "prev_acc=0\n",
        "for epoch in range(1, num_epochs+1):\n",
        "    \n",
        "    loss_train, acc_train = train(model, criterion, optimizer, trainloader)\n",
        "    loss_valid, acc_valid = validate(model, criterion, valloader)\n",
        "    loss_test, acc_test = inference(model,criterion,testloader)\n",
        "    scheduler.step()\n",
        "    \n",
        "    print('Epoch: {}  Train Loss: {:.4f}  Train Acc: {:.4f}  Valid Loss: {:.4f}  Valid Acc: {:.4f} Test Loss: {:.4f}  Test Acc: {:.4f} '.format(epoch, loss_train, acc_train, loss_valid, acc_valid, loss_test, acc_test))\n",
        "\n",
        "    #Log the loss and accuracy values at the end of each epoch\n",
        "    wandb.log({\n",
        "        \"Epoch\": epoch,\n",
        "        \"Train Loss\": loss_train,\n",
        "        \"Train Acc\": acc_train,\n",
        "        \"Test Loss\": loss_test,\n",
        "        \"Test Acc\": acc_test})\n",
        "    if acc_test>prev_acc:\n",
        "      prev_acc=acc_test\n",
        "      acc_test=str(acc_test)\n",
        "      paths = \"test\"+acc_test[:7]+\".pt\"\n",
        "      print('Saving Model')\n",
        "      torch.save({\n",
        "          'epoch': epoch,\n",
        "          'model_state_dict': model.state_dict(),\n",
        "          'optimizer_state_dict': optimizer.state_dict(),\n",
        "          'val_loss': loss_valid,\n",
        "          'val_acc':acc_valid,\n",
        "          'train_acc':acc_train,\n",
        "          'loss_acc':loss_train,\n",
        "          },str(paths))\n",
        "\n",
        "print(\"Time Elapsed : {:.4f}s\".format(time.time() - start_time))\n",
        "#dba0dc08380296feb5c72e311f343c622485c0ac"
      ],
      "execution_count": null,
      "outputs": [
        {
          "output_type": "display_data",
          "data": {
            "text/plain": [
              "<IPython.core.display.HTML object>"
            ],
            "text/html": [
              "Finishing last run (ID:39wbm1gz) before initializing another..."
            ]
          },
          "metadata": {
            "tags": []
          }
        },
        {
          "output_type": "display_data",
          "data": {
            "text/plain": [
              "<IPython.core.display.HTML object>"
            ],
            "text/html": [
              "<br/>Waiting for W&B process to finish, PID 2859<br/>Program ended successfully."
            ]
          },
          "metadata": {
            "tags": []
          }
        },
        {
          "output_type": "display_data",
          "data": {
            "text/plain": [
              "VBox(children=(Label(value=' 0.00MB of 0.00MB uploaded (0.00MB deduped)\\r'), FloatProgress(value=1.0, max=1.0)…"
            ],
            "application/vnd.jupyter.widget-view+json": {
              "version_major": 2,
              "version_minor": 0,
              "model_id": ""
            }
          },
          "metadata": {
            "tags": []
          }
        },
        {
          "output_type": "display_data",
          "data": {
            "text/plain": [
              "<IPython.core.display.HTML object>"
            ],
            "text/html": [
              "Find user logs for this run at: <code>/kaggle/working/wandb/run-20210601_133800-39wbm1gz/logs/debug.log</code>"
            ]
          },
          "metadata": {
            "tags": []
          }
        },
        {
          "output_type": "display_data",
          "data": {
            "text/plain": [
              "<IPython.core.display.HTML object>"
            ],
            "text/html": [
              "Find internal logs for this run at: <code>/kaggle/working/wandb/run-20210601_133800-39wbm1gz/logs/debug-internal.log</code>"
            ]
          },
          "metadata": {
            "tags": []
          }
        },
        {
          "output_type": "display_data",
          "data": {
            "text/plain": [
              "<IPython.core.display.HTML object>"
            ],
            "text/html": [
              "Synced 4 W&B file(s), 0 media file(s), 0 artifact file(s) and 0 other file(s)"
            ]
          },
          "metadata": {
            "tags": []
          }
        },
        {
          "output_type": "display_data",
          "data": {
            "text/plain": [
              "<IPython.core.display.HTML object>"
            ],
            "text/html": [
              "\n",
              "                    <br/>Synced <strong style=\"color:#cdcd00\">25_SN1_Densenet161</strong>: <a href=\"https://wandb.ai/creganstark/25_SN/runs/39wbm1gz\" target=\"_blank\">https://wandb.ai/creganstark/25_SN/runs/39wbm1gz</a><br/>\n",
              "                "
            ]
          },
          "metadata": {
            "tags": []
          }
        },
        {
          "output_type": "display_data",
          "data": {
            "text/plain": [
              "<IPython.core.display.HTML object>"
            ],
            "text/html": [
              "...Successfully finished last run (ID:39wbm1gz). Initializing new run:<br/><br/>"
            ]
          },
          "metadata": {
            "tags": []
          }
        },
        {
          "output_type": "stream",
          "text": [
            "\u001b[34m\u001b[1mwandb\u001b[0m: wandb version 0.10.31 is available!  To upgrade, please run:\n",
            "\u001b[34m\u001b[1mwandb\u001b[0m:  $ pip install wandb --upgrade\n"
          ],
          "name": "stderr"
        },
        {
          "output_type": "display_data",
          "data": {
            "text/plain": [
              "<IPython.core.display.HTML object>"
            ],
            "text/html": [
              "\n",
              "                Tracking run with wandb version 0.10.26<br/>\n",
              "                Syncing run <strong style=\"color:#cdcd00\">25_SN1_Densenet161</strong> to <a href=\"https://wandb.ai\" target=\"_blank\">Weights & Biases</a> <a href=\"https://docs.wandb.com/integrations/jupyter.html\" target=\"_blank\">(Documentation)</a>.<br/>\n",
              "                Project page: <a href=\"https://wandb.ai/creganstark/25_SN\" target=\"_blank\">https://wandb.ai/creganstark/25_SN</a><br/>\n",
              "                Run page: <a href=\"https://wandb.ai/creganstark/25_SN/runs/86ik3axh\" target=\"_blank\">https://wandb.ai/creganstark/25_SN/runs/86ik3axh</a><br/>\n",
              "                Run data is saved locally in <code>/kaggle/working/wandb/run-20210601_133821-86ik3axh</code><br/><br/>\n",
              "            "
            ]
          },
          "metadata": {
            "tags": []
          }
        },
        {
          "output_type": "display_data",
          "data": {
            "text/plain": [
              "  0%|          | 0/36 [00:00<?, ?it/s]"
            ],
            "application/vnd.jupyter.widget-view+json": {
              "version_major": 2,
              "version_minor": 0,
              "model_id": "5c6eb7cd8bfd41179141777003043133"
            }
          },
          "metadata": {
            "tags": []
          }
        },
        {
          "output_type": "display_data",
          "data": {
            "text/plain": [
              "  0%|          | 0/12 [00:00<?, ?it/s]"
            ],
            "application/vnd.jupyter.widget-view+json": {
              "version_major": 2,
              "version_minor": 0,
              "model_id": "7563cff406194bc8903d56c79fb88a37"
            }
          },
          "metadata": {
            "tags": []
          }
        },
        {
          "output_type": "display_data",
          "data": {
            "text/plain": [
              "  0%|          | 0/190 [00:00<?, ?it/s]"
            ],
            "application/vnd.jupyter.widget-view+json": {
              "version_major": 2,
              "version_minor": 0,
              "model_id": "6737622688f64bdba6684c264c6d5683"
            }
          },
          "metadata": {
            "tags": []
          }
        },
        {
          "output_type": "stream",
          "text": [
            "Epoch: 1  Train Loss: 0.0096  Train Acc: 99.8264  Valid Loss: 0.0046  Valid Acc: 99.9349 Test Loss: 0.0941  Test Acc: 96.8278 \n",
            "Saving Model\n"
          ],
          "name": "stdout"
        },
        {
          "output_type": "display_data",
          "data": {
            "text/plain": [
              "  0%|          | 0/36 [00:00<?, ?it/s]"
            ],
            "application/vnd.jupyter.widget-view+json": {
              "version_major": 2,
              "version_minor": 0,
              "model_id": "e9a14ab666bb47a68a3cb63a5cbb5837"
            }
          },
          "metadata": {
            "tags": []
          }
        },
        {
          "output_type": "display_data",
          "data": {
            "text/plain": [
              "  0%|          | 0/12 [00:00<?, ?it/s]"
            ],
            "application/vnd.jupyter.widget-view+json": {
              "version_major": 2,
              "version_minor": 0,
              "model_id": "2201bc104e264d9e882e9adaca7d7a33"
            }
          },
          "metadata": {
            "tags": []
          }
        },
        {
          "output_type": "display_data",
          "data": {
            "text/plain": [
              "  0%|          | 0/190 [00:00<?, ?it/s]"
            ],
            "application/vnd.jupyter.widget-view+json": {
              "version_major": 2,
              "version_minor": 0,
              "model_id": "3f9b99d55cb442dfa45c54a3f1db48b3"
            }
          },
          "metadata": {
            "tags": []
          }
        },
        {
          "output_type": "stream",
          "text": [
            "Epoch: 2  Train Loss: 0.0069  Train Acc: 99.9349  Valid Loss: 0.0035  Valid Acc: 100.0000 Test Loss: 0.0873  Test Acc: 97.1074 \n",
            "Saving Model\n"
          ],
          "name": "stdout"
        },
        {
          "output_type": "display_data",
          "data": {
            "text/plain": [
              "  0%|          | 0/36 [00:00<?, ?it/s]"
            ],
            "application/vnd.jupyter.widget-view+json": {
              "version_major": 2,
              "version_minor": 0,
              "model_id": "605ea083e274464d87ac09b9fcafd2c1"
            }
          },
          "metadata": {
            "tags": []
          }
        },
        {
          "output_type": "display_data",
          "data": {
            "text/plain": [
              "  0%|          | 0/12 [00:00<?, ?it/s]"
            ],
            "application/vnd.jupyter.widget-view+json": {
              "version_major": 2,
              "version_minor": 0,
              "model_id": "0992c2a85a4d4c9cb60d29c55c98ea20"
            }
          },
          "metadata": {
            "tags": []
          }
        },
        {
          "output_type": "display_data",
          "data": {
            "text/plain": [
              "  0%|          | 0/190 [00:00<?, ?it/s]"
            ],
            "application/vnd.jupyter.widget-view+json": {
              "version_major": 2,
              "version_minor": 0,
              "model_id": "846716e13fe64dd0916fa88f6702e13e"
            }
          },
          "metadata": {
            "tags": []
          }
        },
        {
          "output_type": "stream",
          "text": [
            "Epoch: 3  Train Loss: 0.0065  Train Acc: 99.9200  Valid Loss: 0.0049  Valid Acc: 99.8598 Test Loss: 0.0931  Test Acc: 96.8525 \n"
          ],
          "name": "stdout"
        },
        {
          "output_type": "display_data",
          "data": {
            "text/plain": [
              "  0%|          | 0/36 [00:00<?, ?it/s]"
            ],
            "application/vnd.jupyter.widget-view+json": {
              "version_major": 2,
              "version_minor": 0,
              "model_id": "8a4f7304efbc4868b485e32ce93603ef"
            }
          },
          "metadata": {
            "tags": []
          }
        },
        {
          "output_type": "display_data",
          "data": {
            "text/plain": [
              "  0%|          | 0/12 [00:00<?, ?it/s]"
            ],
            "application/vnd.jupyter.widget-view+json": {
              "version_major": 2,
              "version_minor": 0,
              "model_id": "2d42352ad8c5416e8a5eea0af69be39c"
            }
          },
          "metadata": {
            "tags": []
          }
        },
        {
          "output_type": "display_data",
          "data": {
            "text/plain": [
              "  0%|          | 0/190 [00:00<?, ?it/s]"
            ],
            "application/vnd.jupyter.widget-view+json": {
              "version_major": 2,
              "version_minor": 0,
              "model_id": "b135b17a3bc04443ae2f56f001c5f19a"
            }
          },
          "metadata": {
            "tags": []
          }
        },
        {
          "output_type": "stream",
          "text": [
            "Epoch: 4  Train Loss: 0.0092  Train Acc: 99.7030  Valid Loss: 0.0046  Valid Acc: 99.8598 Test Loss: 0.0868  Test Acc: 97.1937 \n",
            "Saving Model\n"
          ],
          "name": "stdout"
        },
        {
          "output_type": "display_data",
          "data": {
            "text/plain": [
              "  0%|          | 0/36 [00:00<?, ?it/s]"
            ],
            "application/vnd.jupyter.widget-view+json": {
              "version_major": 2,
              "version_minor": 0,
              "model_id": "d889e9892a2440f9bf3ce27edc737768"
            }
          },
          "metadata": {
            "tags": []
          }
        },
        {
          "output_type": "display_data",
          "data": {
            "text/plain": [
              "  0%|          | 0/12 [00:00<?, ?it/s]"
            ],
            "application/vnd.jupyter.widget-view+json": {
              "version_major": 2,
              "version_minor": 0,
              "model_id": "45bad8004f2847c3aba7b52e58ad099a"
            }
          },
          "metadata": {
            "tags": []
          }
        },
        {
          "output_type": "display_data",
          "data": {
            "text/plain": [
              "  0%|          | 0/190 [00:00<?, ?it/s]"
            ],
            "application/vnd.jupyter.widget-view+json": {
              "version_major": 2,
              "version_minor": 0,
              "model_id": "6bdd9d6fcd72475f9411e33bfea7f3aa"
            }
          },
          "metadata": {
            "tags": []
          }
        },
        {
          "output_type": "stream",
          "text": [
            "Epoch: 5  Train Loss: 0.0063  Train Acc: 99.9132  Valid Loss: 0.0058  Valid Acc: 99.9249 Test Loss: 0.0841  Test Acc: 97.2438 \n",
            "Saving Model\n",
            "Time Elapsed : 311.8397s\n"
          ],
          "name": "stdout"
        }
      ]
    },
    {
      "cell_type": "code",
      "metadata": {
        "execution": {
          "iopub.status.busy": "2021-06-01T13:44:15.860296Z",
          "iopub.execute_input": "2021-06-01T13:44:15.860744Z",
          "iopub.status.idle": "2021-06-01T13:49:34.124343Z",
          "shell.execute_reply.started": "2021-06-01T13:44:15.860688Z",
          "shell.execute_reply": "2021-06-01T13:49:34.123179Z"
        },
        "trusted": true,
        "colab": {
          "referenced_widgets": [
            "",
            "7141890ebd4d4eb98c9eb2113d81700e",
            "efaec6fe8d8848bd9da4da23a2fd049c",
            "789a027ec3b14f8e962da8f17be2a1ba",
            "a0a9b1d6f3394c98b453513d0cea0cc0",
            "8890c977cd2c4fb89b14611eabb6aff7",
            "4e3c8221b3d54d9c8352071fa81df2bc",
            "adaaff264f93454fbb9a2055a59b007e",
            "bd7f5bcb150d4e8f9599ca39a29a8276",
            "4eb415a9f2a64866993cd14fd233ac64",
            "93acc9dd775645ca8a5514ecda14a478",
            "faf0d2ddf6c44b2aa94340b8e9daf41f",
            "04e25c288a1c481b89a3a1b88ff368bf",
            "77fa17d173e54395ac3cd14fd78298bf",
            "db4a36d0c5ca4475aa2aae948bd0ad81",
            "d422e73677894e478fad531ae9b99ad2"
          ]
        },
        "id": "Fw9kS0-19ZMh",
        "outputId": "8fce235d-7b2c-43c5-f16c-3d7c3a7474e7"
      },
      "source": [
        "wandb.init(name='25_SN1_Densenet161',\n",
        "           project='25_SN',\n",
        "           notes='3 Channels with Augs,Sobel', \n",
        "           tags=['SGD','StepLR'],\n",
        "           entity='creganstark')\n",
        "\n",
        "# WandB Configurations (optional)        \n",
        "wandb.config.lr = 1e-4\n",
        "#model=model.float()\n",
        "model = model.to(device)\n",
        "criterion = nn.CrossEntropyLoss()\n",
        "optimizer = optim.SGD(model.parameters(),\n",
        "                      lr  =  1e-4,\n",
        "                      momentum     = 0.9,\n",
        "                      nesterov     = True,\n",
        "                      weight_decay = 1e-4)\n",
        "\n",
        "#scheduler = optim.lr_scheduler.CyclicLR(optimizer,base_lr=5e-5,max_lr=5e-4 ,step_size_up=2000)\n",
        "scheduler = optim.lr_scheduler.StepLR(optimizer,step_size=9,gamma=0.5)\n",
        "# Log the network weight histograms (optional)\n",
        "#wandb.watch(model)\n",
        "\n",
        "num_epochs = 5\n",
        "start_time = time.time()\n",
        "prev_acc=0\n",
        "for epoch in range(1, num_epochs+1):\n",
        "    \n",
        "    loss_train, acc_train = train(model, criterion, optimizer, trainloader)\n",
        "    loss_valid, acc_valid = validate(model, criterion, valloader)\n",
        "    loss_test, acc_test = inference(model,criterion,testloader)\n",
        "    scheduler.step()\n",
        "    \n",
        "    print('Epoch: {}  Train Loss: {:.4f}  Train Acc: {:.4f}  Valid Loss: {:.4f}  Valid Acc: {:.4f} Test Loss: {:.4f}  Test Acc: {:.4f} '.format(epoch, loss_train, acc_train, loss_valid, acc_valid, loss_test, acc_test))\n",
        "\n",
        "    #Log the loss and accuracy values at the end of each epoch\n",
        "    wandb.log({\n",
        "        \"Epoch\": epoch,\n",
        "        \"Train Loss\": loss_train,\n",
        "        \"Train Acc\": acc_train,\n",
        "        \"Test Loss\": loss_test,\n",
        "        \"Test Acc\": acc_test})\n",
        "    if acc_test>prev_acc:\n",
        "      prev_acc=acc_test\n",
        "      acc_test=str(acc_test)\n",
        "      paths = \"test\"+acc_test[:7]+\".pt\"\n",
        "      print('Saving Model')\n",
        "      torch.save({\n",
        "          'epoch': epoch,\n",
        "          'model_state_dict': model.state_dict(),\n",
        "          'optimizer_state_dict': optimizer.state_dict(),\n",
        "          'val_loss': loss_valid,\n",
        "          'val_acc':acc_valid,\n",
        "          'train_acc':acc_train,\n",
        "          'loss_acc':loss_train,\n",
        "          },str(paths))\n",
        "\n",
        "print(\"Time Elapsed : {:.4f}s\".format(time.time() - start_time))\n",
        "#dba0dc08380296feb5c72e311f343c622485c0ac"
      ],
      "execution_count": null,
      "outputs": [
        {
          "output_type": "display_data",
          "data": {
            "text/plain": [
              "<IPython.core.display.HTML object>"
            ],
            "text/html": [
              "Finishing last run (ID:86ik3axh) before initializing another..."
            ]
          },
          "metadata": {
            "tags": []
          }
        },
        {
          "output_type": "display_data",
          "data": {
            "text/plain": [
              "<IPython.core.display.HTML object>"
            ],
            "text/html": [
              "<br/>Waiting for W&B process to finish, PID 2916<br/>Program ended successfully."
            ]
          },
          "metadata": {
            "tags": []
          }
        },
        {
          "output_type": "display_data",
          "data": {
            "text/plain": [
              "VBox(children=(Label(value=' 0.00MB of 0.00MB uploaded (0.00MB deduped)\\r'), FloatProgress(value=1.0, max=1.0)…"
            ],
            "application/vnd.jupyter.widget-view+json": {
              "version_major": 2,
              "version_minor": 0,
              "model_id": ""
            }
          },
          "metadata": {
            "tags": []
          }
        },
        {
          "output_type": "display_data",
          "data": {
            "text/plain": [
              "<IPython.core.display.HTML object>"
            ],
            "text/html": [
              "Find user logs for this run at: <code>/kaggle/working/wandb/run-20210601_133821-86ik3axh/logs/debug.log</code>"
            ]
          },
          "metadata": {
            "tags": []
          }
        },
        {
          "output_type": "display_data",
          "data": {
            "text/plain": [
              "<IPython.core.display.HTML object>"
            ],
            "text/html": [
              "Find internal logs for this run at: <code>/kaggle/working/wandb/run-20210601_133821-86ik3axh/logs/debug-internal.log</code>"
            ]
          },
          "metadata": {
            "tags": []
          }
        },
        {
          "output_type": "display_data",
          "data": {
            "text/plain": [
              "<IPython.core.display.HTML object>"
            ],
            "text/html": [
              "<h3>Run summary:</h3><br/><style>\n",
              "    table.wandb td:nth-child(1) { padding: 0 10px; text-align: right }\n",
              "    </style><table class=\"wandb\">\n",
              "<tr><td>Epoch</td><td>5</td></tr><tr><td>Train Loss</td><td>0.00634</td></tr><tr><td>Train Acc</td><td>99.91319</td></tr><tr><td>Test Loss</td><td>0.08407</td></tr><tr><td>Test Acc</td><td>97.24385</td></tr><tr><td>_runtime</td><td>314</td></tr><tr><td>_timestamp</td><td>1622555017</td></tr><tr><td>_step</td><td>4</td></tr></table>"
            ]
          },
          "metadata": {
            "tags": []
          }
        },
        {
          "output_type": "display_data",
          "data": {
            "text/plain": [
              "<IPython.core.display.HTML object>"
            ],
            "text/html": [
              "<h3>Run history:</h3><br/><style>\n",
              "    table.wandb td:nth-child(1) { padding: 0 10px; text-align: right }\n",
              "    </style><table class=\"wandb\">\n",
              "<tr><td>Epoch</td><td>▁▃▅▆█</td></tr><tr><td>Train Loss</td><td>█▂▁▇▁</td></tr><tr><td>Train Acc</td><td>▅██▁▇</td></tr><tr><td>Test Loss</td><td>█▃▇▃▁</td></tr><tr><td>Test Acc</td><td>▁▆▁▇█</td></tr><tr><td>_runtime</td><td>▁▃▅▆█</td></tr><tr><td>_timestamp</td><td>▁▃▅▆█</td></tr><tr><td>_step</td><td>▁▃▅▆█</td></tr></table><br/>"
            ]
          },
          "metadata": {
            "tags": []
          }
        },
        {
          "output_type": "display_data",
          "data": {
            "text/plain": [
              "<IPython.core.display.HTML object>"
            ],
            "text/html": [
              "Synced 5 W&B file(s), 0 media file(s), 0 artifact file(s) and 0 other file(s)"
            ]
          },
          "metadata": {
            "tags": []
          }
        },
        {
          "output_type": "display_data",
          "data": {
            "text/plain": [
              "<IPython.core.display.HTML object>"
            ],
            "text/html": [
              "\n",
              "                    <br/>Synced <strong style=\"color:#cdcd00\">25_SN1_Densenet161</strong>: <a href=\"https://wandb.ai/creganstark/25_SN/runs/86ik3axh\" target=\"_blank\">https://wandb.ai/creganstark/25_SN/runs/86ik3axh</a><br/>\n",
              "                "
            ]
          },
          "metadata": {
            "tags": []
          }
        },
        {
          "output_type": "display_data",
          "data": {
            "text/plain": [
              "<IPython.core.display.HTML object>"
            ],
            "text/html": [
              "...Successfully finished last run (ID:86ik3axh). Initializing new run:<br/><br/>"
            ]
          },
          "metadata": {
            "tags": []
          }
        },
        {
          "output_type": "stream",
          "text": [
            "\u001b[34m\u001b[1mwandb\u001b[0m: wandb version 0.10.31 is available!  To upgrade, please run:\n",
            "\u001b[34m\u001b[1mwandb\u001b[0m:  $ pip install wandb --upgrade\n"
          ],
          "name": "stderr"
        },
        {
          "output_type": "display_data",
          "data": {
            "text/plain": [
              "<IPython.core.display.HTML object>"
            ],
            "text/html": [
              "\n",
              "                Tracking run with wandb version 0.10.26<br/>\n",
              "                Syncing run <strong style=\"color:#cdcd00\">25_SN1_Densenet161</strong> to <a href=\"https://wandb.ai\" target=\"_blank\">Weights & Biases</a> <a href=\"https://docs.wandb.com/integrations/jupyter.html\" target=\"_blank\">(Documentation)</a>.<br/>\n",
              "                Project page: <a href=\"https://wandb.ai/creganstark/25_SN\" target=\"_blank\">https://wandb.ai/creganstark/25_SN</a><br/>\n",
              "                Run page: <a href=\"https://wandb.ai/creganstark/25_SN/runs/ylk3s0sa\" target=\"_blank\">https://wandb.ai/creganstark/25_SN/runs/ylk3s0sa</a><br/>\n",
              "                Run data is saved locally in <code>/kaggle/working/wandb/run-20210601_134415-ylk3s0sa</code><br/><br/>\n",
              "            "
            ]
          },
          "metadata": {
            "tags": []
          }
        },
        {
          "output_type": "display_data",
          "data": {
            "text/plain": [
              "  0%|          | 0/36 [00:00<?, ?it/s]"
            ],
            "application/vnd.jupyter.widget-view+json": {
              "version_major": 2,
              "version_minor": 0,
              "model_id": "7141890ebd4d4eb98c9eb2113d81700e"
            }
          },
          "metadata": {
            "tags": []
          }
        },
        {
          "output_type": "display_data",
          "data": {
            "text/plain": [
              "  0%|          | 0/12 [00:00<?, ?it/s]"
            ],
            "application/vnd.jupyter.widget-view+json": {
              "version_major": 2,
              "version_minor": 0,
              "model_id": "efaec6fe8d8848bd9da4da23a2fd049c"
            }
          },
          "metadata": {
            "tags": []
          }
        },
        {
          "output_type": "display_data",
          "data": {
            "text/plain": [
              "  0%|          | 0/190 [00:00<?, ?it/s]"
            ],
            "application/vnd.jupyter.widget-view+json": {
              "version_major": 2,
              "version_minor": 0,
              "model_id": "789a027ec3b14f8e962da8f17be2a1ba"
            }
          },
          "metadata": {
            "tags": []
          }
        },
        {
          "output_type": "stream",
          "text": [
            "Epoch: 1  Train Loss: 0.0070  Train Acc: 99.8332  Valid Loss: 0.0044  Valid Acc: 99.9349 Test Loss: 0.0872  Test Acc: 97.1575 \n",
            "Saving Model\n"
          ],
          "name": "stdout"
        },
        {
          "output_type": "display_data",
          "data": {
            "text/plain": [
              "  0%|          | 0/36 [00:00<?, ?it/s]"
            ],
            "application/vnd.jupyter.widget-view+json": {
              "version_major": 2,
              "version_minor": 0,
              "model_id": "a0a9b1d6f3394c98b453513d0cea0cc0"
            }
          },
          "metadata": {
            "tags": []
          }
        },
        {
          "output_type": "display_data",
          "data": {
            "text/plain": [
              "  0%|          | 0/12 [00:00<?, ?it/s]"
            ],
            "application/vnd.jupyter.widget-view+json": {
              "version_major": 2,
              "version_minor": 0,
              "model_id": "8890c977cd2c4fb89b14611eabb6aff7"
            }
          },
          "metadata": {
            "tags": []
          }
        },
        {
          "output_type": "display_data",
          "data": {
            "text/plain": [
              "  0%|          | 0/190 [00:00<?, ?it/s]"
            ],
            "application/vnd.jupyter.widget-view+json": {
              "version_major": 2,
              "version_minor": 0,
              "model_id": "4e3c8221b3d54d9c8352071fa81df2bc"
            }
          },
          "metadata": {
            "tags": []
          }
        },
        {
          "output_type": "stream",
          "text": [
            "Epoch: 2  Train Loss: 0.0071  Train Acc: 99.8264  Valid Loss: 0.0033  Valid Acc: 100.0000 Test Loss: 0.0878  Test Acc: 97.1657 \n",
            "Saving Model\n"
          ],
          "name": "stdout"
        },
        {
          "output_type": "display_data",
          "data": {
            "text/plain": [
              "  0%|          | 0/36 [00:00<?, ?it/s]"
            ],
            "application/vnd.jupyter.widget-view+json": {
              "version_major": 2,
              "version_minor": 0,
              "model_id": "adaaff264f93454fbb9a2055a59b007e"
            }
          },
          "metadata": {
            "tags": []
          }
        },
        {
          "output_type": "display_data",
          "data": {
            "text/plain": [
              "  0%|          | 0/12 [00:00<?, ?it/s]"
            ],
            "application/vnd.jupyter.widget-view+json": {
              "version_major": 2,
              "version_minor": 0,
              "model_id": "bd7f5bcb150d4e8f9599ca39a29a8276"
            }
          },
          "metadata": {
            "tags": []
          }
        },
        {
          "output_type": "display_data",
          "data": {
            "text/plain": [
              "  0%|          | 0/190 [00:00<?, ?it/s]"
            ],
            "application/vnd.jupyter.widget-view+json": {
              "version_major": 2,
              "version_minor": 0,
              "model_id": "4eb415a9f2a64866993cd14fd233ac64"
            }
          },
          "metadata": {
            "tags": []
          }
        },
        {
          "output_type": "stream",
          "text": [
            "Epoch: 3  Train Loss: 0.0061  Train Acc: 99.9200  Valid Loss: 0.0049  Valid Acc: 99.8698 Test Loss: 0.0864  Test Acc: 97.2192 \n",
            "Saving Model\n"
          ],
          "name": "stdout"
        },
        {
          "output_type": "display_data",
          "data": {
            "text/plain": [
              "  0%|          | 0/36 [00:00<?, ?it/s]"
            ],
            "application/vnd.jupyter.widget-view+json": {
              "version_major": 2,
              "version_minor": 0,
              "model_id": "93acc9dd775645ca8a5514ecda14a478"
            }
          },
          "metadata": {
            "tags": []
          }
        },
        {
          "output_type": "display_data",
          "data": {
            "text/plain": [
              "  0%|          | 0/12 [00:00<?, ?it/s]"
            ],
            "application/vnd.jupyter.widget-view+json": {
              "version_major": 2,
              "version_minor": 0,
              "model_id": "faf0d2ddf6c44b2aa94340b8e9daf41f"
            }
          },
          "metadata": {
            "tags": []
          }
        },
        {
          "output_type": "display_data",
          "data": {
            "text/plain": [
              "  0%|          | 0/190 [00:00<?, ?it/s]"
            ],
            "application/vnd.jupyter.widget-view+json": {
              "version_major": 2,
              "version_minor": 0,
              "model_id": "04e25c288a1c481b89a3a1b88ff368bf"
            }
          },
          "metadata": {
            "tags": []
          }
        },
        {
          "output_type": "stream",
          "text": [
            "Epoch: 4  Train Loss: 0.0061  Train Acc: 99.9566  Valid Loss: 0.0046  Valid Acc: 99.9349 Test Loss: 0.0827  Test Acc: 97.3335 \n",
            "Saving Model\n"
          ],
          "name": "stdout"
        },
        {
          "output_type": "display_data",
          "data": {
            "text/plain": [
              "  0%|          | 0/36 [00:00<?, ?it/s]"
            ],
            "application/vnd.jupyter.widget-view+json": {
              "version_major": 2,
              "version_minor": 0,
              "model_id": "77fa17d173e54395ac3cd14fd78298bf"
            }
          },
          "metadata": {
            "tags": []
          }
        },
        {
          "output_type": "display_data",
          "data": {
            "text/plain": [
              "  0%|          | 0/12 [00:00<?, ?it/s]"
            ],
            "application/vnd.jupyter.widget-view+json": {
              "version_major": 2,
              "version_minor": 0,
              "model_id": "db4a36d0c5ca4475aa2aae948bd0ad81"
            }
          },
          "metadata": {
            "tags": []
          }
        },
        {
          "output_type": "display_data",
          "data": {
            "text/plain": [
              "  0%|          | 0/190 [00:00<?, ?it/s]"
            ],
            "application/vnd.jupyter.widget-view+json": {
              "version_major": 2,
              "version_minor": 0,
              "model_id": "d422e73677894e478fad531ae9b99ad2"
            }
          },
          "metadata": {
            "tags": []
          }
        },
        {
          "output_type": "stream",
          "text": [
            "Epoch: 5  Train Loss: 0.0063  Train Acc: 99.8698  Valid Loss: 0.0025  Valid Acc: 100.0000 Test Loss: 0.0855  Test Acc: 97.2192 \n",
            "Time Elapsed : 312.4113s\n"
          ],
          "name": "stdout"
        }
      ]
    },
    {
      "cell_type": "code",
      "metadata": {
        "execution": {
          "iopub.status.busy": "2021-06-01T13:50:55.735089Z",
          "iopub.execute_input": "2021-06-01T13:50:55.735476Z",
          "iopub.status.idle": "2021-06-01T13:56:20.412647Z",
          "shell.execute_reply.started": "2021-06-01T13:50:55.735435Z",
          "shell.execute_reply": "2021-06-01T13:56:20.411612Z"
        },
        "trusted": true,
        "colab": {
          "referenced_widgets": [
            "",
            "8637ab8a48a64df8a2c3346b07538063",
            "1f6e639ce33c420da4e9a9fbfe910328",
            "ef0c6789862845ccb03e3199bc2d37b9",
            "7acdbd9579e3476385b27d78d194bfbd",
            "421d5f11de29418b95db5205fe82521a",
            "fafe083ed99e4c639d4f379e9383b2c3",
            "ae7accdc376b434295a1f53d9f719a54",
            "8cb62dfd50a24ba9b217cc2fe4b0a3d4",
            "4d090c6ca2124b3ea80fb7ba245a70a9",
            "61851f4fa9e54cca9f2f85a486eef529",
            "eb693eb7cc2a4ffaab12c1bf69c60ff9",
            "5031c92325bf4f2a81903771473215f8",
            "c780e7be577f4d918a5e15b810378673",
            "a9a476e05236486081ebb434d3498d2f",
            "3f968cde5c064865bf0c9ab623d02915"
          ]
        },
        "id": "liyKJzYT9ZMi",
        "outputId": "b555a328-8240-49ca-b850-7e576822614d"
      },
      "source": [
        "wandb.init(name='25_SN1_Densenet161',\n",
        "           project='25_SN',\n",
        "           notes='3 Channels with Augs,Sobel', \n",
        "           tags=['SGD','StepLR'],\n",
        "           entity='creganstark')\n",
        "\n",
        "# WandB Configurations (optional)        \n",
        "wandb.config.lr = 1e-4\n",
        "#model=model.float()\n",
        "model = model.to(device)\n",
        "criterion = nn.CrossEntropyLoss()\n",
        "optimizer = optim.SGD(model.parameters(),\n",
        "                      lr  =  1e-4,\n",
        "                      momentum     = 0.9,\n",
        "                      nesterov     = True,\n",
        "                      weight_decay = 1e-4)\n",
        "\n",
        "#scheduler = optim.lr_scheduler.CyclicLR(optimizer,base_lr=5e-5,max_lr=5e-4 ,step_size_up=2000)\n",
        "scheduler = optim.lr_scheduler.StepLR(optimizer,step_size=9,gamma=0.5)\n",
        "# Log the network weight histograms (optional)\n",
        "#wandb.watch(model)\n",
        "\n",
        "num_epochs = 5\n",
        "start_time = time.time()\n",
        "prev_acc=0\n",
        "for epoch in range(1, num_epochs+1):\n",
        "    \n",
        "    loss_train, acc_train = train(model, criterion, optimizer, trainloader)\n",
        "    loss_valid, acc_valid = validate(model, criterion, valloader)\n",
        "    loss_test, acc_test = inference(model,criterion,testloader)\n",
        "    scheduler.step()\n",
        "    \n",
        "    print('Epoch: {}  Train Loss: {:.4f}  Train Acc: {:.4f}  Valid Loss: {:.4f}  Valid Acc: {:.4f} Test Loss: {:.4f}  Test Acc: {:.4f} '.format(epoch, loss_train, acc_train, loss_valid, acc_valid, loss_test, acc_test))\n",
        "\n",
        "    #Log the loss and accuracy values at the end of each epoch\n",
        "    wandb.log({\n",
        "        \"Epoch\": epoch,\n",
        "        \"Train Loss\": loss_train,\n",
        "        \"Train Acc\": acc_train,\n",
        "        \"Test Loss\": loss_test,\n",
        "        \"Test Acc\": acc_test})\n",
        "    if acc_test>prev_acc:\n",
        "      prev_acc=acc_test\n",
        "      acc_test=str(acc_test)\n",
        "      paths = \"test\"+acc_test[:7]+\".pt\"\n",
        "      print('Saving Model')\n",
        "      torch.save({\n",
        "          'epoch': epoch,\n",
        "          'model_state_dict': model.state_dict(),\n",
        "          'optimizer_state_dict': optimizer.state_dict(),\n",
        "          'val_loss': loss_valid,\n",
        "          'val_acc':acc_valid,\n",
        "          'train_acc':acc_train,\n",
        "          'loss_acc':loss_train,\n",
        "          },str(paths))\n",
        "\n",
        "print(\"Time Elapsed : {:.4f}s\".format(time.time() - start_time))\n",
        "#dba0dc08380296feb5c72e311f343c622485c0ac"
      ],
      "execution_count": null,
      "outputs": [
        {
          "output_type": "display_data",
          "data": {
            "text/plain": [
              "<IPython.core.display.HTML object>"
            ],
            "text/html": [
              "Finishing last run (ID:ylk3s0sa) before initializing another..."
            ]
          },
          "metadata": {
            "tags": []
          }
        },
        {
          "output_type": "display_data",
          "data": {
            "text/plain": [
              "<IPython.core.display.HTML object>"
            ],
            "text/html": [
              "<br/>Waiting for W&B process to finish, PID 3413<br/>Program ended successfully."
            ]
          },
          "metadata": {
            "tags": []
          }
        },
        {
          "output_type": "display_data",
          "data": {
            "text/plain": [
              "VBox(children=(Label(value=' 0.00MB of 0.00MB uploaded (0.00MB deduped)\\r'), FloatProgress(value=1.0, max=1.0)…"
            ],
            "application/vnd.jupyter.widget-view+json": {
              "version_major": 2,
              "version_minor": 0,
              "model_id": ""
            }
          },
          "metadata": {
            "tags": []
          }
        },
        {
          "output_type": "display_data",
          "data": {
            "text/plain": [
              "<IPython.core.display.HTML object>"
            ],
            "text/html": [
              "Find user logs for this run at: <code>/kaggle/working/wandb/run-20210601_134415-ylk3s0sa/logs/debug.log</code>"
            ]
          },
          "metadata": {
            "tags": []
          }
        },
        {
          "output_type": "display_data",
          "data": {
            "text/plain": [
              "<IPython.core.display.HTML object>"
            ],
            "text/html": [
              "Find internal logs for this run at: <code>/kaggle/working/wandb/run-20210601_134415-ylk3s0sa/logs/debug-internal.log</code>"
            ]
          },
          "metadata": {
            "tags": []
          }
        },
        {
          "output_type": "display_data",
          "data": {
            "text/plain": [
              "<IPython.core.display.HTML object>"
            ],
            "text/html": [
              "<h3>Run summary:</h3><br/><style>\n",
              "    table.wandb td:nth-child(1) { padding: 0 10px; text-align: right }\n",
              "    </style><table class=\"wandb\">\n",
              "<tr><td>Epoch</td><td>5</td></tr><tr><td>Train Loss</td><td>0.00632</td></tr><tr><td>Train Acc</td><td>99.86979</td></tr><tr><td>Test Loss</td><td>0.08552</td></tr><tr><td>Test Acc</td><td>97.21918</td></tr><tr><td>_runtime</td><td>316</td></tr><tr><td>_timestamp</td><td>1622555374</td></tr><tr><td>_step</td><td>4</td></tr></table>"
            ]
          },
          "metadata": {
            "tags": []
          }
        },
        {
          "output_type": "display_data",
          "data": {
            "text/plain": [
              "<IPython.core.display.HTML object>"
            ],
            "text/html": [
              "<h3>Run history:</h3><br/><style>\n",
              "    table.wandb td:nth-child(1) { padding: 0 10px; text-align: right }\n",
              "    </style><table class=\"wandb\">\n",
              "<tr><td>Epoch</td><td>▁▃▅▆█</td></tr><tr><td>Train Loss</td><td>██▁▁▂</td></tr><tr><td>Train Acc</td><td>▁▁▆█▃</td></tr><tr><td>Test Loss</td><td>▇█▆▁▅</td></tr><tr><td>Test Acc</td><td>▁▁▃█▃</td></tr><tr><td>_runtime</td><td>▁▃▄▆█</td></tr><tr><td>_timestamp</td><td>▁▃▄▆█</td></tr><tr><td>_step</td><td>▁▃▅▆█</td></tr></table><br/>"
            ]
          },
          "metadata": {
            "tags": []
          }
        },
        {
          "output_type": "display_data",
          "data": {
            "text/plain": [
              "<IPython.core.display.HTML object>"
            ],
            "text/html": [
              "Synced 5 W&B file(s), 0 media file(s), 0 artifact file(s) and 0 other file(s)"
            ]
          },
          "metadata": {
            "tags": []
          }
        },
        {
          "output_type": "display_data",
          "data": {
            "text/plain": [
              "<IPython.core.display.HTML object>"
            ],
            "text/html": [
              "\n",
              "                    <br/>Synced <strong style=\"color:#cdcd00\">25_SN1_Densenet161</strong>: <a href=\"https://wandb.ai/creganstark/25_SN/runs/ylk3s0sa\" target=\"_blank\">https://wandb.ai/creganstark/25_SN/runs/ylk3s0sa</a><br/>\n",
              "                "
            ]
          },
          "metadata": {
            "tags": []
          }
        },
        {
          "output_type": "display_data",
          "data": {
            "text/plain": [
              "<IPython.core.display.HTML object>"
            ],
            "text/html": [
              "...Successfully finished last run (ID:ylk3s0sa). Initializing new run:<br/><br/>"
            ]
          },
          "metadata": {
            "tags": []
          }
        },
        {
          "output_type": "stream",
          "text": [
            "\u001b[34m\u001b[1mwandb\u001b[0m: wandb version 0.10.31 is available!  To upgrade, please run:\n",
            "\u001b[34m\u001b[1mwandb\u001b[0m:  $ pip install wandb --upgrade\n"
          ],
          "name": "stderr"
        },
        {
          "output_type": "display_data",
          "data": {
            "text/plain": [
              "<IPython.core.display.HTML object>"
            ],
            "text/html": [
              "\n",
              "                Tracking run with wandb version 0.10.26<br/>\n",
              "                Syncing run <strong style=\"color:#cdcd00\">25_SN1_Densenet161</strong> to <a href=\"https://wandb.ai\" target=\"_blank\">Weights & Biases</a> <a href=\"https://docs.wandb.com/integrations/jupyter.html\" target=\"_blank\">(Documentation)</a>.<br/>\n",
              "                Project page: <a href=\"https://wandb.ai/creganstark/25_SN\" target=\"_blank\">https://wandb.ai/creganstark/25_SN</a><br/>\n",
              "                Run page: <a href=\"https://wandb.ai/creganstark/25_SN/runs/vk3wd5p7\" target=\"_blank\">https://wandb.ai/creganstark/25_SN/runs/vk3wd5p7</a><br/>\n",
              "                Run data is saved locally in <code>/kaggle/working/wandb/run-20210601_135055-vk3wd5p7</code><br/><br/>\n",
              "            "
            ]
          },
          "metadata": {
            "tags": []
          }
        },
        {
          "output_type": "display_data",
          "data": {
            "text/plain": [
              "  0%|          | 0/36 [00:00<?, ?it/s]"
            ],
            "application/vnd.jupyter.widget-view+json": {
              "version_major": 2,
              "version_minor": 0,
              "model_id": "8637ab8a48a64df8a2c3346b07538063"
            }
          },
          "metadata": {
            "tags": []
          }
        },
        {
          "output_type": "display_data",
          "data": {
            "text/plain": [
              "  0%|          | 0/12 [00:00<?, ?it/s]"
            ],
            "application/vnd.jupyter.widget-view+json": {
              "version_major": 2,
              "version_minor": 0,
              "model_id": "1f6e639ce33c420da4e9a9fbfe910328"
            }
          },
          "metadata": {
            "tags": []
          }
        },
        {
          "output_type": "display_data",
          "data": {
            "text/plain": [
              "  0%|          | 0/190 [00:00<?, ?it/s]"
            ],
            "application/vnd.jupyter.widget-view+json": {
              "version_major": 2,
              "version_minor": 0,
              "model_id": "ef0c6789862845ccb03e3199bc2d37b9"
            }
          },
          "metadata": {
            "tags": []
          }
        },
        {
          "output_type": "stream",
          "text": [
            "Epoch: 1  Train Loss: 0.0067  Train Acc: 99.8915  Valid Loss: 0.0038  Valid Acc: 99.8698 Test Loss: 0.0875  Test Acc: 97.1246 \n",
            "Saving Model\n"
          ],
          "name": "stdout"
        },
        {
          "output_type": "display_data",
          "data": {
            "text/plain": [
              "  0%|          | 0/36 [00:00<?, ?it/s]"
            ],
            "application/vnd.jupyter.widget-view+json": {
              "version_major": 2,
              "version_minor": 0,
              "model_id": "7acdbd9579e3476385b27d78d194bfbd"
            }
          },
          "metadata": {
            "tags": []
          }
        },
        {
          "output_type": "display_data",
          "data": {
            "text/plain": [
              "  0%|          | 0/12 [00:00<?, ?it/s]"
            ],
            "application/vnd.jupyter.widget-view+json": {
              "version_major": 2,
              "version_minor": 0,
              "model_id": "421d5f11de29418b95db5205fe82521a"
            }
          },
          "metadata": {
            "tags": []
          }
        },
        {
          "output_type": "display_data",
          "data": {
            "text/plain": [
              "  0%|          | 0/190 [00:00<?, ?it/s]"
            ],
            "application/vnd.jupyter.widget-view+json": {
              "version_major": 2,
              "version_minor": 0,
              "model_id": "fafe083ed99e4c639d4f379e9383b2c3"
            }
          },
          "metadata": {
            "tags": []
          }
        },
        {
          "output_type": "stream",
          "text": [
            "Epoch: 2  Train Loss: 0.0058  Train Acc: 99.9349  Valid Loss: 0.0052  Valid Acc: 99.8047 Test Loss: 0.0847  Test Acc: 97.2464 \n",
            "Saving Model\n"
          ],
          "name": "stdout"
        },
        {
          "output_type": "display_data",
          "data": {
            "text/plain": [
              "  0%|          | 0/36 [00:00<?, ?it/s]"
            ],
            "application/vnd.jupyter.widget-view+json": {
              "version_major": 2,
              "version_minor": 0,
              "model_id": "ae7accdc376b434295a1f53d9f719a54"
            }
          },
          "metadata": {
            "tags": []
          }
        },
        {
          "output_type": "display_data",
          "data": {
            "text/plain": [
              "  0%|          | 0/12 [00:00<?, ?it/s]"
            ],
            "application/vnd.jupyter.widget-view+json": {
              "version_major": 2,
              "version_minor": 0,
              "model_id": "8cb62dfd50a24ba9b217cc2fe4b0a3d4"
            }
          },
          "metadata": {
            "tags": []
          }
        },
        {
          "output_type": "display_data",
          "data": {
            "text/plain": [
              "  0%|          | 0/190 [00:00<?, ?it/s]"
            ],
            "application/vnd.jupyter.widget-view+json": {
              "version_major": 2,
              "version_minor": 0,
              "model_id": "4d090c6ca2124b3ea80fb7ba245a70a9"
            }
          },
          "metadata": {
            "tags": []
          }
        },
        {
          "output_type": "stream",
          "text": [
            "Epoch: 3  Train Loss: 0.0050  Train Acc: 99.9566  Valid Loss: 0.0029  Valid Acc: 100.0000 Test Loss: 0.0858  Test Acc: 97.1190 \n"
          ],
          "name": "stdout"
        },
        {
          "output_type": "display_data",
          "data": {
            "text/plain": [
              "  0%|          | 0/36 [00:00<?, ?it/s]"
            ],
            "application/vnd.jupyter.widget-view+json": {
              "version_major": 2,
              "version_minor": 0,
              "model_id": "61851f4fa9e54cca9f2f85a486eef529"
            }
          },
          "metadata": {
            "tags": []
          }
        },
        {
          "output_type": "display_data",
          "data": {
            "text/plain": [
              "  0%|          | 0/12 [00:00<?, ?it/s]"
            ],
            "application/vnd.jupyter.widget-view+json": {
              "version_major": 2,
              "version_minor": 0,
              "model_id": "eb693eb7cc2a4ffaab12c1bf69c60ff9"
            }
          },
          "metadata": {
            "tags": []
          }
        },
        {
          "output_type": "display_data",
          "data": {
            "text/plain": [
              "  0%|          | 0/190 [00:00<?, ?it/s]"
            ],
            "application/vnd.jupyter.widget-view+json": {
              "version_major": 2,
              "version_minor": 0,
              "model_id": "5031c92325bf4f2a81903771473215f8"
            }
          },
          "metadata": {
            "tags": []
          }
        },
        {
          "output_type": "stream",
          "text": [
            "Epoch: 4  Train Loss: 0.0050  Train Acc: 99.9349  Valid Loss: 0.0030  Valid Acc: 100.0000 Test Loss: 0.0828  Test Acc: 97.3261 \n",
            "Saving Model\n"
          ],
          "name": "stdout"
        },
        {
          "output_type": "display_data",
          "data": {
            "text/plain": [
              "  0%|          | 0/36 [00:00<?, ?it/s]"
            ],
            "application/vnd.jupyter.widget-view+json": {
              "version_major": 2,
              "version_minor": 0,
              "model_id": "c780e7be577f4d918a5e15b810378673"
            }
          },
          "metadata": {
            "tags": []
          }
        },
        {
          "output_type": "display_data",
          "data": {
            "text/plain": [
              "  0%|          | 0/12 [00:00<?, ?it/s]"
            ],
            "application/vnd.jupyter.widget-view+json": {
              "version_major": 2,
              "version_minor": 0,
              "model_id": "a9a476e05236486081ebb434d3498d2f"
            }
          },
          "metadata": {
            "tags": []
          }
        },
        {
          "output_type": "display_data",
          "data": {
            "text/plain": [
              "  0%|          | 0/190 [00:00<?, ?it/s]"
            ],
            "application/vnd.jupyter.widget-view+json": {
              "version_major": 2,
              "version_minor": 0,
              "model_id": "3f968cde5c064865bf0c9ab623d02915"
            }
          },
          "metadata": {
            "tags": []
          }
        },
        {
          "output_type": "stream",
          "text": [
            "Epoch: 5  Train Loss: 0.0069  Train Acc: 99.8915  Valid Loss: 0.0039  Valid Acc: 99.9349 Test Loss: 0.0845  Test Acc: 97.2603 \n",
            "Time Elapsed : 318.9659s\n"
          ],
          "name": "stdout"
        }
      ]
    },
    {
      "cell_type": "code",
      "metadata": {
        "execution": {
          "iopub.status.busy": "2021-06-01T14:04:31.224204Z",
          "iopub.execute_input": "2021-06-01T14:04:31.224583Z",
          "iopub.status.idle": "2021-06-01T14:11:00.650653Z",
          "shell.execute_reply.started": "2021-06-01T14:04:31.224544Z",
          "shell.execute_reply": "2021-06-01T14:11:00.648937Z"
        },
        "trusted": true,
        "colab": {
          "referenced_widgets": [
            "cede96627d0e475883d5397944e12334",
            "22f425004e4344bca1d6da344a2c9252",
            "c5019bcdc8754289bcdf91a020803000",
            "793ad22dc36642a28e43a1d9c7f0001b",
            "28b7d1ed672e4895ba75620370916627",
            "08f12f7e940c43a8a6d8921ba85ae835",
            "4920f23306a44dc6b4a82b85e92d59f8",
            "70c42280ce714e9d9dfe56d4bf7651b6",
            "3bb90702a8b54a3b8cd1438b19833d60",
            "96b308478a1d467c97a3486384df26ef",
            "41d560d2081f431f9c27a09b5a828049",
            "c125a4f0c8034556aebeecccde6e0478",
            "f59019ea0bf843d1b342d99e6b980fb4",
            "7d672129f1f0445fbdf71f60f0fe3cd5",
            "062fa95d15a24c848f95cb7db32c2795",
            "cb35c654b74f4ef4a01410a9987e8bfd",
            "e2e8dd90a6814e6991465e575f21ab08",
            "2225286509bc40d1bc60411561c1f476"
          ]
        },
        "id": "8zBupw3u9ZMi",
        "outputId": "39d0465d-c364-4ca8-9e8e-ba84a10d6a25"
      },
      "source": [
        "wandb.init(name='25_SN1_Densenet161',\n",
        "           project='25_SN',\n",
        "           notes='3 Channels with Augs,Sobel', \n",
        "           tags=['SGD','StepLR'],\n",
        "           entity='creganstark')\n",
        "\n",
        "# WandB Configurations (optional)        \n",
        "wandb.config.lr = 1e-4\n",
        "#model=model.float()\n",
        "model = model.to(device)\n",
        "criterion = nn.CrossEntropyLoss()\n",
        "optimizer = optim.SGD(model.parameters(),\n",
        "                      lr  =  1e-5,\n",
        "                      momentum     = 0.9,\n",
        "                      nesterov     = True,\n",
        "                      weight_decay = 1e-4)\n",
        "\n",
        "#scheduler = optim.lr_scheduler.CyclicLR(optimizer,base_lr=5e-5,max_lr=5e-4 ,step_size_up=2000)\n",
        "scheduler = optim.lr_scheduler.StepLR(optimizer,step_size=9,gamma=0.5)\n",
        "# Log the network weight histograms (optional)\n",
        "#wandb.watch(model)\n",
        "\n",
        "num_epochs = 6\n",
        "start_time = time.time()\n",
        "prev_acc=0\n",
        "for epoch in range(1, num_epochs+1):\n",
        "    \n",
        "    loss_train, acc_train = train(model, criterion, optimizer, trainloader)\n",
        "    loss_valid, acc_valid = validate(model, criterion, valloader)\n",
        "    loss_test, acc_test = inference(model,criterion,testloader)\n",
        "    scheduler.step()\n",
        "    \n",
        "    print('Epoch: {}  Train Loss: {:.4f}  Train Acc: {:.4f}  Valid Loss: {:.4f}  Valid Acc: {:.4f} Test Loss: {:.4f}  Test Acc: {:.4f} '.format(epoch, loss_train, acc_train, loss_valid, acc_valid, loss_test, acc_test))\n",
        "\n",
        "    #Log the loss and accuracy values at the end of each epoch\n",
        "    wandb.log({\n",
        "        \"Epoch\": epoch,\n",
        "        \"Train Loss\": loss_train,\n",
        "        \"Train Acc\": acc_train,\n",
        "        \"Test Loss\": loss_test,\n",
        "        \"Test Acc\": acc_test})\n",
        "    if acc_test>prev_acc:\n",
        "      prev_acc=acc_test\n",
        "      acc_test=str(acc_test)\n",
        "      paths = \"test\"+acc_test[:7]+\".pt\"\n",
        "      print('Saving Model')\n",
        "      torch.save({\n",
        "          'epoch': epoch,\n",
        "          'model_state_dict': model.state_dict(),\n",
        "          'optimizer_state_dict': optimizer.state_dict(),\n",
        "          'val_loss': loss_valid,\n",
        "          'val_acc':acc_valid,\n",
        "          'train_acc':acc_train,\n",
        "          'loss_acc':loss_train,\n",
        "          },str(paths))\n",
        "\n",
        "print(\"Time Elapsed : {:.4f}s\".format(time.time() - start_time))\n",
        "#dba0dc08380296feb5c72e311f343c622485c0ac"
      ],
      "execution_count": null,
      "outputs": [
        {
          "output_type": "stream",
          "text": [
            "\u001b[34m\u001b[1mwandb\u001b[0m: Currently logged in as: \u001b[33mcreganstark\u001b[0m (use `wandb login --relogin` to force relogin)\n",
            "\u001b[34m\u001b[1mwandb\u001b[0m: wandb version 0.10.31 is available!  To upgrade, please run:\n",
            "\u001b[34m\u001b[1mwandb\u001b[0m:  $ pip install wandb --upgrade\n"
          ],
          "name": "stderr"
        },
        {
          "output_type": "display_data",
          "data": {
            "text/plain": [
              "<IPython.core.display.HTML object>"
            ],
            "text/html": [
              "\n",
              "                Tracking run with wandb version 0.10.26<br/>\n",
              "                Syncing run <strong style=\"color:#cdcd00\">25_SN1_Densenet161</strong> to <a href=\"https://wandb.ai\" target=\"_blank\">Weights & Biases</a> <a href=\"https://docs.wandb.com/integrations/jupyter.html\" target=\"_blank\">(Documentation)</a>.<br/>\n",
              "                Project page: <a href=\"https://wandb.ai/creganstark/25_SN\" target=\"_blank\">https://wandb.ai/creganstark/25_SN</a><br/>\n",
              "                Run page: <a href=\"https://wandb.ai/creganstark/25_SN/runs/vrvnj9pc\" target=\"_blank\">https://wandb.ai/creganstark/25_SN/runs/vrvnj9pc</a><br/>\n",
              "                Run data is saved locally in <code>/kaggle/working/wandb/run-20210601_140431-vrvnj9pc</code><br/><br/>\n",
              "            "
            ]
          },
          "metadata": {
            "tags": []
          }
        },
        {
          "output_type": "display_data",
          "data": {
            "text/plain": [
              "  0%|          | 0/36 [00:00<?, ?it/s]"
            ],
            "application/vnd.jupyter.widget-view+json": {
              "version_major": 2,
              "version_minor": 0,
              "model_id": "cede96627d0e475883d5397944e12334"
            }
          },
          "metadata": {
            "tags": []
          }
        },
        {
          "output_type": "display_data",
          "data": {
            "text/plain": [
              "  0%|          | 0/12 [00:00<?, ?it/s]"
            ],
            "application/vnd.jupyter.widget-view+json": {
              "version_major": 2,
              "version_minor": 0,
              "model_id": "22f425004e4344bca1d6da344a2c9252"
            }
          },
          "metadata": {
            "tags": []
          }
        },
        {
          "output_type": "display_data",
          "data": {
            "text/plain": [
              "  0%|          | 0/190 [00:00<?, ?it/s]"
            ],
            "application/vnd.jupyter.widget-view+json": {
              "version_major": 2,
              "version_minor": 0,
              "model_id": "c5019bcdc8754289bcdf91a020803000"
            }
          },
          "metadata": {
            "tags": []
          }
        },
        {
          "output_type": "stream",
          "text": [
            "Epoch: 1  Train Loss: 0.0054  Train Acc: 99.9132  Valid Loss: 0.0050  Valid Acc: 99.8698 Test Loss: 0.0867  Test Acc: 97.0827 \n",
            "Saving Model\n"
          ],
          "name": "stdout"
        },
        {
          "output_type": "display_data",
          "data": {
            "text/plain": [
              "  0%|          | 0/36 [00:00<?, ?it/s]"
            ],
            "application/vnd.jupyter.widget-view+json": {
              "version_major": 2,
              "version_minor": 0,
              "model_id": "793ad22dc36642a28e43a1d9c7f0001b"
            }
          },
          "metadata": {
            "tags": []
          }
        },
        {
          "output_type": "display_data",
          "data": {
            "text/plain": [
              "  0%|          | 0/12 [00:00<?, ?it/s]"
            ],
            "application/vnd.jupyter.widget-view+json": {
              "version_major": 2,
              "version_minor": 0,
              "model_id": "28b7d1ed672e4895ba75620370916627"
            }
          },
          "metadata": {
            "tags": []
          }
        },
        {
          "output_type": "display_data",
          "data": {
            "text/plain": [
              "  0%|          | 0/190 [00:00<?, ?it/s]"
            ],
            "application/vnd.jupyter.widget-view+json": {
              "version_major": 2,
              "version_minor": 0,
              "model_id": "08f12f7e940c43a8a6d8921ba85ae835"
            }
          },
          "metadata": {
            "tags": []
          }
        },
        {
          "output_type": "stream",
          "text": [
            "Epoch: 2  Train Loss: 0.0063  Train Acc: 99.8481  Valid Loss: 0.0039  Valid Acc: 100.0000 Test Loss: 0.0859  Test Acc: 97.1321 \n",
            "Saving Model\n"
          ],
          "name": "stdout"
        },
        {
          "output_type": "display_data",
          "data": {
            "text/plain": [
              "  0%|          | 0/36 [00:00<?, ?it/s]"
            ],
            "application/vnd.jupyter.widget-view+json": {
              "version_major": 2,
              "version_minor": 0,
              "model_id": "4920f23306a44dc6b4a82b85e92d59f8"
            }
          },
          "metadata": {
            "tags": []
          }
        },
        {
          "output_type": "display_data",
          "data": {
            "text/plain": [
              "  0%|          | 0/12 [00:00<?, ?it/s]"
            ],
            "application/vnd.jupyter.widget-view+json": {
              "version_major": 2,
              "version_minor": 0,
              "model_id": "70c42280ce714e9d9dfe56d4bf7651b6"
            }
          },
          "metadata": {
            "tags": []
          }
        },
        {
          "output_type": "display_data",
          "data": {
            "text/plain": [
              "  0%|          | 0/190 [00:00<?, ?it/s]"
            ],
            "application/vnd.jupyter.widget-view+json": {
              "version_major": 2,
              "version_minor": 0,
              "model_id": "3bb90702a8b54a3b8cd1438b19833d60"
            }
          },
          "metadata": {
            "tags": []
          }
        },
        {
          "output_type": "stream",
          "text": [
            "Epoch: 3  Train Loss: 0.0064  Train Acc: 99.8915  Valid Loss: 0.0044  Valid Acc: 99.9349 Test Loss: 0.0845  Test Acc: 97.1986 \n",
            "Saving Model\n"
          ],
          "name": "stdout"
        },
        {
          "output_type": "display_data",
          "data": {
            "text/plain": [
              "  0%|          | 0/36 [00:00<?, ?it/s]"
            ],
            "application/vnd.jupyter.widget-view+json": {
              "version_major": 2,
              "version_minor": 0,
              "model_id": "96b308478a1d467c97a3486384df26ef"
            }
          },
          "metadata": {
            "tags": []
          }
        },
        {
          "output_type": "display_data",
          "data": {
            "text/plain": [
              "  0%|          | 0/12 [00:00<?, ?it/s]"
            ],
            "application/vnd.jupyter.widget-view+json": {
              "version_major": 2,
              "version_minor": 0,
              "model_id": "41d560d2081f431f9c27a09b5a828049"
            }
          },
          "metadata": {
            "tags": []
          }
        },
        {
          "output_type": "display_data",
          "data": {
            "text/plain": [
              "  0%|          | 0/190 [00:00<?, ?it/s]"
            ],
            "application/vnd.jupyter.widget-view+json": {
              "version_major": 2,
              "version_minor": 0,
              "model_id": "c125a4f0c8034556aebeecccde6e0478"
            }
          },
          "metadata": {
            "tags": []
          }
        },
        {
          "output_type": "stream",
          "text": [
            "Epoch: 4  Train Loss: 0.0053  Train Acc: 99.9349  Valid Loss: 0.0049  Valid Acc: 99.7296 Test Loss: 0.0846  Test Acc: 97.2315 \n",
            "Saving Model\n"
          ],
          "name": "stdout"
        },
        {
          "output_type": "display_data",
          "data": {
            "text/plain": [
              "  0%|          | 0/36 [00:00<?, ?it/s]"
            ],
            "application/vnd.jupyter.widget-view+json": {
              "version_major": 2,
              "version_minor": 0,
              "model_id": "f59019ea0bf843d1b342d99e6b980fb4"
            }
          },
          "metadata": {
            "tags": []
          }
        },
        {
          "output_type": "display_data",
          "data": {
            "text/plain": [
              "  0%|          | 0/12 [00:00<?, ?it/s]"
            ],
            "application/vnd.jupyter.widget-view+json": {
              "version_major": 2,
              "version_minor": 0,
              "model_id": "7d672129f1f0445fbdf71f60f0fe3cd5"
            }
          },
          "metadata": {
            "tags": []
          }
        },
        {
          "output_type": "display_data",
          "data": {
            "text/plain": [
              "  0%|          | 0/190 [00:00<?, ?it/s]"
            ],
            "application/vnd.jupyter.widget-view+json": {
              "version_major": 2,
              "version_minor": 0,
              "model_id": "062fa95d15a24c848f95cb7db32c2795"
            }
          },
          "metadata": {
            "tags": []
          }
        },
        {
          "output_type": "stream",
          "text": [
            "Epoch: 5  Train Loss: 0.0055  Train Acc: 99.9566  Valid Loss: 0.0035  Valid Acc: 100.0000 Test Loss: 0.0868  Test Acc: 97.1074 \n"
          ],
          "name": "stdout"
        },
        {
          "output_type": "display_data",
          "data": {
            "text/plain": [
              "  0%|          | 0/36 [00:00<?, ?it/s]"
            ],
            "application/vnd.jupyter.widget-view+json": {
              "version_major": 2,
              "version_minor": 0,
              "model_id": "cb35c654b74f4ef4a01410a9987e8bfd"
            }
          },
          "metadata": {
            "tags": []
          }
        },
        {
          "output_type": "display_data",
          "data": {
            "text/plain": [
              "  0%|          | 0/12 [00:00<?, ?it/s]"
            ],
            "application/vnd.jupyter.widget-view+json": {
              "version_major": 2,
              "version_minor": 0,
              "model_id": "e2e8dd90a6814e6991465e575f21ab08"
            }
          },
          "metadata": {
            "tags": []
          }
        },
        {
          "output_type": "display_data",
          "data": {
            "text/plain": [
              "  0%|          | 0/190 [00:00<?, ?it/s]"
            ],
            "application/vnd.jupyter.widget-view+json": {
              "version_major": 2,
              "version_minor": 0,
              "model_id": "2225286509bc40d1bc60411561c1f476"
            }
          },
          "metadata": {
            "tags": []
          }
        },
        {
          "output_type": "stream",
          "text": [
            "Epoch: 6  Train Loss: 0.0046  Train Acc: 99.9566  Valid Loss: 0.0038  Valid Acc: 100.0000 Test Loss: 0.0813  Test Acc: 97.3377 \n",
            "Saving Model\n",
            "Time Elapsed : 382.8427s\n"
          ],
          "name": "stdout"
        }
      ]
    },
    {
      "cell_type": "code",
      "metadata": {
        "execution": {
          "iopub.status.busy": "2021-06-01T14:12:04.541350Z",
          "iopub.execute_input": "2021-06-01T14:12:04.541761Z",
          "iopub.status.idle": "2021-06-01T14:20:27.343184Z",
          "shell.execute_reply.started": "2021-06-01T14:12:04.541715Z",
          "shell.execute_reply": "2021-06-01T14:20:27.341812Z"
        },
        "trusted": true,
        "colab": {
          "referenced_widgets": [
            "",
            "c7c5f8e660ad41e6abebfcd469f29d60",
            "8d51237a5e3844f285acd1cf35d2f0aa",
            "9f7cff3d5d8c41a99ca510431aab07bf",
            "1049a68957da499b8f86f4541e444730",
            "0db7658667264c3a9b5d103addbfafa5",
            "72d5551af7cb488596fca2d265596ef9",
            "3ec06c6b410f4fd29c078d6969417d49",
            "812ead2249b44ea78aee78f40df99ddd",
            "242449c8fd184e03af29eeee739eedbd",
            "c7d2420516de4a3f83100015bea80fdf",
            "038022706ac744759c4a5d4e866c5f96",
            "7d7aa22896e84f5ca646a5359019cb12",
            "7b276706e50747e1b3524f95456cfdae",
            "867f209b59aa4863ad69520d3fd6d890",
            "6317c95adf3e45a6b0bdc2fd439ff6c9",
            "77d2e778a40542d9b81e3e27a4f34d02",
            "435a2a24de524e71ae398a98f69933c4",
            "bed38df6bb88484c8bb5dfc0272520e8",
            "4fd2488400c04e5497a7dee6c7b07392",
            "08cc47b0ac8f474ea5bfaa5c8b85470c",
            "7bf94bf42382406db2a84ffaf310a693",
            "15ac8aa743184118918789daa3c81a30",
            "9a5d9d68a0cb42ec8e0c21c395614379",
            "d56b87fd47004ea2932a2779a8a5ab47"
          ]
        },
        "id": "8rOst62M9ZMj",
        "outputId": "20a313be-a4ee-4f25-eb62-41a5888eb0e5"
      },
      "source": [
        "wandb.init(name='25_SN1_Densenet161',\n",
        "           project='25_SN',\n",
        "           notes='3 Channels with Augs,Sobel', \n",
        "           tags=['SGD','StepLR'],\n",
        "           entity='creganstark')\n",
        "\n",
        "# WandB Configurations (optional)        \n",
        "wandb.config.lr = 1e-4\n",
        "#model=model.float()\n",
        "model = model.to(device)\n",
        "criterion = nn.CrossEntropyLoss()\n",
        "optimizer = optim.SGD(model.parameters(),\n",
        "                      lr  =  1e-4,\n",
        "                      momentum     = 0.9,\n",
        "                      nesterov     = True,\n",
        "                      weight_decay = 1e-4)\n",
        "\n",
        "#scheduler = optim.lr_scheduler.CyclicLR(optimizer,base_lr=5e-5,max_lr=5e-4 ,step_size_up=2000)\n",
        "scheduler = optim.lr_scheduler.StepLR(optimizer,step_size=9,gamma=0.5)\n",
        "# Log the network weight histograms (optional)\n",
        "#wandb.watch(model)\n",
        "\n",
        "num_epochs = 8\n",
        "start_time = time.time()\n",
        "prev_acc=0\n",
        "for epoch in range(1, num_epochs+1):\n",
        "    \n",
        "    loss_train, acc_train = train(model, criterion, optimizer, trainloader)\n",
        "    loss_valid, acc_valid = validate(model, criterion, valloader)\n",
        "    loss_test, acc_test = inference(model,criterion,testloader)\n",
        "    scheduler.step()\n",
        "    \n",
        "    print('Epoch: {}  Train Loss: {:.4f}  Train Acc: {:.4f}  Valid Loss: {:.4f}  Valid Acc: {:.4f} Test Loss: {:.4f}  Test Acc: {:.4f} '.format(epoch, loss_train, acc_train, loss_valid, acc_valid, loss_test, acc_test))\n",
        "\n",
        "    #Log the loss and accuracy values at the end of each epoch\n",
        "    wandb.log({\n",
        "        \"Epoch\": epoch,\n",
        "        \"Train Loss\": loss_train,\n",
        "        \"Train Acc\": acc_train,\n",
        "        \"Test Loss\": loss_test,\n",
        "        \"Test Acc\": acc_test})\n",
        "    if acc_test>prev_acc:\n",
        "      prev_acc=acc_test\n",
        "      acc_test=str(acc_test)\n",
        "      paths = \"test\"+acc_test[:7]+\".pt\"\n",
        "      print('Saving Model')\n",
        "      torch.save({\n",
        "          'epoch': epoch,\n",
        "          'model_state_dict': model.state_dict(),\n",
        "          'optimizer_state_dict': optimizer.state_dict(),\n",
        "          'val_loss': loss_valid,\n",
        "          'val_acc':acc_valid,\n",
        "          'train_acc':acc_train,\n",
        "          'loss_acc':loss_train,\n",
        "          },str(paths))\n",
        "\n",
        "print(\"Time Elapsed : {:.4f}s\".format(time.time() - start_time))\n",
        "#dba0dc08380296feb5c72e311f343c622485c0ac"
      ],
      "execution_count": null,
      "outputs": [
        {
          "output_type": "display_data",
          "data": {
            "text/plain": [
              "<IPython.core.display.HTML object>"
            ],
            "text/html": [
              "Finishing last run (ID:vrvnj9pc) before initializing another..."
            ]
          },
          "metadata": {
            "tags": []
          }
        },
        {
          "output_type": "display_data",
          "data": {
            "text/plain": [
              "<IPython.core.display.HTML object>"
            ],
            "text/html": [
              "<br/>Waiting for W&B process to finish, PID 5001<br/>Program ended successfully."
            ]
          },
          "metadata": {
            "tags": []
          }
        },
        {
          "output_type": "display_data",
          "data": {
            "text/plain": [
              "VBox(children=(Label(value=' 0.00MB of 0.00MB uploaded (0.00MB deduped)\\r'), FloatProgress(value=1.0, max=1.0)…"
            ],
            "application/vnd.jupyter.widget-view+json": {
              "version_major": 2,
              "version_minor": 0,
              "model_id": ""
            }
          },
          "metadata": {
            "tags": []
          }
        },
        {
          "output_type": "display_data",
          "data": {
            "text/plain": [
              "<IPython.core.display.HTML object>"
            ],
            "text/html": [
              "Find user logs for this run at: <code>/kaggle/working/wandb/run-20210601_140431-vrvnj9pc/logs/debug.log</code>"
            ]
          },
          "metadata": {
            "tags": []
          }
        },
        {
          "output_type": "display_data",
          "data": {
            "text/plain": [
              "<IPython.core.display.HTML object>"
            ],
            "text/html": [
              "Find internal logs for this run at: <code>/kaggle/working/wandb/run-20210601_140431-vrvnj9pc/logs/debug-internal.log</code>"
            ]
          },
          "metadata": {
            "tags": []
          }
        },
        {
          "output_type": "display_data",
          "data": {
            "text/plain": [
              "<IPython.core.display.HTML object>"
            ],
            "text/html": [
              "<h3>Run summary:</h3><br/><style>\n",
              "    table.wandb td:nth-child(1) { padding: 0 10px; text-align: right }\n",
              "    </style><table class=\"wandb\">\n",
              "<tr><td>Epoch</td><td>6</td></tr><tr><td>Train Loss</td><td>0.00455</td></tr><tr><td>Train Acc</td><td>99.9566</td></tr><tr><td>Test Loss</td><td>0.08133</td></tr><tr><td>Test Acc</td><td>97.33766</td></tr><tr><td>_runtime</td><td>389</td></tr><tr><td>_timestamp</td><td>1622556660</td></tr><tr><td>_step</td><td>5</td></tr></table>"
            ]
          },
          "metadata": {
            "tags": []
          }
        },
        {
          "output_type": "display_data",
          "data": {
            "text/plain": [
              "<IPython.core.display.HTML object>"
            ],
            "text/html": [
              "<h3>Run history:</h3><br/><style>\n",
              "    table.wandb td:nth-child(1) { padding: 0 10px; text-align: right }\n",
              "    </style><table class=\"wandb\">\n",
              "<tr><td>Epoch</td><td>▁▂▄▅▇█</td></tr><tr><td>Train Loss</td><td>▄██▄▅▁</td></tr><tr><td>Train Acc</td><td>▅▁▄▇██</td></tr><tr><td>Test Loss</td><td>█▇▅▅█▁</td></tr><tr><td>Test Acc</td><td>▁▂▄▅▂█</td></tr><tr><td>_runtime</td><td>▁▂▄▅▇█</td></tr><tr><td>_timestamp</td><td>▁▂▄▅▇█</td></tr><tr><td>_step</td><td>▁▂▄▅▇█</td></tr></table><br/>"
            ]
          },
          "metadata": {
            "tags": []
          }
        },
        {
          "output_type": "display_data",
          "data": {
            "text/plain": [
              "<IPython.core.display.HTML object>"
            ],
            "text/html": [
              "Synced 5 W&B file(s), 0 media file(s), 0 artifact file(s) and 0 other file(s)"
            ]
          },
          "metadata": {
            "tags": []
          }
        },
        {
          "output_type": "display_data",
          "data": {
            "text/plain": [
              "<IPython.core.display.HTML object>"
            ],
            "text/html": [
              "\n",
              "                    <br/>Synced <strong style=\"color:#cdcd00\">25_SN1_Densenet161</strong>: <a href=\"https://wandb.ai/creganstark/25_SN/runs/vrvnj9pc\" target=\"_blank\">https://wandb.ai/creganstark/25_SN/runs/vrvnj9pc</a><br/>\n",
              "                "
            ]
          },
          "metadata": {
            "tags": []
          }
        },
        {
          "output_type": "display_data",
          "data": {
            "text/plain": [
              "<IPython.core.display.HTML object>"
            ],
            "text/html": [
              "...Successfully finished last run (ID:vrvnj9pc). Initializing new run:<br/><br/>"
            ]
          },
          "metadata": {
            "tags": []
          }
        },
        {
          "output_type": "stream",
          "text": [
            "\u001b[34m\u001b[1mwandb\u001b[0m: wandb version 0.10.31 is available!  To upgrade, please run:\n",
            "\u001b[34m\u001b[1mwandb\u001b[0m:  $ pip install wandb --upgrade\n"
          ],
          "name": "stderr"
        },
        {
          "output_type": "display_data",
          "data": {
            "text/plain": [
              "<IPython.core.display.HTML object>"
            ],
            "text/html": [
              "\n",
              "                Tracking run with wandb version 0.10.26<br/>\n",
              "                Syncing run <strong style=\"color:#cdcd00\">25_SN1_Densenet161</strong> to <a href=\"https://wandb.ai\" target=\"_blank\">Weights & Biases</a> <a href=\"https://docs.wandb.com/integrations/jupyter.html\" target=\"_blank\">(Documentation)</a>.<br/>\n",
              "                Project page: <a href=\"https://wandb.ai/creganstark/25_SN\" target=\"_blank\">https://wandb.ai/creganstark/25_SN</a><br/>\n",
              "                Run page: <a href=\"https://wandb.ai/creganstark/25_SN/runs/3658uh56\" target=\"_blank\">https://wandb.ai/creganstark/25_SN/runs/3658uh56</a><br/>\n",
              "                Run data is saved locally in <code>/kaggle/working/wandb/run-20210601_141204-3658uh56</code><br/><br/>\n",
              "            "
            ]
          },
          "metadata": {
            "tags": []
          }
        },
        {
          "output_type": "display_data",
          "data": {
            "text/plain": [
              "  0%|          | 0/36 [00:00<?, ?it/s]"
            ],
            "application/vnd.jupyter.widget-view+json": {
              "version_major": 2,
              "version_minor": 0,
              "model_id": "c7c5f8e660ad41e6abebfcd469f29d60"
            }
          },
          "metadata": {
            "tags": []
          }
        },
        {
          "output_type": "display_data",
          "data": {
            "text/plain": [
              "  0%|          | 0/12 [00:00<?, ?it/s]"
            ],
            "application/vnd.jupyter.widget-view+json": {
              "version_major": 2,
              "version_minor": 0,
              "model_id": "8d51237a5e3844f285acd1cf35d2f0aa"
            }
          },
          "metadata": {
            "tags": []
          }
        },
        {
          "output_type": "display_data",
          "data": {
            "text/plain": [
              "  0%|          | 0/190 [00:00<?, ?it/s]"
            ],
            "application/vnd.jupyter.widget-view+json": {
              "version_major": 2,
              "version_minor": 0,
              "model_id": "9f7cff3d5d8c41a99ca510431aab07bf"
            }
          },
          "metadata": {
            "tags": []
          }
        },
        {
          "output_type": "stream",
          "text": [
            "Epoch: 1  Train Loss: 0.0052  Train Acc: 99.8915  Valid Loss: 0.0048  Valid Acc: 99.9349 Test Loss: 0.0823  Test Acc: 97.3837 \n",
            "Saving Model\n"
          ],
          "name": "stdout"
        },
        {
          "output_type": "display_data",
          "data": {
            "text/plain": [
              "  0%|          | 0/36 [00:00<?, ?it/s]"
            ],
            "application/vnd.jupyter.widget-view+json": {
              "version_major": 2,
              "version_minor": 0,
              "model_id": "1049a68957da499b8f86f4541e444730"
            }
          },
          "metadata": {
            "tags": []
          }
        },
        {
          "output_type": "display_data",
          "data": {
            "text/plain": [
              "  0%|          | 0/12 [00:00<?, ?it/s]"
            ],
            "application/vnd.jupyter.widget-view+json": {
              "version_major": 2,
              "version_minor": 0,
              "model_id": "0db7658667264c3a9b5d103addbfafa5"
            }
          },
          "metadata": {
            "tags": []
          }
        },
        {
          "output_type": "display_data",
          "data": {
            "text/plain": [
              "  0%|          | 0/190 [00:00<?, ?it/s]"
            ],
            "application/vnd.jupyter.widget-view+json": {
              "version_major": 2,
              "version_minor": 0,
              "model_id": "72d5551af7cb488596fca2d265596ef9"
            }
          },
          "metadata": {
            "tags": []
          }
        },
        {
          "output_type": "stream",
          "text": [
            "Epoch: 2  Train Loss: 0.0059  Train Acc: 99.8915  Valid Loss: 0.0040  Valid Acc: 99.9349 Test Loss: 0.0843  Test Acc: 97.1930 \n"
          ],
          "name": "stdout"
        },
        {
          "output_type": "display_data",
          "data": {
            "text/plain": [
              "  0%|          | 0/36 [00:00<?, ?it/s]"
            ],
            "application/vnd.jupyter.widget-view+json": {
              "version_major": 2,
              "version_minor": 0,
              "model_id": "3ec06c6b410f4fd29c078d6969417d49"
            }
          },
          "metadata": {
            "tags": []
          }
        },
        {
          "output_type": "display_data",
          "data": {
            "text/plain": [
              "  0%|          | 0/12 [00:00<?, ?it/s]"
            ],
            "application/vnd.jupyter.widget-view+json": {
              "version_major": 2,
              "version_minor": 0,
              "model_id": "812ead2249b44ea78aee78f40df99ddd"
            }
          },
          "metadata": {
            "tags": []
          }
        },
        {
          "output_type": "display_data",
          "data": {
            "text/plain": [
              "  0%|          | 0/190 [00:00<?, ?it/s]"
            ],
            "application/vnd.jupyter.widget-view+json": {
              "version_major": 2,
              "version_minor": 0,
              "model_id": "242449c8fd184e03af29eeee739eedbd"
            }
          },
          "metadata": {
            "tags": []
          }
        },
        {
          "output_type": "stream",
          "text": [
            "Epoch: 3  Train Loss: 0.0045  Train Acc: 99.9783  Valid Loss: 0.0046  Valid Acc: 99.9349 Test Loss: 0.0823  Test Acc: 97.2809 \n"
          ],
          "name": "stdout"
        },
        {
          "output_type": "display_data",
          "data": {
            "text/plain": [
              "  0%|          | 0/36 [00:00<?, ?it/s]"
            ],
            "application/vnd.jupyter.widget-view+json": {
              "version_major": 2,
              "version_minor": 0,
              "model_id": "c7d2420516de4a3f83100015bea80fdf"
            }
          },
          "metadata": {
            "tags": []
          }
        },
        {
          "output_type": "display_data",
          "data": {
            "text/plain": [
              "  0%|          | 0/12 [00:00<?, ?it/s]"
            ],
            "application/vnd.jupyter.widget-view+json": {
              "version_major": 2,
              "version_minor": 0,
              "model_id": "038022706ac744759c4a5d4e866c5f96"
            }
          },
          "metadata": {
            "tags": []
          }
        },
        {
          "output_type": "display_data",
          "data": {
            "text/plain": [
              "  0%|          | 0/190 [00:00<?, ?it/s]"
            ],
            "application/vnd.jupyter.widget-view+json": {
              "version_major": 2,
              "version_minor": 0,
              "model_id": "7d7aa22896e84f5ca646a5359019cb12"
            }
          },
          "metadata": {
            "tags": []
          }
        },
        {
          "output_type": "stream",
          "text": [
            "Epoch: 4  Train Loss: 0.0046  Train Acc: 99.9566  Valid Loss: 0.0041  Valid Acc: 99.9349 Test Loss: 0.0850  Test Acc: 97.1781 \n"
          ],
          "name": "stdout"
        },
        {
          "output_type": "display_data",
          "data": {
            "text/plain": [
              "  0%|          | 0/36 [00:00<?, ?it/s]"
            ],
            "application/vnd.jupyter.widget-view+json": {
              "version_major": 2,
              "version_minor": 0,
              "model_id": "7b276706e50747e1b3524f95456cfdae"
            }
          },
          "metadata": {
            "tags": []
          }
        },
        {
          "output_type": "display_data",
          "data": {
            "text/plain": [
              "  0%|          | 0/12 [00:00<?, ?it/s]"
            ],
            "application/vnd.jupyter.widget-view+json": {
              "version_major": 2,
              "version_minor": 0,
              "model_id": "867f209b59aa4863ad69520d3fd6d890"
            }
          },
          "metadata": {
            "tags": []
          }
        },
        {
          "output_type": "display_data",
          "data": {
            "text/plain": [
              "  0%|          | 0/190 [00:00<?, ?it/s]"
            ],
            "application/vnd.jupyter.widget-view+json": {
              "version_major": 2,
              "version_minor": 0,
              "model_id": "6317c95adf3e45a6b0bdc2fd439ff6c9"
            }
          },
          "metadata": {
            "tags": []
          }
        },
        {
          "output_type": "stream",
          "text": [
            "Epoch: 5  Train Loss: 0.0046  Train Acc: 99.9783  Valid Loss: 0.0032  Valid Acc: 100.0000 Test Loss: 0.0831  Test Acc: 97.2431 \n"
          ],
          "name": "stdout"
        },
        {
          "output_type": "display_data",
          "data": {
            "text/plain": [
              "  0%|          | 0/36 [00:00<?, ?it/s]"
            ],
            "application/vnd.jupyter.widget-view+json": {
              "version_major": 2,
              "version_minor": 0,
              "model_id": "77d2e778a40542d9b81e3e27a4f34d02"
            }
          },
          "metadata": {
            "tags": []
          }
        },
        {
          "output_type": "display_data",
          "data": {
            "text/plain": [
              "  0%|          | 0/12 [00:00<?, ?it/s]"
            ],
            "application/vnd.jupyter.widget-view+json": {
              "version_major": 2,
              "version_minor": 0,
              "model_id": "435a2a24de524e71ae398a98f69933c4"
            }
          },
          "metadata": {
            "tags": []
          }
        },
        {
          "output_type": "display_data",
          "data": {
            "text/plain": [
              "  0%|          | 0/190 [00:00<?, ?it/s]"
            ],
            "application/vnd.jupyter.widget-view+json": {
              "version_major": 2,
              "version_minor": 0,
              "model_id": "bed38df6bb88484c8bb5dfc0272520e8"
            }
          },
          "metadata": {
            "tags": []
          }
        },
        {
          "output_type": "stream",
          "text": [
            "Epoch: 6  Train Loss: 0.0051  Train Acc: 99.9349  Valid Loss: 0.0038  Valid Acc: 99.9349 Test Loss: 0.0849  Test Acc: 97.1534 \n"
          ],
          "name": "stdout"
        },
        {
          "output_type": "display_data",
          "data": {
            "text/plain": [
              "  0%|          | 0/36 [00:00<?, ?it/s]"
            ],
            "application/vnd.jupyter.widget-view+json": {
              "version_major": 2,
              "version_minor": 0,
              "model_id": "4fd2488400c04e5497a7dee6c7b07392"
            }
          },
          "metadata": {
            "tags": []
          }
        },
        {
          "output_type": "display_data",
          "data": {
            "text/plain": [
              "  0%|          | 0/12 [00:00<?, ?it/s]"
            ],
            "application/vnd.jupyter.widget-view+json": {
              "version_major": 2,
              "version_minor": 0,
              "model_id": "08cc47b0ac8f474ea5bfaa5c8b85470c"
            }
          },
          "metadata": {
            "tags": []
          }
        },
        {
          "output_type": "display_data",
          "data": {
            "text/plain": [
              "  0%|          | 0/190 [00:00<?, ?it/s]"
            ],
            "application/vnd.jupyter.widget-view+json": {
              "version_major": 2,
              "version_minor": 0,
              "model_id": "7bf94bf42382406db2a84ffaf310a693"
            }
          },
          "metadata": {
            "tags": []
          }
        },
        {
          "output_type": "stream",
          "text": [
            "Epoch: 7  Train Loss: 0.0054  Train Acc: 99.8983  Valid Loss: 0.0032  Valid Acc: 100.0000 Test Loss: 0.0832  Test Acc: 97.2192 \n"
          ],
          "name": "stdout"
        },
        {
          "output_type": "display_data",
          "data": {
            "text/plain": [
              "  0%|          | 0/36 [00:00<?, ?it/s]"
            ],
            "application/vnd.jupyter.widget-view+json": {
              "version_major": 2,
              "version_minor": 0,
              "model_id": "15ac8aa743184118918789daa3c81a30"
            }
          },
          "metadata": {
            "tags": []
          }
        },
        {
          "output_type": "display_data",
          "data": {
            "text/plain": [
              "  0%|          | 0/12 [00:00<?, ?it/s]"
            ],
            "application/vnd.jupyter.widget-view+json": {
              "version_major": 2,
              "version_minor": 0,
              "model_id": "9a5d9d68a0cb42ec8e0c21c395614379"
            }
          },
          "metadata": {
            "tags": []
          }
        },
        {
          "output_type": "display_data",
          "data": {
            "text/plain": [
              "  0%|          | 0/190 [00:00<?, ?it/s]"
            ],
            "application/vnd.jupyter.widget-view+json": {
              "version_major": 2,
              "version_minor": 0,
              "model_id": "d56b87fd47004ea2932a2779a8a5ab47"
            }
          },
          "metadata": {
            "tags": []
          }
        },
        {
          "output_type": "stream",
          "text": [
            "Epoch: 8  Train Loss: 0.0046  Train Acc: 99.9566  Valid Loss: 0.0038  Valid Acc: 100.0000 Test Loss: 0.0746  Test Acc: 97.6132 \n",
            "Saving Model\n",
            "Time Elapsed : 497.2012s\n"
          ],
          "name": "stdout"
        }
      ]
    },
    {
      "cell_type": "code",
      "metadata": {
        "execution": {
          "iopub.status.busy": "2021-06-01T14:04:07.344278Z",
          "iopub.execute_input": "2021-06-01T14:04:07.344659Z",
          "iopub.status.idle": "2021-06-01T14:04:12.172418Z",
          "shell.execute_reply.started": "2021-06-01T14:04:07.344620Z",
          "shell.execute_reply": "2021-06-01T14:04:12.171494Z"
        },
        "trusted": true,
        "id": "OneQ4I9X9ZMj",
        "outputId": "7f8ba135-78fa-4694-b572-c3468bb93977"
      },
      "source": [
        "ckpt=torch.load('./test97.3877.pt')\n",
        "model.load_state_dict(ckpt['model_state_dict'])"
      ],
      "execution_count": null,
      "outputs": [
        {
          "output_type": "execute_result",
          "data": {
            "text/plain": [
              "<All keys matched successfully>"
            ]
          },
          "metadata": {
            "tags": []
          },
          "execution_count": 16
        }
      ]
    },
    {
      "cell_type": "code",
      "metadata": {
        "execution": {
          "iopub.status.busy": "2021-06-01T12:13:33.838942Z",
          "iopub.execute_input": "2021-06-01T12:13:33.839321Z",
          "iopub.status.idle": "2021-06-01T12:13:34.296930Z",
          "shell.execute_reply.started": "2021-06-01T12:13:33.839274Z",
          "shell.execute_reply": "2021-06-01T12:13:34.296035Z"
        },
        "trusted": true,
        "id": "QRebTgSS9ZMk"
      },
      "source": [
        "paths='final50dense161.pt'\n",
        "torch.save({\n",
        "          'epoch': epoch,\n",
        "          'model_state_dict': model.state_dict(),\n",
        "          'optimizer_state_dict': optimizer.state_dict(),\n",
        "          'val_loss': loss_valid,\n",
        "          'val_acc':acc_valid,\n",
        "          'train_acc':acc_train,\n",
        "          'loss_acc':loss_train,\n",
        "          },str(paths))"
      ],
      "execution_count": null,
      "outputs": []
    },
    {
      "cell_type": "markdown",
      "metadata": {
        "id": "45_9Sh---Sfy"
      },
      "source": [
        "LeNet7 & LeNet7 Pro, Only Version on Web! ;)"
      ]
    },
    {
      "cell_type": "code",
      "metadata": {
        "execution": {
          "iopub.status.busy": "2021-06-01T13:32:46.632433Z",
          "iopub.execute_input": "2021-06-01T13:32:46.632921Z",
          "iopub.status.idle": "2021-06-01T13:32:46.697572Z",
          "shell.execute_reply.started": "2021-06-01T13:32:46.632824Z",
          "shell.execute_reply": "2021-06-01T13:32:46.696117Z"
        },
        "trusted": true,
        "id": "7vtBMZf89ZMk",
        "outputId": "58421888-a859-48d6-858b-0fa65da4bef4"
      },
      "source": [
        "class LeNet7Pro(nn.Module):\n",
        "    \n",
        "    def __init__(self,depthwise,c3block,proc1):\n",
        "        super(LeNet7Pro, self).__init__()\n",
        "        self.conv1 = nn.Conv2d(1,2,5)\n",
        "        self.conv1b= nn.Conv2d(1,2,5)\n",
        "        self.conv2 = nn.Conv2d(2,4,5)\n",
        "        self.conv3 = nn.Conv2d(4,1,6)\n",
        "        self.c3block = c3block\n",
        "        self.depthwise = depthwise\n",
        "        self.proc1 = proc1\n",
        "        self.maxpool1 = nn.MaxPool2d(4)\n",
        "        self.maxpool2 = nn.MaxPool2d(3)\n",
        "        self.conv4 = nn.Conv2d(24,100,6)\n",
        "        self.linear= nn.Linear(102,5)\n",
        "        self.norm = nn.BatchNorm2d(100)\n",
        "    def forward(self,x,info):\n",
        "        ch1,ch2 = self.proc1(x)\n",
        "        b1 = self.conv1(ch1)\n",
        "        b2 = self.conv1b(ch2)\n",
        "        b3 = self.conv2(x)\n",
        "        y  = torch.cat([b1,b2,b3],dim=1)\n",
        "        y  = self.maxpool1(y)\n",
        "        y  = self.c3block(y)\n",
        "        y  = self.depthwise(y)\n",
        "        y  = self.maxpool2(y)\n",
        "        y  = self.conv4(y)\n",
        "        y  = F.relu(y, inplace=True)\n",
        "        y  = self.norm(y)\n",
        "        y  = torch.flatten(y, 1)\n",
        "        y  = torch.cat((y,info),1)\n",
        "        y  = self.linear(y)\n",
        "        return y\n",
        "    \n",
        "model=LeNet7Pro(depthwise,c3iter,proc1)\n",
        "class depthwise_conv(nn.Module):\n",
        "    def __init__(self, nin):\n",
        "        super(depthwise_conv, self).__init__()\n",
        "        self.depthwise = nn.Conv2d(nin, 24, kernel_size=6, padding=0, groups=24)\n",
        "        \n",
        "\n",
        "    def forward(self, x):\n",
        "        out = self.depthwise(x)\n",
        "        return out\n",
        "depthwise=depthwise_conv(96)\n",
        "image,info,label=dataset[39]\n",
        "def proc(image):\n",
        "    image=image.permute(1,0,2,3)\n",
        "    channel1=image[0].unsqueeze(0)\n",
        "    channel2=image[1].unsqueeze(0)\n",
        "    #channel1=batcher(channel1)\n",
        "    #channel2=batcher(channel2)\n",
        "    return channel1.shape,channel2.shape\n",
        "image=batcher(image)\n",
        "print(channel1.shape,channel2.shape,image.shape)\n",
        "def batcher(image):\n",
        "        image=image.unsqueeze(0)\n",
        "        return image\n",
        "\n",
        "class LeNet7(nn.Module):\n",
        "    \n",
        "    def __init__(self,depthwise,c3block):\n",
        "        super(LeNet7, self).__init__()\n",
        "        self.conv1 = nn.Conv2d(1,2,5)\n",
        "        self.conv1b= nn.Conv2d(1,2,5)\n",
        "        self.conv2 = nn.Conv2d(2,4,5)\n",
        "        self.conv3 = nn.Conv2d(4,1,6)\n",
        "        self.c3block = c3block\n",
        "        self.depthwise = depthwise\n",
        "        self.maxpool1 = nn.MaxPool2d(4)\n",
        "        self.maxpool2 = nn.MaxPool2d(3)\n",
        "        self.conv4 = nn.Conv2d(24,100,6)\n",
        "        self.linear= nn.Linear(100,5)\n",
        "        \n",
        "    def forward(self,x,ch1,ch2):\n",
        "        b1 = self.conv1(ch1)\n",
        "        b2 = self.conv1b(ch2)\n",
        "        b3 = self.conv2(x)\n",
        "        y  = torch.cat([b1,b2,b3],dim=1)\n",
        "        y  = self.maxpool1(y)\n",
        "        y  = self.c3block(y)\n",
        "        y  = self.depthwise(y)\n",
        "        y  = self.maxpool2(y)\n",
        "        y  = self.conv4(y)\n",
        "        y  = F.relu(y, inplace=True)\n",
        "        y  = F.batchnorm_2d(y)\n",
        "        y  = torch.flatten(y, 1)\n",
        "        y  = self.linear(y)\n",
        "        return y\n",
        "    \n",
        "#model=LeNet7(depthwise,c3iter)\n",
        "def batcher(image):\n",
        "    image=image.unsqueeze(0)\n",
        "    return image \n",
        "def c3build(y,i,j):\n",
        "    c=torch.cat([y[0][i].unsqueeze(0),y[0][j].unsqueeze(0)],dim=0)\n",
        "    return c\n",
        "def c3maker(y):\n",
        "    lis1=[]\n",
        "    a=[0,1,1,0]\n",
        "    b=[2,3,2,4]\n",
        "    for i,j in zip(a,b):\n",
        "        c=c3build(y,i,j)\n",
        "        #print(i,j)\n",
        "        lis1.append(c) \n",
        "        \n",
        "    lis2=[]\n",
        "    d=[4,5,6,7]\n",
        "    for i in range(len(d)):\n",
        "        for j in range(i+1,len(d)):\n",
        "            c=c3build(y,d[i],d[j])\n",
        "            #print(d[i],d[j])\n",
        "            lis2.append(c)\n",
        "    return lis1,lis2\n",
        "def c3iter(y): \n",
        "    y=y.permute(1,2,3,0)\n",
        "    y=batcher(y)\n",
        "    lis1,lis2=c3maker(y)\n",
        "    for i in range(len(lis1)):\n",
        "        for j in range(len(lis2)):\n",
        "            a=lis1[i]\n",
        "            b=lis2[j]\n",
        "            \n",
        "            buff=torch.cat([a,b],dim=0)\n",
        "            if i==0 and j==0:\n",
        "                x=buff\n",
        "            else:\n",
        "                x=torch.cat([x,buff],dim=0)\n",
        "    return x.permute(3,0,1,2)\n",
        "def proc1(image):\n",
        "    image1=image.permute(1,0,2,3)\n",
        "    ch1=image1[0].unsqueeze(1)\n",
        "    ch2=image1[1].unsqueeze(1)\n",
        "    return ch1,ch2\n",
        "    \n",
        "import PIL\n",
        "import tensorflow as tf\n",
        "from PIL import ImageStat\n",
        "class Stats(ImageStat.Stat):\n",
        "    def __add__(self, other):\n",
        "        return Stats(list(np.add(self.h, other.h)))\n",
        "    \n",
        "statistics = None\n",
        "toPIL=transforms.ToPILImage()\n",
        "dataset=Toys(loaded_data)\n",
        "loader = DataLoader(dataset,\n",
        "        batch_size=128, shuffle=True,num_workers= 2)\n",
        "print(PIL.__version__)\n",
        "\n",
        "for data, _ in loader:\n",
        "    for b in range(data.shape[0]):\n",
        "        if statistics is None:\n",
        "            print(type(toPIL(data[b])))\n",
        "            statistics = Stats(toPIL(data[b]))\n",
        "        else:\n",
        "            statistics += Stats(toPIL(data[b]))\n",
        "print(f'mean:{statistics.mean}, std:{statistics.stddev}')\n"
      ],
      "execution_count": null,
      "outputs": [
        {
          "output_type": "error",
          "ename": "NameError",
          "evalue": "name 'torch' is not defined",
          "traceback": [
            "\u001b[0;31m---------------------------------------------------------------------------\u001b[0m",
            "\u001b[0;31mNameError\u001b[0m                                 Traceback (most recent call last)",
            "\u001b[0;32m<ipython-input-1-18bf08814031>\u001b[0m in \u001b[0;36m<module>\u001b[0;34m\u001b[0m\n\u001b[0;32m----> 1\u001b[0;31m \u001b[0mtorch\u001b[0m\u001b[0;34m.\u001b[0m\u001b[0mcuda\u001b[0m\u001b[0;34m.\u001b[0m\u001b[0mempty_cache\u001b[0m\u001b[0;34m(\u001b[0m\u001b[0;34m)\u001b[0m\u001b[0;34m\u001b[0m\u001b[0;34m\u001b[0m\u001b[0m\n\u001b[0m",
            "\u001b[0;31mNameError\u001b[0m: name 'torch' is not defined"
          ]
        }
      ]
    }
  ]
}